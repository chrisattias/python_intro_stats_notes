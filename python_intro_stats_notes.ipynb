{
 "cells": [
  {
   "cell_type": "markdown",
   "id": "e79ef7d6-64ac-4561-a0c2-294f0a82c1fd",
   "metadata": {
    "tags": []
   },
   "source": [
    "# Introductory Statistics with Python\n",
    "- *by Attius!*\n",
    "- *Last updated December 2021*"
   ]
  },
  {
   "cell_type": "markdown",
   "id": "48b7bc50-1a2e-4961-bddf-ca2b7b77bb2a",
   "metadata": {},
   "source": [
    "---"
   ]
  },
  {
   "cell_type": "markdown",
   "id": "b72e8d42-dec0-4138-9878-011c546ef5d7",
   "metadata": {},
   "source": [
    "# Learning Resources\n",
    "1. *Statistics with Python Specialization*--3 part Coursera course series from the University of Michigan on introductory statistics using the Python programming language.  Taught by Brenda Gunderson, Brady T. West, and Kerby Shedden.\n",
    "1. *Statistics with R Specialization*--5 part Coursera course series from Duke University on introductory statistics.  Primarily taught by Mine Cetinkaya-Rundel.  This course series in turn uses the [OpenIntro Statistics](input/openintro_statistics.pdf) textbook written by David Diez and Mine Cetinkaya-Rundel.  Though the specialization is written for the R programming language, it remains a good resource for anyone learning statistics.  The authors have also written the [Introduction to Modern Statistics](input/Introduction_Modern_Statistics.pdf) textbook that focuses on resampling simulations for confidence intervals and hypothesis testing.\n",
    "1. [ModernDive](https://moderndive.com/index.html)---textbook written by Chester Ismay and Albert Y. Kim that also focuses on resampling simulations for confidence intervals and hypothesis testing.  It also uses the R programming language.\n",
    "1. *[SciPy Documentation](https://scipy.github.io/devdocs/index.html)*--online documentation for the SciPy Python library\n",
    "1. *[Statsmodels Documentation](https://www.statsmodels.org/stable/index.html)*--online documentation for the statsmodels Python library\n",
    "1. *[W3Schools](https://www.w3schools.com/python/default.asp)*--quickly covers all the major parts of the Python language as well as the data science libraries Pandas, NumPy, SciPy, and Matplotlib\n",
    "1. See Python Pandas Notes notebook for more information on NumPy and Pandas\n",
    "1. See Python Seaborn Notes notebook for more information Matplotlib and Seaborn"
   ]
  },
  {
   "cell_type": "markdown",
   "id": "df0e9821-6590-473f-8eae-09e011678cff",
   "metadata": {},
   "source": [
    "---"
   ]
  },
  {
   "cell_type": "markdown",
   "id": "d0722784-4744-4b60-8690-02fd0d5a9e9b",
   "metadata": {
    "tags": []
   },
   "source": [
    "# Statistics Topics Covered\n",
    "1. **Statistical Studies**---randomly sample population and/or randomly assign subjects to treatment groups so that study can be generalized to population and/or show causation\n",
    "1. **Descriptive Statistics**---calculate summary statistics and create data visualizations using sample or population data\n",
    "1. **Probability**---calculate probability of one or more independent or dependent events\n",
    "1. **Theoretical Probability Distributions**---represent populations with theoretical probability distributions and calculate probability of observing certain values.  Population parameters must be known to use distributions on their own.  If population parameters are NOT known then theoretical probability distributions are incorporated into inference.\n",
    "1. **Frequentist Inference**---inference is used when we do NOT already know population parameters.  Estimate population parameters, calculate uncertainty in population parameter estimates with confidence intervals, and decide whether groups are likely the same with hypothesis tests.  We can use either theoretical or simulation based frequentist methods.\n",
    "1. **Linear Regression**---create regression lines that model the relationship between associated variables in sample or population data.  When sample data is used we also estimate likelihood of model using frequentist inference.  We do not cover Bayesian regression.\n",
    "1. **Bayesian Inference**--- used when we do NOT already know population parameters.  Update prior probability, incorporate estimate of population parameter into likelihood, and use Bayes's rule to calculate posterior probabilities.  Calculate uncertainty in population parameters estimates with credible intervals and test hypotheses.\n",
    "\n",
    "- Different sections may focus only on statistical concepts while other sections display Python code\n",
    "    - *Statistical Studies* has no Python code examples\n",
    "    - *Descriptive Statistics* has many Python code examples\n",
    "    - *Probability* has no Python code examples\n",
    "    - *Theoretical Probability Distributions* has many Python code examples\n",
    "    - *Frequentist Inference* has many Python code examples\n",
    "    - *Linear Regression* has one Python code example\n",
    "    - *Bayesian Inference* has one Python code example"
   ]
  },
  {
   "cell_type": "markdown",
   "id": "9300387b-aaa9-4e17-bc5d-0450912dd200",
   "metadata": {},
   "source": [
    "---"
   ]
  },
  {
   "cell_type": "markdown",
   "id": "967da0b0-1a81-4333-b195-7493120f57c7",
   "metadata": {
    "tags": []
   },
   "source": [
    "# Python Libraries Used\n",
    "\n",
    "1. **NumPy**--contains the highly efficient \"array\" data structure and associated functions.  Many other libraries use arrays as their underlying data structure. \n",
    "1. **Pandas**--contains a tabular data structure called a \"data frame\". Contains many functions essential to data science.  Built upon NumPy arrays.\n",
    "1. **SciPy**--stands for Scientific Python.  Built upon NumPy arrays and written by same author.  Modules within SciPy are imported separately.  We'll primarily use the stats module.  Contains probability distributions, summary and frequency statistics, correlation functions, statistical tests, masked statistics, kernel density estimation, quasi-Monte Carlo functionality, and more.  Outputs simpler results.\n",
    "1. **Statsmodels**--regression and linear models, time series analysis, hypothesis tests, and more.  Like an extension of the SciPy stats module that improves modeling capabilities. Outputs more detailed results than SciPy.\n",
    "1. **Pingouin**--newer library built upon SciPy and Statsmodels that attempts to provide a more consistent user interface for  the most common statistical tests and regression models.  We do not use Pingouin, but good to be aware of it.\n",
    "1. **Matplotlib**--low level code for static image data visualization.  Created in 2003.  Designed to have a MATLAB-like interface.   Many other data visualization libraries are built on top of Matplotlib.\n",
    "1. **Seaborn**--high level code for static image data visualization built on top of Matplotlib"
   ]
  },
  {
   "cell_type": "markdown",
   "id": "3c8111e0-888e-45c8-8b3c-c6bf46c1467e",
   "metadata": {},
   "source": [
    "---"
   ]
  },
  {
   "cell_type": "markdown",
   "id": "bf69db3b-03bd-42aa-98e0-1a2dbda50f39",
   "metadata": {},
   "source": [
    "## Import Python Libraries"
   ]
  },
  {
   "cell_type": "code",
   "execution_count": 1,
   "id": "aad9fd1f-afe1-4e0b-97aa-7037f19ae61d",
   "metadata": {},
   "outputs": [],
   "source": [
    "# Import libraries used\n",
    "import numpy as np\n",
    "import pandas as pd\n",
    "import scipy.stats as stats\n",
    "import statsmodels.api as sm\n",
    "import matplotlib.pyplot as plt\n",
    "import seaborn as sns\n",
    "from math import sqrt"
   ]
  },
  {
   "cell_type": "code",
   "execution_count": 2,
   "id": "d1433dc6-dcd9-4cfd-ba6f-5db697fca4a4",
   "metadata": {},
   "outputs": [
    {
     "name": "stdout",
     "output_type": "stream",
     "text": [
      "There were originally 344 records in the dataset.\n",
      "There are 333 records in the dataset after dropping any records with null values.\n"
     ]
    }
   ],
   "source": [
    "# Prepare example data used throughout\n",
    "\n",
    "pd.set_option('display.max_columns', 30) # See all columns of a DataFrame.\n",
    "sns.set_theme(style=\"whitegrid\")  # Makes graphs pretty.\n",
    "penguins = sns.load_dataset(\"penguins\")  # Load example dataset from Seaborn\n",
    "print(f'There were originally {penguins.shape[0]} records in the dataset.')\n",
    "penguins = penguins.dropna()  # Drop records with any null values\n",
    "print(\n",
    "    f'There are {penguins.shape[0]} records in the dataset after dropping '\n",
    "    'any records with null values.'\n",
    ")"
   ]
  },
  {
   "cell_type": "markdown",
   "id": "5904444f-5e30-4d21-ad5c-3a0f96d0cbbe",
   "metadata": {},
   "source": [
    "---"
   ]
  },
  {
   "cell_type": "markdown",
   "id": "234555d4-73ca-4e05-b6fa-baf74a31b3dd",
   "metadata": {
    "tags": []
   },
   "source": [
    "# Statistical Studies"
   ]
  },
  {
   "cell_type": "markdown",
   "id": "2168bc79-d294-4df2-af22-1fcc62b95bae",
   "metadata": {},
   "source": [
    "---"
   ]
  },
  {
   "cell_type": "markdown",
   "id": "16064795-9a0a-44b4-b3de-ce9f176140cf",
   "metadata": {},
   "source": [
    "## Variable Types\n",
    "- Statistical studies, probability, probability distributions, frequentist statistics, regression modeling, and Bayesian statistics all have different methods to match the number and type of variables our data contains\n",
    "\n",
    "![](pictures/variable_types.PNG)\n",
    "\n",
    "- Numerical variables are also called **quantitative**.  Statistics like mean and standard deviation can be calculated from numerical data.\n",
    "- Categorical variables are also called **qualitative**.  Note that we often count the number of things within categories.  This generates count data (discrete numerical data).  Statistics like frequency and relative frequency (proportion) can be calculated from categorical data.  See *Visualizing* section to see how count data is displayed in one-way frequency and two-way contingency tables.\n",
    "- **Category/level/group**--each division of a categorical variable\n",
    "    - E.g. if variable is colors of the rainbow then levels are red, orange, yellow...\n",
    "- Determining variable type is straight forward for most cases.  However, it can be unclear how to treat integer data.  The intent of the study will determines this. Generally, we treat them as:\n",
    "    1. Continuous numerical if it is a continuous numerical variable rounded to an integer.  Continuous variables can take on any value in theory, but when they are measured they are always rounded, whether that be to a decimal or an integer.\n",
    "        - E.g. year, temperature, weight, height, score on exam, etc. \n",
    "    1. Discrete numerical if it is non-binary count data.  Numerical variables have a defined **scale** where the distance between integers carries the same meaning.\n",
    "        - E.g. number of children\n",
    "    1. Ordinal categorical if it binary count data or there is no defined scale\n",
    "        - E.g. binary counts.  1/0, \"Yes\"/\"No\".\n",
    "        - E.g. school grade level.  Here, scale is not defined.    \n",
    "        - E.g. rankings and ratings.  Here, scale is not defined.  However, we often treat these as numerical values in analysis anyway.  Think IMBD or Rotten Tomatoes."
   ]
  },
  {
   "cell_type": "markdown",
   "id": "b549733e-58e4-4e26-9db6-24d74e6aa098",
   "metadata": {},
   "source": [
    "---"
   ]
  },
  {
   "cell_type": "markdown",
   "id": "59080fc4-a8b5-4900-9269-e62774922de7",
   "metadata": {
    "tags": []
   },
   "source": [
    "## Associated Variables\n",
    "- There are many terms for describing how variables are related\n",
    "- **Independent**---two variables do NOT affect each other\n",
    "- **Associated**---two variables do affect each other\n",
    "  - **Predictor/explanatory/independent/exogenous**---variable that affects other variable(s)\n",
    "  - **Response/outcome/dependent/endogenous**---variable affected by other variable(s)\n",
    "  - **Correlation**---associated variables.  One variable changes along with, but *not necessarily because* of another.\n",
    "  - **Causation**---associated variables.  One variable changes *because* of another.\n",
    "  - **Confounding variables**---AKA confounding factors or confounders.  Variables associated with both explanatory and response variable that make it hard to determine causation.\n",
    "      - E.g. if the goal is to determine if sunscreen causes cancer, then sun exposure is a confounding factor.  Sun exposure is associated with both the explanatory and response variable.\n",
    "\n",
    "![](pictures/confounding_factor.jpg)"
   ]
  },
  {
   "cell_type": "markdown",
   "id": "efccf1df-f742-4f25-a08d-3f2ce83963a7",
   "metadata": {},
   "source": [
    "---"
   ]
  },
  {
   "cell_type": "markdown",
   "id": "69bf1283-dab3-4fa6-9971-13f742063dda",
   "metadata": {
    "tags": []
   },
   "source": [
    "## Study Types"
   ]
  },
  {
   "cell_type": "markdown",
   "id": "144fd714-f0f2-4cc9-8304-8afc69c0d38b",
   "metadata": {},
   "source": [
    "1. **Observational Study**--collect data in a way that does not interfere with how data arises. AKA observe.\n",
    "    - Randomly sample from population\n",
    "    - Observational studies can only establish a correlation (usually) because of confounding variables\n",
    "    - **Retrospective Study**---uses past data\n",
    "    - **Prospective Study**---uses data collected throughout the study\n",
    "    - E.g. randomly select subjects.  Poll them on whether they work out or not and their energy levels.\n",
    "1. **Experimental Study**--randomly sample from population AND randomly assign subjects to treatment groups\n",
    "    - **Control Group**---subjects that do NOT receive treatment.  Used when we want to compare the outcome of subjects who receive a treatment to those who do not receive a treatment.\n",
    "    - Experimental studies can establish causation.  Confounding variables are likely equally represented in groups and will cancel each other out.\n",
    "    - E.g. randomly select subjects.  Randomly assign subjects into two groups, workout and no workout.  Pole them on energy levels."
   ]
  },
  {
   "cell_type": "markdown",
   "id": "32145815-1cee-4d84-90a9-678208159cec",
   "metadata": {},
   "source": [
    "---"
   ]
  },
  {
   "cell_type": "markdown",
   "id": "cd4b1708-96db-44b3-9172-ec5c02bf16cc",
   "metadata": {
    "tags": []
   },
   "source": [
    "## Sampling vs Assignment\n",
    "- Observational studies have sampling.  They do not have assignment.\n",
    "- Experimental studies have both.  Sampling occurs first, then assignment.\n",
    "- The following experiment has the goal of finding effects of serif fonts on reading speed\n",
    "\n",
    "![](pictures/random_sample_assignment.jpg)"
   ]
  },
  {
   "cell_type": "markdown",
   "id": "264efcf3-e0a3-47a5-b7b9-205c129153bf",
   "metadata": {},
   "source": [
    "---"
   ]
  },
  {
   "cell_type": "markdown",
   "id": "bd069e31-92cf-4583-b918-c8b4f621108e",
   "metadata": {},
   "source": [
    "## Sampling\n",
    "- **Population**--collection of members or elements (people, animals, things, etc.).  To explicitly define target population we must include time, area, and applicable demographics.\n",
    "    - E.g. all public high school students in a certain school district in the year 2030\n",
    "- **Census**---measure entire population.  In practice miss some subjects.\n",
    "    - E.g. ask *all* students in the school district if football is their favorite sport \n",
    "- **Sample**---measure a subset of the population.  Done because performing a census is resource intensive.\n",
    "    - E.g. ask *sample* of students in school district if football is their favorite sport "
   ]
  },
  {
   "cell_type": "markdown",
   "id": "4538dedb-b88e-4915-81ea-c5a015afaf4d",
   "metadata": {},
   "source": [
    "---"
   ]
  },
  {
   "cell_type": "markdown",
   "id": "af40818e-e378-4fa9-a1c7-a506f8896b71",
   "metadata": {},
   "source": [
    "### Random Sampling\n",
    "- **Random Sampling**--create sample by randomly selecting members of population\n",
    "- Random sampling ensures that sample is representative.  If sample is **representative** of entire population, then one can **generalize** study conclusions to entire population.  Whether or not the study can be generalized is also called **external validity**.\n",
    "- Also called a **probability sample** as we can calculate the probability of a member of the population being selected.\n",
    "1. **Simple Random Sampling (SRS)**---randomly select members from entire population\n",
    "    - E.g. randomly sample 100 students from entire school district \n",
    "1. **Stratified Sampling**---first divide the population into the homogeneous strata/groups (members within each stratum are similar, across strata are different), then randomly sample from within each strata. Members are divided into strata based on their value for a confounding variable.  The sample size from each strata is meant to be proportional to entire population.  Stratified sampling ensures sample is representative even with smaller sample sizes.  Simple random sampling needs larger sample sizes to ensure this if there is a confounding variable.  Because a smaller sample size can be used, cost is reduced.\n",
    "    - E.g. Males may be more likely to choose football as their favorite sport.  Divide students into two strata, males and females.  Randomly sample 100 students, but make sure that the sample has the same proportion of males and females as the school district on the whole.  If the school district is 55% female, then randomly select 55 female students from one strata and 45 males students from other strata.\n",
    "3. **Cluster Sampling**---first divide the population into clusters (members within each cluster are heterogeneous, but clusters are similar to each other), then randomly sample a few clusters, then sample *every* member within those clusters.  Clusters are often spatially separated locations.  Cluster sampling can reduce costs involved in traveling to locations to sample members of the population.  Unfortunately cluster sampling increases sampling variance.  This is because, in practice, geographic location acts as a confounding variable and members within clusters are more similar to each other than to other clusters.  Cluster sampling has pros and cons.\n",
    "    - **Multistage Sampling**---same as cluster sampling, but randomly sample from within cluster instead of sampling *every* member\n",
    "    - E.g. we don't have time to visit every school.  We make an assumption that each school (cluster) is similar to each other in regards to proportions of student opinions (which are heterogeneous within each school).  Randomly determine which schools to poll at, then randomly sample students within chosen schools.\n",
    "\n",
    "![](pictures/sample_methods.jpg)"
   ]
  },
  {
   "cell_type": "markdown",
   "id": "a79e87b6-130d-495b-bff5-23c76c4e92e7",
   "metadata": {},
   "source": [
    "---"
   ]
  },
  {
   "cell_type": "markdown",
   "id": "c7a50c82-3a62-49ad-ad13-ad1572bc790c",
   "metadata": {},
   "source": [
    "### Sampling Bias\n",
    "- **Sampling Bias**---poor sampling methods that lead to samples that are NOT representative of entire population.  \n",
    "- Also called a **non-probability sample** as we can NOT calculate the probability of a member of the population being selected.\n",
    "\n",
    "Sources of sampling bias:\n",
    "\n",
    "- **Convenience Sample**---non-random sample.  Sample easiest to study subjects.\n",
    "- **Non-Response**---random sample, but only some subjects respond to survey/request for study\n",
    "- **Voluntary Sample**---non-random sample. Subjects volunteer to be sampled.\n",
    "- **Purposive Sample**---non-random sample.  Researcher selects subjects.\n",
    "- **Snowball Sample**---non-random sample.  Recruit subjects using other subjects.\n",
    "- **Quota Sample**--non-random sample.  Recruit enough subjects to meet quota without using random sampling.\n",
    "- **Oversampling**--in stratified sampling, members of certain strata may be over represented in sample.  This is sometimes done on purpose.  Results must be weighted. \n",
    "\n",
    "![](pictures/sample_bias.jpg)\n",
    "\n",
    "Sampling bias can sometimes be removed\n",
    "\n",
    "- **Probability of Selection**--probability that member included in sample.  Conventionally, the population size is denoted $N$ while the sample size is $n$.  Each member of the population has the same probability of being selected, $\\frac{n}{N}$ (for random samples)\n",
    "    - E.g. $\\frac{10}{1000}$\n",
    "- **Sampling Weight**--inverse of probability of selection (for simple random samples).  Sampling weight can be thought of as the number of subjects in the population the subject \"represents\".  The sum of the weights is the same as the population size.\n",
    "    - E.g. if probability of selection is $\\frac{10}{1000}$, or $\\frac{1}{100}$, the sampling weight is $\\frac{100}{1}=100$.  Each subject \"represents\" themselves and 99 other subjects.\n",
    "- Sampling bias can sometimes be removed by adjusting sampling weight of observations.  These calculations assume that we know the population size.\n",
    "    - E.g. assume an overall probability of selection of $\\frac{1}{100}$ and sampling weight of $\\frac{100}{1}$.  Assume we oversample and include double the members of a certain stratum in the sample.  We could correct for this by dividing their sampling weight by 2 so that each of these observations have a sampling weight of 50.  This sampling weight would be used in another formula when a sample statistic is calculated.  The formula would account for the average statistic for each stratum, the sample weights for each stratum, and the total sample size.\n",
    "    - E.g. assume same sample info.  Assume the non-response rates for certain stratum is twice that of other strata.  Double sampling weight so that each of theses observations has a sample weight of 200.\n",
    "- If weights are highly variable, this actually increases sampling variance."
   ]
  },
  {
   "cell_type": "markdown",
   "id": "636c9fc1-14b3-4bf8-adc7-40961f7a746b",
   "metadata": {},
   "source": [
    "---"
   ]
  },
  {
   "cell_type": "markdown",
   "id": "76e52c57-76a1-49a6-bfef-d4534781a199",
   "metadata": {},
   "source": [
    "### Design Effects\n",
    "\n",
    "- **Design Effects**--sampling design choices that change sampling variance relative to a simple random samples. This means that the sampling error will be larger. \n",
    "\n",
    "![](pictures/design_effects.png)\n",
    "\n",
    "- **Analytic Error**--if stratification, cluster sampling, or weighting is not taken into account when performing analysis (we treat it like a simple random sample), then we may introduce error.\n",
    "    - If we ignore sampling weights will get a different sample statistic and a false, lower standard error\n",
    "    - If we ignore or cluster sampling we will get the same sample statistic, but a false, lower, standard error\n",
    "    - If we ignore stratification we will get the same sample statistic, but a false, higher standard error\n",
    "- For this reason, it is very important to review dataset documentation before performing a secondary analysis.  A dataset we are using may or may have not already accounted for theses factors."
   ]
  },
  {
   "cell_type": "markdown",
   "id": "fa79b460-b8b6-4fca-b8a5-89361b4543cc",
   "metadata": {},
   "source": [
    "---"
   ]
  },
  {
   "cell_type": "markdown",
   "id": "45b5d220-b1e6-4ea6-928b-7d612934d40d",
   "metadata": {},
   "source": [
    "### Big Data\n",
    "- A new data source has emerged in recent decades--big data\n",
    "- **Big data**--subtype of observational study.  Large datasets that are organically generated. Unlike traditional observational studies with random samples, big data is generated as a by-product of some other activity. Big data takes considerable computer resources to process and is often fed into machine learning algorithms.  Datasets can be generated from:\n",
    "    - Web searches \n",
    "    - Smartphone GPS location\n",
    "    - Text, images, and videos from social media platforms\n",
    "    - Online shopping\n",
    "    - Streaming services\n",
    "    - Airplane flights\n",
    "    - Rideshare services\n",
    "    - Genomic tests\n",
    "    - Utility company data\n",
    "    - Etc.\n",
    "- Big data can be treated in two ways:\n",
    "    1. Population.  Treat the big data set as the entire population.  Sampling and inference is not required.\n",
    "        - E.g. define population as adults who shop on Zappos.  Calculate descriptive statistics.\n",
    "    1. Non-probability sample.  Treat the big data set as a convenience sample of a larger population.  Since this big data set is not a random sample, special approaches like the **Pseudo-Randomization Approach** or the **Calibration Approach** must be taken.  These approaches involve weighting the data using auxiliary probability sample data or logistic regression models.  Methods introduce more assumptions and may not always remove sampling bias.\n",
    "       - E.g. define population as all adults and define sample as those adults who shop on Zappos. Attach another dataset with the some of the same variables.  Use this auxiliary data to weight non-probability dataset.  "
   ]
  },
  {
   "cell_type": "markdown",
   "id": "20cbe9c9-1744-479d-ae7f-e100ca768c73",
   "metadata": {},
   "source": [
    "---"
   ]
  },
  {
   "cell_type": "markdown",
   "id": "728d86b7-e322-458f-bded-21a89d053ce7",
   "metadata": {},
   "source": [
    "### Missing Data\n",
    "\n",
    "- During sampling, some records may end up with missing data for some variables \n",
    "- Missing data may be:\n",
    "    1. Missing at random.  Null values do not follow a pattern.  This is good as missing data is less likely to affect analysis.\n",
    "    1. Missing not at random.   Confounding factor causing missing values to be associated with certain records.  Removing many records with non-random nulls affects analysis.\n",
    "- Different functions implicitly handle missing data differently\n",
    "- It is best practice to explicitly handle missing data before doing any data analysis\n",
    "- There are a few strategies to handle missing data:\n",
    "    1. Remove records if any column has null values.  No null values left in data frame.\n",
    "    1. Remove records where specified column(s) have null values\n",
    "    1. Recode missing data as something else.  E.g. null to 0.  Not always possible.\n",
    "    1. Interpolate missing values.  For numerical variables, we could replace the null with the mean, use regression to predict the value, etc.  Complicated."
   ]
  },
  {
   "cell_type": "markdown",
   "id": "0402ff1f-8bd0-4242-8cbc-f34189c991c7",
   "metadata": {},
   "source": [
    "---"
   ]
  },
  {
   "cell_type": "markdown",
   "id": "b65753cb-75d3-45c1-a7e5-bb8b7e1473d9",
   "metadata": {},
   "source": [
    "## Experimental Study Design\n",
    "There are 4 principles of experimental design:\n",
    "\n",
    "1. **Control**---control/reduce differences besides the response variable to eliminate potential confounding variables.  NOT the same term as *control groups*.\n",
    "    - E.g. if some patients take a pill with water and other patients don't take a pill, make sure they still drink water.\n",
    "1. **Random Assignment**---randomly assign subjects to treatment groups.  When we can not control confounding variables, random distribution cancels out effects of confounding variable.  Also prevents accidental bias.\n",
    "1. **Replicate**---a sufficiently large sample or repeating the experiment can more accurately estimate effects of explanatory variables\n",
    "1. **Block**---sometimes we think the response variable is influenced by a variable that is NOT the explanatory variable, and that can NOT be controlled for.  We can rely on random assignment and replication.  Or, we can group (block) subjects based on this variable.  Within each block subjects are randomly selected for control and treatment groups.  Blocking ensures that subjects with confounding variable traits are evenly distributed into control and treatment groups.\n",
    "    - Blocking is similar to stratifying in that we create homogeneous groups based on confounding variable \n",
    "    - Stratifying groups by confounding variable during sampling\n",
    "    - Blocking groups by confounding variable during assignment\n",
    "    \n",
    "![](pictures/blocking.jpg)\n",
    "\n",
    "- Other terms used in experimental studies:\n",
    "    - **Blinding**---subjects do not know if they are in treatment or control group.  They do not know because they are given a placebo.\n",
    "    - **Placebo**---fake treatment\n",
    "    - **Placebo Effect**---subjects show change when given placebo.  Shows emotions affect health (or reported) health outcome.\n",
    "    - **Double Blind**---subjects AND researchers interacting with subjects do not know if subject belongs to control group or treatment group\n",
    "    - **Triple Blind**---statisticians do not know which groups subjects are in\n",
    "    - **Quadruple Blind**---no one knows WTF is going on!  My kind of study!"
   ]
  },
  {
   "cell_type": "markdown",
   "id": "1d3b8ff2-58e7-44a4-9b7a-e762cd6474d6",
   "metadata": {},
   "source": [
    "---"
   ]
  },
  {
   "cell_type": "markdown",
   "id": "50e38f2a-4ecf-4dae-bbb2-50296f9ec67f",
   "metadata": {
    "tags": []
   },
   "source": [
    "## Study Conclusions\n",
    "- The following chart shows what conclusion can be drawn from observational and experimental studies if they have random sampling and/or random assignment\n",
    "\n",
    "![](pictures/random_sample_assignment_chart.jpg)\n",
    "\n",
    "- If sampling is not random then sample is not representative and study can not be generalized\n",
    "  - E.g. we want to study the effects of a Covid vaccine on the U.S population.  Medical studies often rely on volunteers centered around the research facility.  If those volunteers are not representative of the US population then we can not generalize results to the entire US population.\n",
    "- If assignment is not random then the study can not establish causation because confounding factors\n",
    "  - E.g.  if we assigned more young Americans to the control group and more older Americans to the treatment group we may find that the vaccine does not do much (neither young Americans w/out vaccine nor old Americans w/ vaccine are getting seriously ill).  Age is a confounding factors."
   ]
  },
  {
   "cell_type": "markdown",
   "id": "ce7f58f6-c30c-458d-9a59-f56ae07d03a3",
   "metadata": {},
   "source": [
    "---"
   ]
  },
  {
   "cell_type": "markdown",
   "id": "04e5b290-cfb0-43b8-a280-a0aa34039b1d",
   "metadata": {},
   "source": [
    "## Misuse of Statistics\n",
    "- **p-hacking**--also known as data dredging, data fishing, significance chasing, or generally, the misuse of statistics.  It is the deliberate or accidental misuse of data analysis that changes study conclusions.\n",
    "- Misuse of statistics includes:\n",
    "    1. Population is not well defined\n",
    "    1. Study assumptions not explicitly stated\n",
    "    1. Wording survey questions in way that changes subject response \n",
    "    1. Dropping records with outliers with out enough justification\n",
    "    1. Dropping records with missing data with out enough consideration\n",
    "    1. Post hoc analysis\n",
    "    1. Multiple comparisons\n",
    "    1. Ignoring sampling bias and generalizing to population when we should not\n",
    "    1. Ignoring design effects like sampling weights, stratification, and cluster sampling\n",
    "    1. Ignoring lack of random assignment and interpreting causation when we should interpret correlation\n",
    "    1. Misinterpreting confidence interval or p-value\n",
    "- **Post-hoc analysis**--specifying study protocol after data is seen.  We may perform exploratory data analysis on a dataset and then decide on the analysis.  Commonly, we will look for associations between variables and focus our analysis on those.  We must remember to take into account the statistical test performed to avoid problems arising from multiple comparisons.\n",
    "- **Multiple comparisons**--the more statistical tests we perform, the more likely we are to find surprising results caused by random chance in sampling variation.\n",
    "    1. Multiple tests becaues of multiple experiments.  Our experiment is flipping a fair coin 100 times and measuring the proportion of heads.  The more times we repeat this experiment, the more likely it is that we'll get an experiment with interesting results (like P(Heads) = 0.75).  If we choose to only analyze this dataset we will draw incorrect conclusions.\n",
    "    1. Multiple tests because of multiple groups.  Our experiment is flipping a fair coin 100 times and measuring the proportion of heads.  We group the proportion of heads by year coin minted (e.g. create 20 groups) and compare differences between groups (190 comparisons).  The more groups we compare, the more likely we are to find a pair with an apparent difference in proportion of heads.  This apparent difference may simply be caused by random chance in sampling variability.\n",
    "- To avoid misuse of statistics, consult a statistician early and often.  Write a detailed and complete study protocol in advance of the study and have it reviewed by a statistician."
   ]
  },
  {
   "cell_type": "markdown",
   "id": "f65acb10-8dca-443b-b52a-be083bbd3d71",
   "metadata": {},
   "source": [
    "---"
   ]
  },
  {
   "cell_type": "markdown",
   "id": "edb643ae-9915-491a-9658-7f7652541fa9",
   "metadata": {},
   "source": [
    "# Descriptive Statistics"
   ]
  },
  {
   "cell_type": "markdown",
   "id": "cfa9ebb1-508c-41db-964c-051a84ef99f4",
   "metadata": {},
   "source": [
    "---"
   ]
  },
  {
   "cell_type": "markdown",
   "id": "2d283257-ddba-4529-9bc7-0733404228c0",
   "metadata": {
    "tags": []
   },
   "source": [
    "## Summary Statistics"
   ]
  },
  {
   "cell_type": "markdown",
   "id": "05117c92-59f3-4ccc-a764-248b92fee4d2",
   "metadata": {
    "tags": []
   },
   "source": [
    "- Statistics can be calculated for a sample of a population, or the entire population\n",
    "- When stats are calculated for a sample, the Latin letters are used\n",
    "- When stats are calculated for an entire population Greek letters are used.  We often call these population parameters.\n",
    "- We'll list symbols first in the table below and define them in later sections\n",
    "\n",
    "Statistic | Sample Symbol | Pop Symbol\n",
    "--- | --- | ---\n",
    "Number of observations | n | N\n",
    "Mean | $\\bar{x}$ (x bar) | $\\mu$  (mu)\n",
    "Median | M or Med or $\\tilde{x}$ (x tilde) | NA\n",
    "Mode | NA | NA\n",
    "Standard deviation | $s$ | $\\sigma$ (sigma)\n",
    "Proportion | $\\hat{p}$ (p-hat) | $p$"
   ]
  },
  {
   "cell_type": "markdown",
   "id": "562ebcac-65ec-4b69-8500-29f97268d0f4",
   "metadata": {},
   "source": [
    "---"
   ]
  },
  {
   "cell_type": "markdown",
   "id": "5d76a2e4-2f29-4f6e-819d-0c702da47771",
   "metadata": {},
   "source": [
    "### Measures of Center\n",
    "- The mean, median, and mode are all measures of the \"center\" of a dataset\n",
    "    1. **Mean**---arithmetic average of dataset\n",
    "    1. **Median**---value in the middle of the dataset. \"50% percentile\". Found by ordering the values from smallest to largest, then choosing the middle value (for odd number of values).  If there are an even number of values, we find the two values in the middle, then average them.\n",
    "    1. **Mode**---most frequent value in dataset.  There can be multiple modes.  Not the greatest measure of \"center\".\n",
    "- **Robust**---when a statistic is not affected as much by extreme values and skewed distribution\n",
    "- The median is a robust statistic while the mean is not\n",
    "- Mean is the more common choice and is used in the normal distribution, parametric hypothesis testing, and most linear regression\n",
    "- The median is mathematically harder to work with.  However, the median is a more robust statistic and may better reflect the \"center\" depending on the situation."
   ]
  },
  {
   "cell_type": "markdown",
   "id": "50974a07-b461-48f7-bb85-dadb47c56bf4",
   "metadata": {},
   "source": [
    "---"
   ]
  },
  {
   "cell_type": "markdown",
   "id": "fb17b983-add9-402b-b454-31f19da4c577",
   "metadata": {},
   "source": [
    "**EXAMPLES**"
   ]
  },
  {
   "cell_type": "code",
   "execution_count": 3,
   "id": "d74c7111-b5f5-40e7-8fc4-4dce3cc54ee8",
   "metadata": {},
   "outputs": [
    {
     "name": "stdout",
     "output_type": "stream",
     "text": [
      "Mean is: 3.0\n",
      "Median is: 3.0\n",
      "Mode is: ModeResult(mode=array([1]), count=array([1]))\n"
     ]
    }
   ],
   "source": [
    "sample_data = np.array([5,4,3,2,1])\n",
    "print(f'Mean is: {np.mean(sample_data)}')\n",
    "print(f'Median is: {np.median(sample_data)}')\n",
    "# If there are multiple modes, the behavior of the function depends on the NumPy version\n",
    "# In this version it appears to return only the lowest mode\n",
    "print(f'Mode is: {stats.mode(sample_data)}')"
   ]
  },
  {
   "cell_type": "markdown",
   "id": "38d2dc23-041c-4723-97bc-e1a5972baec5",
   "metadata": {},
   "source": [
    "---"
   ]
  },
  {
   "cell_type": "markdown",
   "id": "78e0afb3-afcb-4bb8-b143-99bc6e8cbc3e",
   "metadata": {
    "tags": []
   },
   "source": [
    "### Measures of Spread\n",
    "- **Range**---difference between the maximum and minimum values\n",
    "- **Variance**---the average, squared, deviation from the mean.  Units are that of the original values squared.  The difference between the sample and population variance is that the sample uses `n-1`.  This is because...........\n",
    "- Formula for sample variance:\n",
    "  - $variance =   \\frac{\\sum_{i=1}^{n}(x_i - \\bar{x})^2}{n-1}$\n",
    "- Formula for population variance:\n",
    "  - $variance = \\frac{\\sum_{i=1}^{N}(x_i - \\mu)^2}{N}$  \n",
    "- **Standard Deviation**---square root of variance.  Roughly average difference between values and mean.  Units are those of original values.  Places more emphasis on really high values and values below 1 because of squaring.  If data is normally distributed then ~70% of values will be within one standard deviation from the mean, while ~95% of values will be within 2 standard deviations from the mean.\n",
    "- Formula for sample standard deviation:  \n",
    "  - $s = \\sqrt{\\frac{\\sum_{i=1}^{n}(x_i - \\bar{x})^2}{n-1}}$\n",
    "- Formula for population standard deviation:\n",
    "  - ${\\sigma} = \\sqrt{\\frac{\\sum_{i=1}^{N}(x_i - \\mu)^2}{N}}$\n",
    "- **Percentile**---proportion (expressed as a percentage) of the observations that fall **below** a specified data point\n",
    "    - Usually, but not always, software uses a formula where data point is *inclusive*.  Not typically important for continuous variables, but important to note for discrete variables.\n",
    "- **Cumulative Proportion**---same as percentile, just expressed as a proportion\n",
    "- **Quartile**---quartiles are special quantiles.  The 1st quartile is the cutoff for the 25th percentile.  The 2nd quartile is the cutoff for the 50th percentile (the median!).  The 3rd quartile is the cutoff for the 75th percentile.\n",
    "- **Quantile**---value that divides a distribution (cutoff point).  We often want to find the quantile at a certain percentile.\n",
    "    - While this is easy for the the median, it is *sometimes* surprisingly complicated for other quartiles and *usually* really complicated for other percentiles.  Thus, it is recommended to always use statistical software.  \n",
    "    - Usually, but not always, software uses a formula where percentile is *inclusive*.  Not typically important for continuous variables, but important to note for discrete variables.\n",
    "- **Interquartile range**---range of the middle 50% of values in the dataset. Difference between quantile at the third quartile (75th percentile) and the quantile at the first quartile (25th percentile).\n",
    "- Range, mean, variance, and standard deviation are NOT robust.  These are best used when values are symmetrically distributed.  Median and IQR are robust and are more meaningful when data is skewed."
   ]
  },
  {
   "cell_type": "markdown",
   "id": "cf3442c1-c261-4b98-8a2a-008890e1ada2",
   "metadata": {},
   "source": [
    "---"
   ]
  },
  {
   "cell_type": "markdown",
   "id": "54e217f5-b119-44ad-94a8-82b43ae10358",
   "metadata": {},
   "source": [
    "**EXAMPLES**"
   ]
  },
  {
   "cell_type": "code",
   "execution_count": 4,
   "id": "03670dc6-4bba-415d-810f-fd953b13ca7c",
   "metadata": {},
   "outputs": [
    {
     "name": "stdout",
     "output_type": "stream",
     "text": [
      "Min is 1\n",
      "Max is 5\n",
      "Range is 4\n",
      "Sample variance is: 2.5\n",
      "Sample standard deviation is: 1.5811388300841898\n",
      "Quantile at the 25th percentile is: 2.0\n",
      "Quantile at the 75th percentile is: 4.0\n",
      "IQR is: 2.0\n"
     ]
    }
   ],
   "source": [
    "sample_data = np.array([1,2,3,4,5])\n",
    "print(f'Min is {np.min(sample_data)}')\n",
    "print(f'Max is {np.max(sample_data)}')\n",
    "print(f'Range is {np.max(sample_data) - np.min(sample_data)}')\n",
    "print(f'Sample variance is: {np.var(sample_data, ddof=1)}') # ddof set to 1 for sample\n",
    "print(f'Sample standard deviation is: {np.std(sample_data, ddof=1)}')  # ddof set to 1 for sample\n",
    "print(f'Quantile at the 25th percentile is: {np.percentile(sample_data, 25)}')\n",
    "print(f'Quantile at the 75th percentile is: {np.percentile(sample_data, 75)}')\n",
    "print(f'IQR is: {np.percentile(sample_data, 75) - np.percentile(sample_data, 25)}')"
   ]
  },
  {
   "cell_type": "markdown",
   "id": "58856575-c01d-466d-a3b8-cdf3de7838f1",
   "metadata": {},
   "source": [
    "---"
   ]
  },
  {
   "cell_type": "markdown",
   "id": "51690da5-9f11-4e6f-9e64-e9cfc270a4ac",
   "metadata": {},
   "source": [
    "## Visualizing"
   ]
  },
  {
   "cell_type": "markdown",
   "id": "a6247508-7586-4e79-b872-1d5f83c25752",
   "metadata": {},
   "source": [
    "- Data visualization helps us see patterns.  \"Plot\", \"chart\", and \"graph\" are all terms that are used when describing data visualizations.  There are no concrete definitions, but certain terms are more frequently associated with certain types of visualizations.  \n",
    "  - E.g. scatter plot, line graph, pie chart. The terms bar chart and bar graph are both common.\n",
    "- We'll categorize the visualization based on the number and type of variables\n",
    "- After going over common visualizations we'll cover skew and modality"
   ]
  },
  {
   "cell_type": "markdown",
   "id": "048c894a-0dd4-4445-ad25-df5c0c31377d",
   "metadata": {},
   "source": [
    "---"
   ]
  },
  {
   "cell_type": "markdown",
   "id": "9ff09b43-d0f1-4c47-b8ea-af803c5d96f6",
   "metadata": {},
   "source": [
    "### 1 Numerical Variable"
   ]
  },
  {
   "cell_type": "markdown",
   "id": "98410cde-8fc1-41d7-82ad-f42c2a506483",
   "metadata": {
    "jp-MarkdownHeadingCollapsed": true,
    "tags": []
   },
   "source": [
    "- **Histogram**---height of bars in chart correspond to count (frequency) of observations within each bin.  A **bin** is a contiguous, equally spaced interval. The bin width is chosen by the user and can dramatically affect the shape of the chart. With small sample sizes, narrow bins create volatility in bin height.\n",
    "- **Dot Plot**---similar to a histogram.  Depending on the option, each column of dots could be a bin of set width and position (like a histogram), or could be based on a binning algorithm. The width of the dot is the bin size.  Each dot is one observation.\n",
    "- **Frequency Polygon**---similar to a histogram.  Different in that it connects counts with lines.\n",
    "- **Density Curve**---similar to a histogram.  Different in that it is NOT binned and it does NOT show count.  Instead the density curve, AKA kernel density plot/kernel density estimate (KDE), shows the density of observation values.  Each value adds a small area to the density curve.  More values closer together create a taller curve.  There are function options that control the shape and width of curves.  See this [tutorial](https://chartio.com/learn/charts/violin-plot-complete-guide/) by Chartio for more info.  Total area under curve integrates to 1.  Good for visualizing distribution in a smoother, more abstract way.\n",
    "- **Box Plot**---displays 5 number statistical summary (min, Q1, median (Q2), Q3, and max).  The line inside the box represents the median.  The outer lines of the box represent the first and third quartiles.  The lines extending outside the box, referred to as whiskers, represent data points that are outside the 25th and 75th percentiles.  The whiskers can only extend a distance of 1.5 x the IQR away from the box.  Any points outside this range are represented by dots (at least in R).  Box plots can be used with one numerical variable.  They can also be used with two variables where one is numerical and one is categorical.  This creates multiple box plots within same data visualization."
   ]
  },
  {
   "cell_type": "markdown",
   "id": "b8a25add-d474-49db-9d56-4846e467e2c5",
   "metadata": {},
   "source": [
    "---"
   ]
  },
  {
   "cell_type": "markdown",
   "id": "f80eeab3-d008-44e6-818c-7b71566b03b8",
   "metadata": {},
   "source": [
    "**EXAMPLES**"
   ]
  },
  {
   "cell_type": "markdown",
   "id": "62a99fd9-2045-49e9-85cc-6d149f76d13a",
   "metadata": {},
   "source": [
    "- The histogram below shows the number of penguins (count) that fit within each body mass bin:"
   ]
  },
  {
   "cell_type": "code",
   "execution_count": 5,
   "id": "d1abac51-5a36-4067-a796-72ea071ac288",
   "metadata": {},
   "outputs": [
    {
     "data": {
      "image/png": "[encoded data removed]",
      "text/plain": [
       "<Figure size 360x360 with 1 Axes>"
      ]
     },
     "metadata": {},
     "output_type": "display_data"
    }
   ],
   "source": [
    "sns.displot(kind=\"hist\", data=penguins, x=\"body_mass_g\", bins=20)\n",
    "plt.show()"
   ]
  },
  {
   "cell_type": "markdown",
   "id": "dff26e05-1813-4715-bf46-699193e1e203",
   "metadata": {},
   "source": [
    "- The density curve below shows the density of penguin body mass observations:"
   ]
  },
  {
   "cell_type": "code",
   "execution_count": 6,
   "id": "d1570c92-5b4e-4d06-bf35-2e84a9ce206a",
   "metadata": {},
   "outputs": [
    {
     "data": {
      "image/png": "[encoded data removed]",
      "text/plain": [
       "<Figure size 360x360 with 1 Axes>"
      ]
     },
     "metadata": {},
     "output_type": "display_data"
    }
   ],
   "source": [
    "sns.displot(kind=\"kde\", data=penguins, x=\"body_mass_g\")\n",
    "plt.show()"
   ]
  },
  {
   "cell_type": "markdown",
   "id": "1f43a14c-4e37-4bd2-a9c2-ee6d0f258124",
   "metadata": {},
   "source": [
    "- The box plot below shows the distribution of penguin's body mass:"
   ]
  },
  {
   "cell_type": "code",
   "execution_count": 7,
   "id": "f7151d44-f558-42ed-9119-97319100a99f",
   "metadata": {},
   "outputs": [
    {
     "data": {
      "image/png": "[encoded data removed]",
      "text/plain": [
       "<Figure size 360x360 with 1 Axes>"
      ]
     },
     "metadata": {},
     "output_type": "display_data"
    }
   ],
   "source": [
    "sns.catplot(kind=\"box\", data=penguins, y=\"body_mass_g\")\n",
    "plt.show()"
   ]
  },
  {
   "cell_type": "markdown",
   "id": "a1371d7d-66c5-4bef-93e5-4857876e74e3",
   "metadata": {},
   "source": [
    "---"
   ]
  },
  {
   "cell_type": "markdown",
   "id": "3636347a-7b5a-42d5-b94b-ed3c03f83413",
   "metadata": {},
   "source": [
    "### 1 Categorical Variable\n",
    "\n",
    "- **Frequency Table**---also called **one-way** table.  Shows frequency (count) of observations in each category.  Each unique category name is called a **level**.  We can also show relative frequency, which is a ratio or percent of whole.\n",
    "- **Bar Chart**---each bar corresponds to a category.  The height of the bar corresponds to the count (frequency) of observations within each category.\n",
    "- **Pie Chart**---each slice corresponds to a category.  The slice size corresponds to the count of the observations.  Less recommended than bar charts as harder to discern relative slice size and labels may overlap for small slices."
   ]
  },
  {
   "cell_type": "markdown",
   "id": "07705ff1-e02a-4479-bbd5-f7073390b6d4",
   "metadata": {},
   "source": [
    "---"
   ]
  },
  {
   "cell_type": "markdown",
   "id": "37efb35e-de47-4ff6-89a1-fa4416ccd137",
   "metadata": {},
   "source": [
    "**EXAMPLES**"
   ]
  },
  {
   "cell_type": "markdown",
   "id": "26d06f59-577d-42db-97cb-5177f7005dd2",
   "metadata": {},
   "source": [
    "- The frequency table has the categorical variable \"pet type\". Levels are cat and dog.  Data is a list of observations: dog, dog, cat, cat, cat.\n",
    "\n",
    "Level | Frequency (Count) | Relative Frequency (Percent)\n",
    "--- | --- | ---\n",
    "Cat | 3 | 60%\n",
    "Dog | 2 | 40%"
   ]
  },
  {
   "cell_type": "markdown",
   "id": "d0223089-f45b-4ba5-a4cc-5adca64a4905",
   "metadata": {},
   "source": [
    "- The bar chart below shows the penguin frequency for each species:"
   ]
  },
  {
   "cell_type": "code",
   "execution_count": 8,
   "id": "26c8d314-67f5-4a30-b370-4239e94501ce",
   "metadata": {},
   "outputs": [
    {
     "data": {
      "image/png": "[encoded data removed]",
      "text/plain": [
       "<Figure size 360x360 with 1 Axes>"
      ]
     },
     "metadata": {},
     "output_type": "display_data"
    }
   ],
   "source": [
    "sns.catplot(kind=\"count\", data=penguins, x=\"species\")\n",
    "plt.show()"
   ]
  },
  {
   "cell_type": "markdown",
   "id": "40e50b5f-4476-43d4-825b-e3696bf7e091",
   "metadata": {},
   "source": [
    "- The bar chart below shows relative penguin frequency for each species:"
   ]
  },
  {
   "cell_type": "code",
   "execution_count": 9,
   "id": "ae15dd8b-bd67-4d37-9922-d570489a1159",
   "metadata": {},
   "outputs": [
    {
     "name": "stdout",
     "output_type": "stream",
     "text": [
      "     species  relative_frequency\n",
      "0     Adelie            0.438438\n",
      "2  Chinstrap            0.204204\n",
      "1     Gentoo            0.357357\n"
     ]
    },
    {
     "data": {
      "image/png": "[encoded data removed]",
      "text/plain": [
       "<Figure size 360x360 with 1 Axes>"
      ]
     },
     "metadata": {},
     "output_type": "display_data"
    }
   ],
   "source": [
    "penguins_new = (penguins\n",
    "                .value_counts(subset=\"species\", normalize=True)\n",
    "                .rename(\"relative_frequency\")\n",
    "                .reset_index()\n",
    "                .reindex([0, 2, 1])\n",
    ")\n",
    "print(penguins_new)\n",
    "\n",
    "sns.catplot(kind=\"bar\", data=penguins_new, x=\"species\", y=\"relative_frequency\")\n",
    "plt.show()   # Species in different order"
   ]
  },
  {
   "cell_type": "markdown",
   "id": "a86efa5b-8642-4d16-bee2-39ffb82e5e3f",
   "metadata": {},
   "source": [
    "---"
   ]
  },
  {
   "cell_type": "markdown",
   "id": "9611f780-c8d3-4108-9799-522a935ee2ee",
   "metadata": {
    "tags": []
   },
   "source": [
    "### 2 Numerical Variables\n",
    "- **Scatter Plot**---each point's location corresponds to an observation's two numerical values\n",
    "- **Line Graph**--line made of connected points.  Points correspond to an observation's two numerical values.  Explanatory variable is often a continuous variable (like time) and response variable is a function of the explanatory variable (passes vertical line test)."
   ]
  },
  {
   "cell_type": "markdown",
   "id": "9396e28c-15f5-4643-85a2-0f0d2824b1ab",
   "metadata": {},
   "source": [
    "---"
   ]
  },
  {
   "cell_type": "markdown",
   "id": "1dc12155-36f5-4cf6-a56d-329bd438b669",
   "metadata": {},
   "source": [
    "**EXAMPLES**"
   ]
  },
  {
   "cell_type": "markdown",
   "id": "1977ef88-6d48-4e2e-bf71-4126d71e44c5",
   "metadata": {},
   "source": [
    "- The scatter plot below shows a penguin as a point.  Its location is determined by its flipper length and body mass."
   ]
  },
  {
   "cell_type": "code",
   "execution_count": 10,
   "id": "23aae927-0dc8-4af0-acb3-732a73f1d5b8",
   "metadata": {},
   "outputs": [
    {
     "data": {
      "image/png": "[encoded data removed]",
      "text/plain": [
       "<Figure size 360x360 with 1 Axes>"
      ]
     },
     "metadata": {},
     "output_type": "display_data"
    }
   ],
   "source": [
    "sns.relplot(kind=\"scatter\", data=penguins, x=\"flipper_length_mm\", y=\"body_mass_g\")\n",
    "plt.show()"
   ]
  },
  {
   "cell_type": "markdown",
   "id": "6d174110-b14c-45b2-9e30-c6ec62cbce5b",
   "metadata": {},
   "source": [
    "- The line graph below connects the dots.  Point location is determined by the year and the number of passengers aboard flights."
   ]
  },
  {
   "cell_type": "code",
   "execution_count": 11,
   "id": "897b6db1-6168-480e-bed9-cb749bbda862",
   "metadata": {},
   "outputs": [
    {
     "data": {
      "image/png": "[encoded data removed]",
      "text/plain": [
       "<Figure size 360x360 with 1 Axes>"
      ]
     },
     "metadata": {},
     "output_type": "display_data"
    }
   ],
   "source": [
    "flights = sns.load_dataset(\"flights\")\n",
    "sns.relplot(kind=\"line\", data=flights, x=\"year\", y=\"passengers\", ci=None)\n",
    "plt.show()"
   ]
  },
  {
   "cell_type": "markdown",
   "id": "6dce12e0-7f3a-40d1-845a-aa9f7944d393",
   "metadata": {},
   "source": [
    "---"
   ]
  },
  {
   "cell_type": "markdown",
   "id": "6ab55838-d6a7-4f82-8bd7-b55d5e1813de",
   "metadata": {
    "tags": []
   },
   "source": [
    "### 1 Numerical & 1 Categorical\n",
    "- **Bar Chart**---each bar corresponds to a category.  Bar height corresponds to the values of the numerical variable. Different from count bar chart above.\n",
    "- **Box Plot**---see box blot above.  A single box plot for each category.\n",
    "- **Violin**---uses density curve.  Different in that the density curve is mirrored around a center line.  Violin plots are often overlaid with box plots to show median and interquartile range."
   ]
  },
  {
   "cell_type": "markdown",
   "id": "c535370e-1b95-454a-a934-398f9f34893d",
   "metadata": {},
   "source": [
    "---"
   ]
  },
  {
   "cell_type": "markdown",
   "id": "e9ed8f1e-1a9e-45f5-aec9-96380219f9a8",
   "metadata": {},
   "source": [
    "**EXAMPLES**"
   ]
  },
  {
   "cell_type": "markdown",
   "id": "0fc12e86-7f60-4568-8c9c-aaa3d740dbc6",
   "metadata": {},
   "source": [
    "- The bar chart below shows the average penguin mass on the y axis and the species on the x axis:"
   ]
  },
  {
   "cell_type": "code",
   "execution_count": 12,
   "id": "38c047be-936c-4eaf-a212-a454883cf4b0",
   "metadata": {},
   "outputs": [
    {
     "data": {
      "image/png": "[encoded data removed]",
      "text/plain": [
       "<Figure size 360x360 with 1 Axes>"
      ]
     },
     "metadata": {},
     "output_type": "display_data"
    }
   ],
   "source": [
    "sns.catplot(kind=\"bar\", data=penguins, x=\"species\", y=\"body_mass_g\", ci=False)\n",
    "plt.show()"
   ]
  },
  {
   "cell_type": "markdown",
   "id": "f208573a-2d1b-4831-ab10-37f294d9751f",
   "metadata": {},
   "source": [
    "- The box plots below shows a 5 number summary for the mass of each penguin species:"
   ]
  },
  {
   "cell_type": "code",
   "execution_count": 13,
   "id": "063604a7-09e0-4bf0-87ab-f24327ceace4",
   "metadata": {},
   "outputs": [
    {
     "data": {
      "image/png": "[encoded data removed]",
      "text/plain": [
       "<Figure size 360x360 with 1 Axes>"
      ]
     },
     "metadata": {},
     "output_type": "display_data"
    }
   ],
   "source": [
    "sns.catplot(kind=\"box\", data=penguins, x=\"species\", y=\"body_mass_g\")\n",
    "plt.show()"
   ]
  },
  {
   "cell_type": "markdown",
   "id": "ab7e1ccd-387a-4b5f-a475-37a8ef596c26",
   "metadata": {},
   "source": [
    "- The violin plot below shows the distribution of penguin masses for each species:"
   ]
  },
  {
   "cell_type": "code",
   "execution_count": 14,
   "id": "a89d44f7-b399-44c5-ae09-1089019cedb3",
   "metadata": {},
   "outputs": [
    {
     "data": {
      "image/png": "[encoded data removed]",
      "text/plain": [
       "<Figure size 360x360 with 1 Axes>"
      ]
     },
     "metadata": {},
     "output_type": "display_data"
    }
   ],
   "source": [
    "sns.catplot(kind=\"violin\", data=penguins, x=\"species\", y=\"body_mass_g\")\n",
    "plt.show()"
   ]
  },
  {
   "cell_type": "markdown",
   "id": "c9e2f9f6-9229-4109-be74-ae333e24f398",
   "metadata": {},
   "source": [
    "---"
   ]
  },
  {
   "cell_type": "markdown",
   "id": "d9ac9f72-9521-492d-bcf0-856c5b03247e",
   "metadata": {
    "tags": []
   },
   "source": [
    "### 2 Categorical Variables\n",
    "- **Contingency Table**---also called a **two-way** frequency table.  Shows counts of two categorical variables.  Helps us see relationship between two variables.\n",
    "    - E.g. In the table below the first categorical variable is email spam and the second is email format\n",
    "\n",
    "![](pictures/contingency_table.jpg)\n",
    "\n",
    "- Note that a contingency table is not \"tidy\" data as each row is not an observation and each column is not a variable.  We often must convert back and forth between contingency tables and tidy tables during analysis.\n",
    "- **Segmented Bar Chart**---each bar corresponds to a category of variable A.  The bar is broken up into segments by categorical variable B.  The height is the count.  We can also create a bar plot with relative frequencies.  Seaborn does not have segmented bar charts as the library author does not like them (harder to compare between groups).  An alternative option is to use side by side count bar charts"
   ]
  },
  {
   "cell_type": "markdown",
   "id": "9a423e4d-886b-4ddc-806a-df9cce96d15d",
   "metadata": {},
   "source": [
    "---"
   ]
  },
  {
   "cell_type": "markdown",
   "id": "b30ccb4e-3984-43f2-b7c1-b6d1205313ab",
   "metadata": {},
   "source": [
    "**EXAMPLES**"
   ]
  },
  {
   "cell_type": "markdown",
   "id": "e5f15022-daa1-450c-989a-578357904a06",
   "metadata": {},
   "source": [
    "- The bar plot below shows penguin frequency first split by species and then split by sex:"
   ]
  },
  {
   "cell_type": "code",
   "execution_count": 15,
   "id": "df91e862-24dd-444e-93ff-bae7958616d0",
   "metadata": {},
   "outputs": [
    {
     "data": {
      "image/png": "[encoded data removed]",
      "text/plain": [
       "<Figure size 436.35x360 with 1 Axes>"
      ]
     },
     "metadata": {},
     "output_type": "display_data"
    }
   ],
   "source": [
    "sns.catplot(kind=\"count\", data=penguins, x=\"species\", hue=\"sex\")\n",
    "plt.show()"
   ]
  },
  {
   "cell_type": "markdown",
   "id": "56c159de-ea12-42d9-8684-e16fd1df678a",
   "metadata": {},
   "source": [
    "- The bar plot below shows penguin relative frequency first split by species and then split by sex:"
   ]
  },
  {
   "cell_type": "code",
   "execution_count": 16,
   "id": "7c365db6-2912-4b75-ba94-798359126fa9",
   "metadata": {},
   "outputs": [
    {
     "name": "stdout",
     "output_type": "stream",
     "text": [
      "     species     sex  relative_frequency\n",
      "1     Adelie    Male            0.219219\n",
      "0     Adelie  Female            0.219219\n",
      "5  Chinstrap    Male            0.102102\n",
      "4  Chinstrap  Female            0.102102\n",
      "2     Gentoo    Male            0.183183\n",
      "3     Gentoo  Female            0.174174\n"
     ]
    },
    {
     "data": {
      "image/png": "[encoded data removed]",
      "text/plain": [
       "<Figure size 436.35x360 with 1 Axes>"
      ]
     },
     "metadata": {},
     "output_type": "display_data"
    }
   ],
   "source": [
    "penguins_new = (penguins\n",
    "                .value_counts(subset=[\"species\", \"sex\"], normalize=True)\n",
    "                .rename(\"relative_frequency\")\n",
    "                .reset_index()\n",
    "                .reindex([1, 0, 5, 4, 2, 3])\n",
    ")\n",
    "print(penguins_new)\n",
    "\n",
    "sns.catplot(kind=\"bar\", data=penguins_new, x=\"species\", y=\"relative_frequency\", hue=\"sex\")\n",
    "plt.show()"
   ]
  },
  {
   "cell_type": "markdown",
   "id": "fa4ee739-a6ec-447a-88f7-634bf544f310",
   "metadata": {},
   "source": [
    "---"
   ]
  },
  {
   "cell_type": "markdown",
   "id": "d659c5de-6e86-4682-b186-d0cfd0b0da4c",
   "metadata": {},
   "source": [
    "### Modality\n",
    "**Modality**---refers to the number of prominent peaks in a chart (around which mode is usually found).  Modality is not exact.  More of a rough, qualitative description.  \n",
    "\n",
    "![](pictures/modality.jpg)"
   ]
  },
  {
   "cell_type": "markdown",
   "id": "ec54af3b-45f1-4d92-a1a7-9b68a1c1f320",
   "metadata": {},
   "source": [
    "---"
   ]
  },
  {
   "cell_type": "markdown",
   "id": "5ad9a21b-dbbf-473c-ac36-1f319c728136",
   "metadata": {
    "tags": []
   },
   "source": [
    "### Skew\n",
    "- **Skew**---refers to the symmetry of the plot along the x-axis.  Skew can be determined qualitatively or quantitatively.  The \"Fischer-Pearson\" or \"adjusted Fischer-Pearson\" statistics can be calculated if a quantitative measurement is needed.\n",
    "- **Symmetric**---plot is not skewed\n",
    "    - Mean, median, and mode all occur in the middle of a symmetric distribution\n",
    "    - Skew statistic is 0\n",
    "- **Right/Positive Skew**---plot \"tail\" is longer on the right\n",
    "    - Mode occurs near peak since the y-axis is count/frequency\n",
    "    - Median occurs to right of peak as there are more records in tail to pull it right\n",
    "    - Mean occurs furthest right as very large values in tail affect mean more than median\n",
    "    - Skew statistic is positive\n",
    "- **Left/Negative Skew**---plot \"tail\" is longer on the left.  \n",
    "    - Mode occurs near peak since the y-axis is count/frequency\n",
    "    - Median occurs to left of peak as there are more records in tail to pull it left\n",
    "    - Mean occurs furthest left as very small values in tail affect mean more than median\n",
    "    - Skew statistic is negative\n",
    "\n",
    "![](pictures/skew.png)"
   ]
  },
  {
   "cell_type": "markdown",
   "id": "ebeb70f5-e91b-4800-8474-b939928d4c9e",
   "metadata": {},
   "source": [
    "---"
   ]
  },
  {
   "cell_type": "markdown",
   "id": "cf772c85-f0f6-4e3b-bd30-89dfd32a4eee",
   "metadata": {},
   "source": [
    "### Kurtosis\n",
    "\n",
    "- **Kurtosis**--describes the \"tailedness\" of distribution.  Describes the relative amount of outlying observations.\n",
    "    - Larger kurtosis means there are relatively more observations in tails.  More outliers.\n",
    "    - Smaller kurtosis means there are relatively less observations in tails.  Less outliers.\n",
    "- **Kurtosis Excess**--compares kurtosis of distribution to kurtosis of normal distribution.\n",
    "    - 0 kurtosis excess is the normal distribution\n",
    "    - Negative kurtosis excess means that tails are thinner than the normal distribution\n",
    "    - Positive kurtosis excess means that tails are thicker than the normal distribution\n",
    "- The image below shows kurtosis excess:\n",
    "\n",
    "![](pictures/kurtosis_excess.jpg)"
   ]
  },
  {
   "cell_type": "markdown",
   "id": "f8188ff7-d621-43bf-b1ab-238a987a9289",
   "metadata": {},
   "source": [
    "---"
   ]
  },
  {
   "cell_type": "markdown",
   "id": "4426c285-5f07-41fc-a6f2-0b91db634bee",
   "metadata": {},
   "source": [
    "# Probability"
   ]
  },
  {
   "cell_type": "markdown",
   "id": "528fed6f-20ee-41a7-88f5-854e5714a56e",
   "metadata": {},
   "source": [
    "---"
   ]
  },
  {
   "cell_type": "markdown",
   "id": "86acea38-13fc-4bf2-a153-4844b14c129c",
   "metadata": {},
   "source": [
    "## Probability Jargon\n",
    "- **Probability (Frequentist Interpretation)**---the proportion of times the outcome would occur if we repeated a process an infinite number of times.  Probabilities are between 0 and 1.\n",
    "- **Probability (Bayesian)**---degree of belief based on personal perspective\n",
    "- **Trial**---the \"process\".  User defines what a trial is.\n",
    "  - E.g. trial = rolling the die once\n",
    "  - E.g. trial = rolling the die twice in a row\n",
    "- **Sample Space**---collection of all possible outcomes of a trial\n",
    "  - E.g. for rolling a die once the outcomes are {1,2,3,4,5,6}\n",
    "- **Outcome**---the result of a trial\n",
    "  - E.g. each number in the sample space above is an outcome\n",
    "- **Event**---one or more outcomes of a trial.  User defines the event of interest.  Symbolized with capital letter.\n",
    "  - E.g. event A = {2} is rolled\n",
    "  - E.g. event B = {2, 4, or 6} is rolled\n",
    "- **Law of Large Numbers**---as more observations are collected, the proportion of occurrences with a particular event converges to the probability of that event\n",
    "\n",
    "![](pictures/law_large_numbers.jpg)\n",
    "\n",
    "- **Probability Distribution**---lists all possible outcomes in a sample space and the probabilities with which they occur.  They have 3 rules:\n",
    "    1. Outcomes listed must be disjoint\n",
    "    1. Each probability must be between 0 and 1\n",
    "    1. The probabilities must total 1\n",
    "\n",
    "![](pictures/prob_dist.jpg)\n",
    "\n",
    "Types of Events\n",
    "\n",
    "- **Disjoint**---mutually exclusive events.  Events can not happen at same time.  If events do not share any outcomes, they are disjoint. \n",
    "  - P(A AND B) = 0\n",
    "  - E.g. on a single coin toss, getting a {heads} and a {tails}\n",
    "  - **Complementary**---all disjoint outcomes of the same process that are NOT the event.  Probability of event and its compliment add to one.\n",
    "    - P(A) + P(A^c^) = 1\n",
    "    - E.g. on a single coin toss, if event is {heads}, the compliment is {tails}\n",
    "- **Non-disjoint**---two events can happen at same time.  If events share one or more outcomes, they are non-disjoint.\n",
    "  - E.g. choosing a single card that is both a Heart and a King\n",
    "  \n",
    "![](pictures/disjoint.jpg)\n",
    "\n",
    "- **Independent**---outcome of one process does NOT affect outcome of the other process\n",
    "  - E.g. outcomes of two coin tosses are non-disjoint and independent\n",
    "  - E.g. choosing a King twice in a row with replacement is non-disjoint and independent\n",
    "- **Dependent (Conditional)**---outcome of one process does affect the outcome of the other process.  Disjoint events are always dependent, since if one event occurs we know the other can not.\n",
    "  - E.g. outcomes of a single coin toss are disjoint and dependent\n",
    "  - E.g. choosing a King twice in a row w/OUT replacement is non-disjoint and dependent\n",
    "\n",
    "- With so many terms, it can get confusing to know how to solve problems.  We'll present a decision tree and then define some of the methods below it.\n",
    "\n",
    "![](pictures/prob_decision_flowchart.jpg)"
   ]
  },
  {
   "cell_type": "markdown",
   "id": "9b261239-b909-49ba-9044-570591273b9a",
   "metadata": {},
   "source": [
    "---"
   ]
  },
  {
   "cell_type": "markdown",
   "id": "51ce487d-22ca-4e22-8dd4-2599db8e3c28",
   "metadata": {},
   "source": [
    "## Basic Rule of Probability\n",
    "- $\\text{P(Event)} = \\frac{\\text{Number of ways event can happen}}{\\text{Total number of outcomes}}$\n",
    "  - E.g. P(rolling a \"4\" on a fair six sided die) = 1/6\n",
    "  - E.g. P(Drawing a King) = 4/52"
   ]
  },
  {
   "cell_type": "markdown",
   "id": "d584cf86-9958-4189-ac4c-bfbc63226f2d",
   "metadata": {},
   "source": [
    "---"
   ]
  },
  {
   "cell_type": "markdown",
   "id": "d7d73d56-7873-40a1-b418-6926e1ce13d3",
   "metadata": {},
   "source": [
    "## Odds\n",
    "- Probabilities can be re-expressed in terms of odds\n",
    "- $O(A) = \\frac{P(A)}{P(A^c)} = \\frac{P(A)}{1- P(A)}$\n",
    "  - E.g. if P(A) = P(rolling a \"4\" on a fair six-sided die) = 1/6, the odds of rolling a \"4\" is:\n",
    "    - $O(A) = \\frac{1/6}{1 - (1/6)} = \\frac{1/6}{5/6} = \\frac{1}{5} = 1 : 5 \\text{ odds}$\n",
    "- And of course we can work backwards from odds to a probability if needed\n",
    "  - E.g. $1:5 = \\frac{1}{1 + 5} = \\frac{1}{6}$"
   ]
  },
  {
   "cell_type": "markdown",
   "id": "279b0ee7-8483-4ada-bb78-228b50ea7bf2",
   "metadata": {},
   "source": [
    "---"
   ]
  },
  {
   "cell_type": "markdown",
   "id": "c42db362-870d-4348-86af-345f96f9f730",
   "metadata": {
    "tags": []
   },
   "source": [
    "## Expected Values\n",
    "- When there is a random variable X that is a *continuous* variable our best guess (expected value) for X is the average of all the Xs\n",
    "- When there is a random variable X that is a *discrete* variable our best guess (expected value) for X is a probability weighted average of all Xs.\n",
    "  - E.g. the expected value of a six-sided die would be:\n",
    "    - $(1 \\cdot \\frac{1}{6}) + (2 \\cdot \\frac{1}{6}) + (3 \\cdot \\frac{1}{6}) + (4 \\cdot \\frac{1}{6}) + (5 \\cdot \\frac{1}{6}) + (6 \\cdot \\frac{1}{6}) = 3.5 0$"
   ]
  },
  {
   "cell_type": "markdown",
   "id": "58068a1d-624a-4c7c-8d55-b976f7df4169",
   "metadata": {},
   "source": [
    "---"
   ]
  },
  {
   "cell_type": "markdown",
   "id": "8628a6dd-d0f5-4e54-aba3-8e7d1f60067b",
   "metadata": {},
   "source": [
    "## General Addition Rule\n",
    "- $\\text{P(A  OR  B) = P(A)  +  P(B)  -  P(A  AND  B)}$\n",
    "- This is called union in set theory and is represented by the ($\\cup$) symbol\n",
    "- This rule can be used for the union of non-disjoint events\n",
    "- This rule can also be used for the union of disjoint events. Disjoint events always have P(A AND B) = 0, so formula simplifies.\n",
    "\n",
    "**Example Disjoint, Dependent Events**\n",
    "\n",
    "- Find probability of a King OR an Ace given a single random card\n",
    "- $\\text{P(King  OR  Ace) = P(King)  +  P(Ace)  -  P(King AND Ace)} = \\frac{4}{52} + \\frac{4}{52} - \\frac{0}{52} = \\frac{8}{52}$\n",
    "\n",
    "**Example Non-Disjoint, Independent Events**\n",
    "\n",
    "- Find probability of a Heart OR a King given a single random card\n",
    "- $\\text{P(Heart  OR  King) = P(Heart)  +  P(King)  -  P(Heart AND King)} = \\frac{13}{52} + \\frac{4}{52} - \\frac{1}{52} = \\frac{16}{52}$\n",
    "\n",
    "- We initially account for the shared outcome twice.  The King of Hearts was included in P(Heart) and in P(King). Subtracting P(Heart AND King) removes one duplicate of the shared outcomes so it is not double counted.\n",
    "\n",
    "![](pictures/addition_rule.jpg)\n"
   ]
  },
  {
   "cell_type": "markdown",
   "id": "8d73594e-6a45-498e-8acc-05b65d94340d",
   "metadata": {},
   "source": [
    "---"
   ]
  },
  {
   "cell_type": "markdown",
   "id": "3baa78f8-24b9-4e62-9dd7-5f17944cf55e",
   "metadata": {},
   "source": [
    "## General Multiplication Rule\n",
    "- $\\text{P(A  AND  B) = P(A|B)  x  P(B)}$  OR\n",
    "- $\\text{P(A  AND  B) = P(B|A)  x  P(A)}$\n",
    "- This is called intersection in set theory and is represented by the ($\\cap$) symbol\n",
    "- This rule is not needed for the intersection for disjoint events.  For disjoint events, P(A AND B) = 0.  Done\n",
    "- This rule can be used for the intersection of non-disjoint events that are either independent and dependent\n",
    "- If independent, then the P(A|B) = P(A).  Independence also means P(B|A) = P(B). \n",
    "  - When independent formula simplifies to $\\text{P(A  AND  B) = P(A)  x  P(B)}$\n",
    "\n",
    "**Example 1 Non-Disjoint Independent Events**\n",
    "\n",
    "- Find probability of a Heart AND a King given a single random card\n",
    "- $\\text{P(Heart  AND  King) = P(Heart)  x  P(King)} = (\\frac{13}{52})(\\frac{4}{52}) = \\frac{1}{52}$\n",
    "\n",
    "**Example 2 Non-Disjoint Independent Events**\n",
    "\n",
    "- Find probability of two Kings given two random cards WITH replacement\n",
    "- $\\text{P(King  AND  King) = P(King)  x  P(King)}) = (\\frac{4}{52})(\\frac{4}{52}) = \\frac{1}{169}$"
   ]
  },
  {
   "cell_type": "markdown",
   "id": "59012a5a-12a6-4535-a54d-6e38e2f6155b",
   "metadata": {},
   "source": [
    "---"
   ]
  },
  {
   "cell_type": "markdown",
   "id": "215b6c34-138a-4dcc-9eaa-415891a897d2",
   "metadata": {},
   "source": [
    "## Marginal And Joint Probability\n",
    "- As shown in *2 Categorical Variables*, a contingency table is a table that shows frequencies of two categorical variables\n",
    "\n",
    "![](pictures/study1.jpg)\n",
    "\n",
    "- **Marginal Probability**---the \"margins\" of the table show the totals.  When one looks at the total for a single variable and uses this in a probability, it is called a **marginal probability**.\n",
    "  - E.g. marginal probability of being a patient given a vaccine is 14/20 = 0.7\n",
    "  - E.g. marginal probability of being a patient with an infection is 11/20 = 0.55\n",
    "- **Joint Probability**---when we calculate probability using two variables.  This is what we are doing with the General Multiplication Rule (AND).\n",
    "  - E.g. joint probability of infection AND vaccine is 5/20 = 0.25 = (5/14)(14/20)\n",
    "  - E.g. Joint probability of no infection AND placebo is 0/20 = 0 = (0/6)(6/20)"
   ]
  },
  {
   "cell_type": "markdown",
   "id": "39487bca-ce95-46e2-8b5d-6056cc4e3bc1",
   "metadata": {},
   "source": [
    "---"
   ]
  },
  {
   "cell_type": "markdown",
   "id": "38628212-c5b5-400c-8652-51ec7604c8bf",
   "metadata": {},
   "source": [
    "## Conditional Probability\n",
    "**Conditional Probability**---when we calculate probability under a certain condition\n",
    "\n",
    "- Written as P(A|B)\n",
    "- Read as \"probability of event A given event B\"\n",
    "  - E.g. conditional probability of infection given vaccine is 5/14 = 0.36\n",
    "  - E.g. conditional probability of infection  given placebo is 6/6 = 1"
   ]
  },
  {
   "cell_type": "markdown",
   "id": "7bef35b9-df85-4451-8ea8-0d9fbab46674",
   "metadata": {},
   "source": [
    "---"
   ]
  },
  {
   "cell_type": "markdown",
   "id": "cc0f7a87-14d7-4476-969d-ca06a09c053c",
   "metadata": {},
   "source": [
    "### Probability Tree\n",
    "- Great way to visualize conditional probabilities\n",
    "- The example below is for a coin toss.  Coin tosses are independent, but this is still a good example.\n",
    "\n",
    "![](pictures/prob_tree_ind.jpg)\n",
    "\n",
    "- The example below uses dependent events\n",
    "\n",
    "![](pictures/prob_tree_dep.jpg)\n",
    "\n",
    "- The probability on the leftmost branches is the marginal probability\n",
    "  - E.g. P(1st Blue) = 2/5\n",
    "- The probability of the middle branch is the conditional probability\n",
    "  - E.g.P(2nd Blue|1st Blue) = 1/4\n",
    "- The probability at the far right is the joint probability\n",
    "  - This is also found using the General Multiplication Rule\n",
    "  - E.g. P(2nd Blue AND 1st Blue) =  P(2nd Blue|First Blue) * P(First Blue)\n",
    "  - E.g. P(2nd Blue AND 1st Blue) =  1/4 x 2/5 = 1/10\n",
    "- The probability of pulling a blue on the second pull is an example of the **Law of Total Probability**\n",
    "  - E.g. P(2nd Blue) = P(2nd Blue AND 1st Blue) + P(2nd Blue AND 1st Red)\n",
    "  - E.g. P(2nd Blue) = (2/5)(1/4) + (3/5)(2/4) = 0.4\n",
    "  - Notice that this is also the marginal probability. P(1st Blue).\n",
    "\n",
    "- The below example shows a probability tree that first splits based on whether or not an individual has HIV (marginal probability).  It then splits based on whether an HIV test would return a positive or negative result (conditional probability).  On the far right it calculates joint probabilities.  On the right in the middle it calculates the probability an individual has HIV given a positive test.\n",
    "\n",
    "![](pictures/prob_tree_hiv.jpg)"
   ]
  },
  {
   "cell_type": "markdown",
   "id": "f114bc7c-b784-455a-801b-7b377ac3cde4",
   "metadata": {},
   "source": [
    "---"
   ]
  },
  {
   "cell_type": "markdown",
   "id": "71d474e5-e4b7-4374-bbdf-cad9a59d8187",
   "metadata": {},
   "source": [
    "### False Positives and Negatives\n",
    "- Probability trees are very useful for calculating the accuracy of medical tests.  There are a few terms related to this which are common in statistic examples.\n",
    "    1. **False Positive**---positive test result when in reality do NOT have\n",
    "    1. **False Negative**---negative test result when in reality DO have\n",
    "    1. **Sensitivity**---true positive rate\n",
    "    1. **Specificity**---true negative rate\n",
    "\n",
    "![](pictures/false_neg_pos.jpg)"
   ]
  },
  {
   "cell_type": "markdown",
   "id": "73b87f06-4ba4-42ff-96db-9c4e69ae2918",
   "metadata": {},
   "source": [
    "---"
   ]
  },
  {
   "cell_type": "markdown",
   "id": "57f9852e-5f13-4059-a71b-ed76254c36b7",
   "metadata": {},
   "source": [
    "## Combinations and Permutations\n",
    "- Combinations and permutations are used to help determine the total number of outcomes of a process or sequence of processes.  This is in turn used to calculate the probability of an event occurring.\n",
    "\n",
    "1.  **Combination**---sequence of things where order does NOT matter\n",
    "    - E.g. list of fruits in fruit salad\n",
    "1. **Permutation**---ORDERED combination\n",
    "    - E.g. safe combination (should really be called a safe permutation)\n",
    "\n",
    "- If tasked to find the total number of possible outcomes, **good luck**! \n",
    "- It is based on whether order matters, whether outcomes are independent, how many outcomes we are choosing, etc.\n",
    "- **Luckily**, data scientists do not often need to calculate these types of statistics\n",
    "- If unlucky, check out the website [Math is Fun](https://www.mathsisfun.com/combinatorics/combinations-permutations.html) to learn terminology and the following flowchart from [this course](https://faculty.elgin.edu/dkernler/statistics/ch05/5-6.html) to help choose the correct method:\n",
    "\n",
    "\n",
    "![](pictures/count_decision_flowchart.jpg)\n",
    "\n",
    "![](pictures/comb_perm.jpg)\n",
    "\n",
    "- Note that sometimes (like in the text *OpenIntro Statistics*) the variable $k$ is used in place of $r$"
   ]
  },
  {
   "cell_type": "markdown",
   "id": "6e4fefe0-af97-4261-a67a-d34209805860",
   "metadata": {},
   "source": [
    "---"
   ]
  },
  {
   "cell_type": "markdown",
   "id": "57bc21fd-ddf2-4c95-93d2-7467f861c0e7",
   "metadata": {},
   "source": [
    "# Theoretical Probability Distributions"
   ]
  },
  {
   "cell_type": "markdown",
   "id": "7b466899-82a7-4d1e-9e5a-d1dbe23b557e",
   "metadata": {},
   "source": [
    "---"
   ]
  },
  {
   "cell_type": "markdown",
   "id": "1270c738-ea5c-4198-967b-59934b6e01e4",
   "metadata": {
    "tags": []
   },
   "source": [
    "## Introduction\n",
    "- **Sample distribution**--frequency or relative frequency (proportions) of observation values in a *sample*.  Distributions are commonly visualized with a histogram or density plot.\n",
    "    - We can calculate sample statistics like the sample mean.  We can also treat the proportions as probabilities of observing values in that *sample*.  These are commonly found with the percentile.  Unfortunately, neither of these are too helpful as we really want to know about the population.\n",
    "- **Population distribution**--frequency or relative frequency (proportions) of observation values in a *population*\n",
    "    - We can calculate population statistics like the population mean.  We can also treat proportions as probabilities of observing values in that *population*.  Both are very useful.  Unfortunately we often do NOT have data for an entire *population*.\n",
    "- **Theoretical probability distribution**--distribution defined by mathematical function that describes a theoretical population\n",
    "    - E.g. normal distribution\n",
    "- **Parameters**--numbers that define the shape of the population distribution or the theoretical probability distribution.\n",
    "    - E.g. population mean ($\\mu$) and population standard deviation ($\\sigma$)\n",
    "    - E.g. normal distribution($\\mu$, $\\sigma$) \n",
    "- Theoretical probability distributions are helpful in two situations:\n",
    "    1. If we do NOT have observation data for an entire population, DO know the population parameters, and DO know that the population distribution shape matches that of a theoretical probability distribution, then we can use the theoretical probability distribution to easily calculate the probabilities of observation values.\n",
    "    1.  If we do NOT have observation data for an entire population, do NOT know the population parameters, but DO have sample data, then we can incorporate theoretical probability distributions in inference to estimate population parameters."
   ]
  },
  {
   "cell_type": "markdown",
   "id": "1b0aa954-fd89-4523-8192-5699c00fa072",
   "metadata": {},
   "source": [
    "---"
   ]
  },
  {
   "cell_type": "markdown",
   "id": "6b808bd5-8a84-4e96-afa5-889829a170dc",
   "metadata": {},
   "source": [
    "## Common Distributions\n",
    "\n",
    "- The image below shows visualization of common theoretical probability distributions:\n",
    "\n",
    "![](pictures/distributions.jpg)\n",
    "\n",
    "- The image below shows common theoretical probability distributions.  The left column contains the name and parameter variables.  The next describes whether the distribution is discrete or continuous.  The next shows PMF or PDF functions, which define the shape of the distribution.  The last two columns show formulas for computing the mean and variance of those distributions.\n",
    "\n",
    "![](pictures/dist_param.png)"
   ]
  },
  {
   "cell_type": "markdown",
   "id": "84ae70bf-94f8-4551-9147-3eaecf177c5d",
   "metadata": {},
   "source": [
    "---"
   ]
  },
  {
   "cell_type": "markdown",
   "id": "7153f58f-2679-4c7e-9476-dbf7097e54b0",
   "metadata": {},
   "source": [
    "## Random Variables\n",
    "- Theoretical probability distributions are divided based on random variable type\n",
    "- **Random variable**--variable that takes on different values determined by chance.  I.e. quantity that varies at random.\n",
    "- There are two types of random variables:\n",
    "    1. **Discrete random variable**--variable whose values are either finite or countable.  Values typically generated from counting.\n",
    "        - E.g. number of of defective light bulbs in box.  Sample space is {0, 1, 2, 3, or 4}\n",
    "    1. **Continuous random variable**--variable that may take on any value in an interval.  Values typically generated from measurement.\n",
    "        - E.g. amount of time until light bulb burns out.  Sample space is {0 <= x <= 200} \n",
    "- *Note that when we are talking about distributions both \"categorical variables\" and \"discrete variables\" are called \"discrete random variables\".  This is because we can count the number of things within categories.  This generates count data (discrete numerical data).  \"Continuous variables\" are treated as \"continuous random variables\" as expected.*"
   ]
  },
  {
   "cell_type": "markdown",
   "id": "45536245-d511-435b-9968-9edf7860b04a",
   "metadata": {},
   "source": [
    "---"
   ]
  },
  {
   "cell_type": "markdown",
   "id": "df5d5704-c5dd-4904-b37f-47c94c8867a7",
   "metadata": {},
   "source": [
    "## Distribution Functions\n",
    "-  We'll cover:\n",
    "    - Probability Mass Function (PMF)\n",
    "    - Probability Density Function (PDF)\n",
    "    - Cumulative Distribution Functin (CDF)\n",
    "    - Percent Point Function (PPF) = Inverse CDF (ICDF)\n",
    "    - Survival Function (SF)\n",
    "    - Inverse Survival Function (ISF)\n",
    "    - Calculus in a nutshell as to better understand the idea of integration\n",
    "    - SciPy functions for these statistics"
   ]
  },
  {
   "cell_type": "markdown",
   "id": "58941e6a-46c8-4129-b2fb-7c9036bf3b4c",
   "metadata": {},
   "source": [
    "---"
   ]
  },
  {
   "cell_type": "markdown",
   "id": "087840d8-f28b-46f3-b33e-ace2195eaadd",
   "metadata": {
    "tags": []
   },
   "source": [
    "### PMF & PDF\n",
    "- Theoretical probability distributions are defined by either of two functions, the PMF or PDF.  These two functions  give distributions their characteristic shapes and properties.  They are also used to calculated statistics about individual points in the distribution.\n",
    "\n",
    "1. **Probability Mass Function (PMF)**--maps value to probability of observing that value.  Discrete variables use PMF.  Visualized as histogram.  We can look at a single discrete value along the x-axis and the height of the bar tells us the probability of getting that x value.  If we took the sum of all the bars in the histogram it would add up to 1.  This is because probability always sums to 1. \n",
    "    - E.g. geometric distribution, binomial distribution, negative binomial distribution, Poisson distribution, etc.\n",
    "1. **Probability Density Function (PDF)**---maps value to its probability density.  Continuous variables use PDFs.  Visualized with density curve.  Probability *density* is NOT the same as probability.  Probability *density* is how much probability is concentrated near the x value.  The height of the curve is the probability *density* and can actually be over 1!  Meanwhile, if we look at a single continuous value along the x-axis the probability of getting that value is zero!  This has to do with continuous variables having an infinite amount of possible values, which means that the probability of getting any single value is infinitely small.  The probability of observing a value within a specified *range* of values is the area under the curve between those two numbers (the *integral*).  While the probability of an entire histogram *sums* to 1, the probability density of the entire curve *integrates* to 1.  Integration must be used in conjunction with the PDF.  Statistical software often places this feature within another function called the cumulative density function.\n",
    "    - E.g. normal distribution, uniform distribution, beta distribution, gamma distribution, etc.\n",
    "\n",
    "- The image below shows a PMF for binomial distribution.  The y-axis shows probability.\n",
    "\n",
    "![](pictures/pmf.png)\n",
    "\n",
    "- The image below shows a PDF for a normal distribution.  The y-axis shows probability density.\n",
    "\n",
    "![](pictures/normal_dist_density.png)\n",
    "\n",
    "- Note that some people use the term PDF for both PMFs and PDFs. We’ll often call everything a probability distribution unless it is important to make a distinction between PMF and PDF."
   ]
  },
  {
   "cell_type": "markdown",
   "id": "d3c0bf79-445a-46ba-822b-e9e19f277085",
   "metadata": {},
   "source": [
    "---"
   ]
  },
  {
   "cell_type": "markdown",
   "id": "bfd4bd77-d9cd-4190-bf57-73680250e96c",
   "metadata": {},
   "source": [
    "### CDF, PPF, SF, & ISF\n",
    "- Other functions are used to calculate statistics\n",
    "- **Cumulative Distribution Function (CDF)**--returns the *percentile* (expressed as a proportion) of the distribution at the specified quantile.  This percentile is also called **cumulative probability**.\n",
    "- The term CDF is used for both discrete variables and continuous variables.  For discrete variables CDF is calculated using addition.  For continuous variables the CDF is calculated using integration.\n",
    "\n",
    "- The following image shows a CDF for a discrete variable\n",
    "\n",
    "![](pictures/cdf_discrete.png)\n",
    "\n",
    "- The following image shows a CDF for a continuous variable\n",
    "\n",
    "![](pictures/cdf.png)\n",
    "\n",
    "- **Percent Point Function (PPF)**--also called the inverse CDF, or ICDF.  Returns the *quantile* of the distribution at the specified percentile (expressed as a proportion).\n",
    "- **Survival Function (SF)**--similar to CDF.  Return is similar to percentile, but returns the probability of obtaining a value *larger* than the specified quantile. It can also be interpreted as the proportion of data “surviving” above a certain value.  Compliment of the CDF as $CDF+SF=1$.  I.e. upper tail version of the CDF.  \n",
    "- **Inverse Survival Function (ISF)**--similar to ICDF.  Return is similar to quantile, but returns the quantile for a specified probability of \"survival\".  I.e. upper tail version of the ICDF.    \n",
    "- The image below shows CDF, PPF (ICDF), SF, and ISF for a standard normal distribution.  Function inputs are on the x-axis and function outputs are on the y-axis.\n",
    "\n",
    "![](pictures/cdf_ppf_sf_isf.png)\n",
    "\n",
    "- **Note that specified quantiles or specified percentiles may be treated as inclusive or exclusive bounds by formulae within statistical software.  Often, but not always CDF and PPF treat the specified quantile or percentile as inclusive.  This may differ for SF and ISF.  This consideration is not typically important for continuous variables, but very important for discrete variables.**"
   ]
  },
  {
   "cell_type": "markdown",
   "id": "8fdbaa90-584c-4e3a-9414-7058eea4d23c",
   "metadata": {},
   "source": [
    "---"
   ]
  },
  {
   "cell_type": "markdown",
   "id": "b7dd54c0-f3fa-4bee-9d14-a79ed763922d",
   "metadata": {},
   "source": [
    "### Calculus in a Nutshell\n",
    "\n",
    "- To better understand PDFs and CDFs, we present calculus...in a nutshell!\n",
    "\n",
    "![](pictures/Calculus.jpg)\n",
    "\n",
    "- **Differentiation**---the process of finding the derivative.  The **derivative** is the change in y divided by the change in x as the change in x approaches zero.  X is often time.  The change in x never quite reaches zero (zero is the limit) because if there is no change in x there is no change in y.  Also, we can't divide by zero. The derivative is also described as the instantaneous rate of change. It is the slope at one point in time.   It is the slope of a line tangent to our point on the graph.   One must find the derivative before one can find the integral.\n",
    "- **Integration**---the process of finding the integral.  It is fancy multiplication. Multiplication is repeated addition.  3y=y+y+y.  But what if *y* is constantly changing? Integration is repeated addition of a constantly changing value over a given time frame. This sum is the **integral**. If graphed it is said to be the area under the curve."
   ]
  },
  {
   "cell_type": "markdown",
   "id": "ff930fbe-f80d-42a1-95d9-69d8e2c764b1",
   "metadata": {},
   "source": [
    "---"
   ]
  },
  {
   "cell_type": "markdown",
   "id": "4116208c-9a54-4999-84a5-627b0c53a370",
   "metadata": {},
   "source": [
    "### SciPy Distribution Functions\n",
    "- SciPy functions for working with distributions follow a shared workflows.  We'll use the frozen distribution workflow.  When a probability distribution object is created, it has fixed parameters.\n",
    "- Steps include:\n",
    "    1. Import stats module\n",
    "    1. Create a distribution object. Functions used to create these objects use shortened probability distribution for their names.  Arguments represent distribution parameters and are different for different distributions.\n",
    "    1. Apply distribution object method"
   ]
  },
  {
   "cell_type": "markdown",
   "id": "5958a223-be62-4bd9-b7f6-679e34be0131",
   "metadata": {},
   "source": [
    "---"
   ]
  },
  {
   "cell_type": "markdown",
   "id": "1aa8a3a6-b4f7-4243-ae48-12b77c605a0e",
   "metadata": {},
   "source": [
    "Code | Use\n",
    "--- | ---\n",
    "`import scipy.stats` | Import SciPy stats module\n",
    "`scipy.stats.norm(loc=<POP_MEAN>, scale=<POP_SD>)` | Creates an object representing a normal distribution.  `loc=` is  $\\mu$ and `scale=` is $\\sigma$.\n",
    "`scipy.stats.binom(n=<TRIALS>, p=<PROBABILITY_SUCCESS>)` | Creates an object representing a binomial distribution.  `n=` is number of trials and `p=` is probability of success per trial.    \n",
    "`.mean()`, `.var()`, `.std()` | Distribution object methods.  Returns mean, variance, or standard deviation.\n",
    "`.stats(moments=\"mv\")` | Distribution object method.  Returns mean (\"m\"), variance (\"v\"), Fisher's skew (\"s\"), or Fisher's kurtosis (\"k\").  By default returns mean and variance.\n",
    "`.cdf(<QUANTILE>)` | Distribution object method.  Cumulative distribution function.  Used for both continuous and discrete variables.\n",
    "`.ppf(<PERCENTILE>)` | Distribution object method.  Percent point function.  Used for continuous variables. Less useful for discrete variables as percentiles do not map exactly to quantiles.\n",
    "`.pmf(<NUMBER_SUCCESSES>)` | Distribution object method.  Probability mass function. Argument is the number of successes ($k$). Only used for discrete variables.\n",
    "`.pdf(<QUANTILE>)` | Distribution object method.  Probability density function.   Only used for continuous variables.  Because it returns a density instead of a probability, it is less useful than `.cdf()` or `.ppf()`.  These incorporate integration and work with probabilities.\n",
    "`.sf(<QUANTILE_LIKE>)` | Distribution object method.  Survival function.  Used for both continuous and discrete variables.\n",
    "`.isf(<PERCENTILE_LIKE>)` | Distribution object method.  Inverse survival function.  Used for continuous variables. Less useful for discrete.\n",
    "`.rvs(size=#, random_state=None)` | Distribution object method.  Returns a NumPy array of randomly selected values from the distribution (*random variates*).  Size indicates the number of values we want to return.  Random state is the seed.  If set to a positive integer, whenever this function is run, it will return the same results.  It is advised to not use common, small, integers like 0, 1, 2, 3, etc..  This would create bias in results if researchers all used these seeds."
   ]
  },
  {
   "cell_type": "markdown",
   "id": "43e359ea-ef90-4fca-a983-89d2c9803303",
   "metadata": {},
   "source": [
    "---"
   ]
  },
  {
   "cell_type": "markdown",
   "id": "f1ecd01a-bb5b-4578-91e9-3122d26ec3ae",
   "metadata": {},
   "source": [
    "## Normal Distribution\n",
    "- Also called **Gaussian Distribution**\n",
    "- Theoretical, symmetric, unimodal, bell-shaped, probability density function\n",
    "- Real-life frequency distributions (histogram bars) may follow a normal distribution\n",
    "  - E.g. heights of people, errors in measurement, blood pressure, marks on tests\n",
    "- The image below shows a normal distribution histogram:\n",
    "\n",
    "![](pictures/normal_dist_histogram.jpg)\n",
    "\n",
    "- The shape of the normal curve is determined by the mean and the standard deviation\n",
    "  - The mean shifts the entire chart horizontally\n",
    "  - The standard deviation compresses or stretches the curve\n",
    "  - Symbolized by N($\\mu$ = #, $\\sigma$ = #)\n",
    " - The following picture shows two normal distributions with different means and standard deviations\n",
    "\n",
    "![](pictures/normal_dist_shapes.jpg)\n",
    "\n",
    "- Though appearance varies, the rules for a normal distribution are:\n",
    "    1. ~68% of observations fall within (+-) 1 sd from the mean\n",
    "    2. ~95% of observations fall within (+-) 2 sd from the mean\n",
    "    3. ~99.7% of observations fall within (+-) 3 sd from the mean\n",
    "\n",
    "- The graph below shows a normal distribution:\n",
    "\n",
    "![](pictures/normal_dist.jpg)"
   ]
  },
  {
   "cell_type": "markdown",
   "id": "9c8eb1a5-025e-4d97-891e-88c2c6f8446d",
   "metadata": {},
   "source": [
    "---"
   ]
  },
  {
   "cell_type": "markdown",
   "id": "912fc65a-aaef-4f7a-b13f-3427015cb088",
   "metadata": {},
   "source": [
    "**EXAMPLES**"
   ]
  },
  {
   "cell_type": "markdown",
   "id": "d7c44578-c882-4ee7-bf5f-98cdcc74352a",
   "metadata": {},
   "source": [
    "**Create Distribution Object**"
   ]
  },
  {
   "cell_type": "code",
   "execution_count": 17,
   "id": "b3292259-18f6-42e5-b7cf-7031d8e7d99b",
   "metadata": {},
   "outputs": [
    {
     "name": "stdout",
     "output_type": "stream",
     "text": [
      "<class 'scipy.stats._distn_infrastructure.rv_frozen'>\n"
     ]
    }
   ],
   "source": [
    "normal_object = stats.norm(loc=150, scale=10)\n",
    "print(type(normal_object))"
   ]
  },
  {
   "cell_type": "markdown",
   "id": "8467f9da-453a-4c67-a29e-b168f0836f6d",
   "metadata": {},
   "source": [
    "**Statistics**"
   ]
  },
  {
   "cell_type": "code",
   "execution_count": 18,
   "id": "fac964e9-78eb-45c4-af79-4ec36211bf98",
   "metadata": {},
   "outputs": [
    {
     "name": "stdout",
     "output_type": "stream",
     "text": [
      "150.0\n"
     ]
    }
   ],
   "source": [
    "print(normal_object.mean())"
   ]
  },
  {
   "cell_type": "code",
   "execution_count": 19,
   "id": "805cd304-fea4-4789-b551-8ae9358ff7ff",
   "metadata": {},
   "outputs": [
    {
     "name": "stdout",
     "output_type": "stream",
     "text": [
      "100.0\n"
     ]
    }
   ],
   "source": [
    "print(normal_object.var())"
   ]
  },
  {
   "cell_type": "code",
   "execution_count": 20,
   "id": "e00f9699-e42b-4957-a368-988b9fc67528",
   "metadata": {},
   "outputs": [
    {
     "name": "stdout",
     "output_type": "stream",
     "text": [
      "10.0\n"
     ]
    }
   ],
   "source": [
    "print(normal_object.std())"
   ]
  },
  {
   "cell_type": "code",
   "execution_count": 21,
   "id": "78a55313-7535-44d0-83e0-c46f88e21891",
   "metadata": {},
   "outputs": [
    {
     "name": "stdout",
     "output_type": "stream",
     "text": [
      "The mean is:  150.0\n",
      "The variance is:  100.0\n",
      "The skew is:  0.0\n",
      "The kurtosis is:  0.0\n"
     ]
    }
   ],
   "source": [
    "my_mean, my_variance, my_skew, my_kurtosis = normal_object.stats(moments=\"mvsk\")\n",
    "print(f'The mean is:  {my_mean}')\n",
    "print(f'The variance is:  {my_variance}')\n",
    "print(f'The skew is:  {my_skew}')\n",
    "print(f'The kurtosis is:  {my_kurtosis}')"
   ]
  },
  {
   "cell_type": "markdown",
   "id": "2d3e16b3-ed80-4bd1-b9fa-d49c270ae2cc",
   "metadata": {},
   "source": [
    "**CDF Returns Percentile**"
   ]
  },
  {
   "cell_type": "code",
   "execution_count": 22,
   "id": "3981e049-ed0e-4f66-91fd-fcf4164ef33e",
   "metadata": {},
   "outputs": [
    {
     "name": "stdout",
     "output_type": "stream",
     "text": [
      "Percentile at -3 SD is:  0.0013498980316300933\n",
      "Percentile at -2 SD is:  0.022750131948179195\n",
      "Percentile at -1 SD is:  0.15865525393145707\n",
      "Percentile at 0 SD is: 0.5\n",
      "Percentile at 1 SD is: 0.8413447460685429\n",
      "Percentile at 2 SD is: 0.9772498680518208\n",
      "Percentile at 3 SD is: 0.9986501019683699\n"
     ]
    }
   ],
   "source": [
    "cdf_at_three_sd_neg = normal_object.cdf(120)\n",
    "print(f'Percentile at -3 SD is:  {cdf_at_three_sd_neg}')\n",
    "cdf_at_two_sd_neg = normal_object.cdf(130)\n",
    "print(f'Percentile at -2 SD is:  {cdf_at_two_sd_neg}')\n",
    "cdf_at_one_sd_neg = normal_object.cdf(140)\n",
    "print(f'Percentile at -1 SD is:  {cdf_at_one_sd_neg}')\n",
    "cdf_at_mean = normal_object.cdf(150)\n",
    "print(f'Percentile at 0 SD is: {cdf_at_mean}')\n",
    "cdf_at_one_sd_pos = normal_object.cdf(160)\n",
    "print(f'Percentile at 1 SD is: {cdf_at_one_sd_pos}')\n",
    "cdf_at_two_sd_pos = normal_object.cdf(170)\n",
    "print(f'Percentile at 2 SD is: {cdf_at_two_sd_pos}')\n",
    "cdf_at_three_sd_pos = normal_object.cdf(180)\n",
    "print(f'Percentile at 3 SD is: {cdf_at_three_sd_pos}')"
   ]
  },
  {
   "cell_type": "code",
   "execution_count": 23,
   "id": "cd8c3fc0-9fb7-449c-bc9a-62e061b0637a",
   "metadata": {},
   "outputs": [
    {
     "name": "stdout",
     "output_type": "stream",
     "text": [
      "Probability within 1 SD is:0.6827\n",
      "Probability within 2 SD is:0.9545\n",
      "Probability within 3 SD is:0.9973\n"
     ]
    }
   ],
   "source": [
    "print(f'Probability within 1 SD is:{round(cdf_at_one_sd_pos - cdf_at_one_sd_neg, 4)}')  # Should be ~ 0.6827\n",
    "print(f'Probability within 2 SD is:{round(cdf_at_two_sd_pos - cdf_at_two_sd_neg, 4)}')  # Should be ~ 0.9545\n",
    "print(f'Probability within 3 SD is:{round(cdf_at_three_sd_pos - cdf_at_three_sd_neg, 4)}')  # Should be ~ 0.9973"
   ]
  },
  {
   "cell_type": "markdown",
   "id": "ef8b58c9-59fd-4abf-ba10-4caae57f1b58",
   "metadata": {},
   "source": [
    "**PPF Returns Quantile**"
   ]
  },
  {
   "cell_type": "code",
   "execution_count": 24,
   "id": "f9c409c9-3c2f-4478-bd30-b5efdb85686d",
   "metadata": {},
   "outputs": [
    {
     "name": "stdout",
     "output_type": "stream",
     "text": [
      "Quantile at -3 SD is:  120.0\n",
      "Quantile at -2 SD is:  130.0\n",
      "Quantile at -1 SD is:  140.0\n",
      "Quantile at 0 SD is: 150.0\n",
      "Quantile at 1 SD is: 160.0\n",
      "Quantile at 2 SD is: 170.0\n",
      "Quantile at 3 SD is: 180.0\n"
     ]
    }
   ],
   "source": [
    "ppf_at_three_sd_neg = normal_object.ppf(0.0013498980316300933)\n",
    "print(f'Quantile at -3 SD is:  {ppf_at_three_sd_neg}')\n",
    "ppf_at_two_sd_neg = normal_object.ppf(0.022750131948179195)\n",
    "print(f'Quantile at -2 SD is:  {ppf_at_two_sd_neg}')\n",
    "ppf_at_one_sd_neg = normal_object.ppf(0.15865525393145707)\n",
    "print(f'Quantile at -1 SD is:  {ppf_at_one_sd_neg}')\n",
    "ppf_at_mean = normal_object.ppf(0.50)\n",
    "print(f'Quantile at 0 SD is: {ppf_at_mean}')\n",
    "ppf_at_one_sd_pos = normal_object.ppf(0.8413447460685429)\n",
    "print(f'Quantile at 1 SD is: {ppf_at_one_sd_pos}')\n",
    "ppf_at_two_sd_pos = normal_object.ppf(0.9772498680518208)\n",
    "print(f'Quantile at 2 SD is: {ppf_at_two_sd_pos}')\n",
    "ppf_at_three_sd_pos = normal_object.ppf(0.9986501019683699)\n",
    "print(f'Quantile at 3 SD is: {round(ppf_at_three_sd_pos, 4)}')"
   ]
  },
  {
   "cell_type": "code",
   "execution_count": 25,
   "id": "1c7fd948-fb3d-46bb-9c56-5de22d931669",
   "metadata": {},
   "outputs": [
    {
     "name": "stdout",
     "output_type": "stream",
     "text": [
      "IQR is:  13.489795003921643\n"
     ]
    }
   ],
   "source": [
    "ppf_at_3rd_quantile = normal_object.ppf(0.75)\n",
    "ppf_at_1st_quantile = normal_object.ppf(0.25)\n",
    "\n",
    "print(f'IQR is:  {ppf_at_3rd_quantile - ppf_at_1st_quantile}')"
   ]
  },
  {
   "cell_type": "markdown",
   "id": "e919a86a-220a-45f6-be66-8dd7dbfbb17f",
   "metadata": {},
   "source": [
    "**SF Returns Upper Tail Percentile**"
   ]
  },
  {
   "cell_type": "code",
   "execution_count": 26,
   "id": "0cdcc376-244b-41e0-bec6-393f222f37da",
   "metadata": {},
   "outputs": [
    {
     "name": "stdout",
     "output_type": "stream",
     "text": [
      "CDF finds lower tail percentile.  At 1 SD this is: 0.8413447460685429\n",
      "SF finds the upper tail percentile.  At 1 SD this is:  0.15865525393145707\n",
      "Lower tail percentile and upper tail percentile are complements and thus add to:  1.0\n"
     ]
    }
   ],
   "source": [
    "cdf_at_one_sd_pos = normal_object.cdf(160)\n",
    "print(f'CDF finds lower tail percentile.  At 1 SD this is: {cdf_at_one_sd_pos}')\n",
    "sf_at_one_sd_pos = normal_object.sf(160)\n",
    "print(f'SF finds the upper tail percentile.  At 1 SD this is:  {sf_at_one_sd_pos}')\n",
    "my_sum = cdf_at_one_sd_pos + sf_at_one_sd_pos\n",
    "print(f'Lower tail percentile and upper tail percentile are complements and thus add to:  {my_sum}')"
   ]
  },
  {
   "cell_type": "markdown",
   "id": "6e0f825c-9a9c-4c0d-b152-c7782d97bc8e",
   "metadata": {},
   "source": [
    "**ISF Returns Upper Tail Quantile**\n",
    "\n",
    "- PPF (ICDF) and ISF both receive proportions, but treat them differently\n",
    "- PPF treats the proportion as the proportion below the quantile (lower tail)\n",
    "- ISF treats the proportion as the proportion above the quantile (upper tail)"
   ]
  },
  {
   "cell_type": "code",
   "execution_count": 27,
   "id": "9ad6fed7-37a1-4af7-8c35-1ca7a44c47ae",
   "metadata": {},
   "outputs": [
    {
     "name": "stdout",
     "output_type": "stream",
     "text": [
      "PPF finds the lower tail quantile: 160.0\n",
      "ISF find the upper tail quantile: 140.0\n"
     ]
    }
   ],
   "source": [
    "ppf_at_one_sd_pos = normal_object.ppf(0.8413447460685429)  # Input same proportion\n",
    "print(f'PPF finds the lower tail quantile: {ppf_at_one_sd_pos}')\n",
    "isf_at_one_sd_pos = normal_object.isf(0.8413447460685429)  # Input same proportion\n",
    "print(f'ISF find the upper tail quantile: {isf_at_one_sd_pos}')"
   ]
  },
  {
   "cell_type": "markdown",
   "id": "60f16b48-b490-43bc-8a1d-688b41ddf396",
   "metadata": {},
   "source": [
    "**Random Sample**"
   ]
  },
  {
   "cell_type": "code",
   "execution_count": 28,
   "id": "acc54126-3764-4fd9-90eb-bc59843dc8cd",
   "metadata": {},
   "outputs": [
    {
     "name": "stdout",
     "output_type": "stream",
     "text": [
      "<class 'numpy.ndarray'>\n",
      "[154.40860502 152.70297909 147.22809174 159.29811799 139.07679632\n",
      " 158.10970236 142.45837106 144.46421866 169.9088042  159.99821034]\n"
     ]
    }
   ],
   "source": [
    "random_sample = normal_object.rvs(size=10, random_state=79572513)  # sample size = 10\n",
    "print(type(random_sample))\n",
    "print(random_sample)"
   ]
  },
  {
   "cell_type": "code",
   "execution_count": 29,
   "id": "6ca0bfe5-7323-4a07-9bea-f65fe8c46cea",
   "metadata": {},
   "outputs": [
    {
     "data": {
      "image/png": "[encoded data removed]",
      "text/plain": [
       "<Figure size 360x360 with 1 Axes>"
      ]
     },
     "metadata": {},
     "output_type": "display_data"
    }
   ],
   "source": [
    "random_sample = normal_object.rvs(size=1000, random_state=79572513)  # sample size = 1000\n",
    "my_data_frame = pd.DataFrame({\"values_column\": random_sample})\n",
    "sns.displot(data=my_data_frame, kind=\"hist\", x=\"values_column\")\n",
    "plt.show()"
   ]
  },
  {
   "cell_type": "markdown",
   "id": "25dd2ebc-6704-4989-a214-197a8fbc402c",
   "metadata": {},
   "source": [
    "**Hypothetical Example**\n",
    "- The average height for a man in the U.S. is about 5'10\" (70\").  The standard deviation is about 3\".  What is the percentile of a man who is 5'8\" (68\")?  What is the median height?"
   ]
  },
  {
   "cell_type": "code",
   "execution_count": 30,
   "id": "3219907b-d8b7-424b-bd5f-11af18a14afa",
   "metadata": {},
   "outputs": [
    {
     "name": "stdout",
     "output_type": "stream",
     "text": [
      "The percentile (as a proportion) is:  0.2525.\n",
      "There is a 0.2525 probability that a randomly sampled U.S. male is less than or equal to 68 inches.\n",
      "The median is:  70.0.\n",
      "There is a 0.50 probability that a randomly sampled U.S. male is less than or equal to 70.0 inches\n"
     ]
    }
   ],
   "source": [
    "# Input population pararmeters\n",
    "my_observation = 68\n",
    "my_mean = 70\n",
    "my_sd = 3\n",
    "\n",
    "# Create distribution object\n",
    "normal_object = stats.norm(loc=my_mean, scale=my_sd)\n",
    "\n",
    "# Calculate percentile\n",
    "probability = normal_object.cdf(my_observation)\n",
    "\n",
    "print(f'The percentile (as a proportion) is:  {round(probability, 4)}.')\n",
    "print(\n",
    "    f'There is a {round(probability, 4)} probability that a randomly '\n",
    "    f'sampled U.S. male is less than or equal to {my_observation} inches.'\n",
    ")\n",
    "      \n",
    "# Calculate quantile at 50th percentile (median)\n",
    "my_median = normal_object.ppf(0.50)\n",
    "\n",
    "print(f'The median is:  {my_median}.')\n",
    "print(\n",
    "    'There is a 0.50 probability that a randomly '\n",
    "    f'sampled U.S. male is less than or equal to {my_median} inches'\n",
    ")      "
   ]
  },
  {
   "cell_type": "markdown",
   "id": "77c6359b-a40f-40a1-abd5-b36dd51bbccf",
   "metadata": {},
   "source": [
    "---"
   ]
  },
  {
   "cell_type": "markdown",
   "id": "ef918bdc-d950-4810-9bf6-97cededd6f29",
   "metadata": {},
   "source": [
    "### Standard Normal Distribution\n",
    "- **Z-Score**---also called standard score.  Number of standard deviations the observation falls from the population mean.  These are quantiles.\n",
    "- Z-Score is calculated by taking an observation, subtracting the population mean, then dividing this difference by the population standard deviation\n",
    "- $\\text{Z-Score} = \\frac{x - \\mu}{\\sigma}$\n",
    "- If an observation has a Z-score above 2 or below -2, then it is said to be \"unusual\".  This means there is less than a 5% probability of it occurring.\n",
    "- **Standard Normal Distribution**---when all observations in a normal distribution are converted into their Z-Score (standard score) and their relative frequencies are graphed with a density curve.  Alternatively defined with PDF for normal distribution: N($\\mu$=0, $\\sigma$=1).\n",
    "- The image below shows how a distribution is standardized:\n",
    "\n",
    "![](pictures/standard_normal_dist.jpg)\n",
    "\n",
    "- The Z-Score (quantile) can be converted to a percentile with the CDF function.  A percentile can converted into a Z-Score (quantile) with the ICDF function.  A standard normal distribution table can also be used if we are a luddite.\n",
    "- We can use CDF at two specified quantiles (e.g. ~ -2 sd and ~ 2 sd in a standard normal distribution) and return percentiles (e.g. 2.5% and 97.5%).  If we subtract the smaller percentile form the larger percentile we calculate the probability within this quantile interval (e.g. 95%).\n",
    "- The image below finds probability within +-1 sd in a standard normal distribution\n",
    "\n",
    "![](pictures/cumulative_distribution.jpg)\n",
    "\n",
    "- We can use ICDF at two specified percentiles (e.g. 2.5% and 97.5% in a standard normal distribution) and return quantiles (e.g. ~ -2 sd and ~ +2 sd).  The quantile interval contains a certain percentage of the observations (e.g. 95%).\n",
    "- We can repeat this calculations to find the quantile intervals needed to contain different amounts of observations.  This concept will be key for constructing parametric confidence intervals later on.\n",
    "    - 90% of observations are within +- 1.645 quantiles (Z-Scores)\n",
    "    - 95% of observations are within +- 1.960 quantiles (Z-Scores)\n",
    "    - 99% of observations are within +- 2.576 quantiles (Z-Scores)\n",
    "- The image below displays the use of many functions.  Top image is standard normal distribution defined by a PDF, middle images are CDF and SF functions that find percentiles, and bottom images are ICDF and ISF that find quantiles.  We have chosen to display intervals that capture 95% of observations as this is common in inference.\n",
    "\n",
    "![](pictures/cdf_ppf_sf_isf_95.png)"
   ]
  },
  {
   "cell_type": "markdown",
   "id": "4f210c4b-0cc0-4a5a-8d85-af18ff4b4d90",
   "metadata": {},
   "source": [
    "---"
   ]
  },
  {
   "cell_type": "markdown",
   "id": "5b54bfbc-a0df-47da-9c9a-54adef229bf6",
   "metadata": {},
   "source": [
    "**EXAMPLES**"
   ]
  },
  {
   "cell_type": "code",
   "execution_count": 31,
   "id": "aaed386f-a3d6-48e7-8114-2dfd53080ba1",
   "metadata": {},
   "outputs": [],
   "source": [
    "normal_object = stats.norm(loc=0, scale=1)  # Create standard normal distribution"
   ]
  },
  {
   "cell_type": "markdown",
   "id": "b7399e10-9248-4a8e-8f52-e627089a4b8a",
   "metadata": {},
   "source": [
    "**CDF Returns Percentile**"
   ]
  },
  {
   "cell_type": "code",
   "execution_count": 32,
   "id": "b983f1c4-0a32-4009-b18b-7900d451a3d0",
   "metadata": {},
   "outputs": [
    {
     "name": "stdout",
     "output_type": "stream",
     "text": [
      "Percentile at -3 SD is:  0.0013498980316300933\n",
      "Percentile at -2 SD is:  0.022750131948179195\n",
      "Percentile at -1 SD is:  0.15865525393145707\n",
      "Percentile at 0 SD is: 0.5\n",
      "Percentile at 1 SD is: 0.8413447460685429\n",
      "Percentile at 2 SD is: 0.9772498680518208\n",
      "Percentile at 3 SD is: 0.9986501019683699\n"
     ]
    }
   ],
   "source": [
    "cdf_at_three_sd_neg = normal_object.cdf(-3)\n",
    "print(f'Percentile at -3 SD is:  {cdf_at_three_sd_neg}')\n",
    "cdf_at_two_sd_neg = normal_object.cdf(-2)\n",
    "print(f'Percentile at -2 SD is:  {cdf_at_two_sd_neg}')\n",
    "cdf_at_one_sd_neg = normal_object.cdf(-1)\n",
    "print(f'Percentile at -1 SD is:  {cdf_at_one_sd_neg}')\n",
    "cdf_at_mean = normal_object.cdf(0)\n",
    "print(f'Percentile at 0 SD is: {cdf_at_mean}')\n",
    "cdf_at_one_sd_pos = normal_object.cdf(1)\n",
    "print(f'Percentile at 1 SD is: {cdf_at_one_sd_pos}')\n",
    "cdf_at_two_sd_pos = normal_object.cdf(2)\n",
    "print(f'Percentile at 2 SD is: {cdf_at_two_sd_pos}')\n",
    "cdf_at_three_sd_pos = normal_object.cdf(3)\n",
    "print(f'Percentile at 3 SD is: {cdf_at_three_sd_pos}')"
   ]
  },
  {
   "cell_type": "code",
   "execution_count": 33,
   "id": "d413ac21-10b1-4fc9-a5aa-e12e2209a1d9",
   "metadata": {},
   "outputs": [
    {
     "name": "stdout",
     "output_type": "stream",
     "text": [
      "Probability within 1 SD is:0.6827\n",
      "Probability within 2 SD is:0.9545\n",
      "Probability within 3 SD is:0.9973\n"
     ]
    }
   ],
   "source": [
    "print(f'Probability within 1 SD is:{round(cdf_at_one_sd_pos - cdf_at_one_sd_neg, 4)}')  # Should be ~ 0.6827\n",
    "print(f'Probability within 2 SD is:{round(cdf_at_two_sd_pos - cdf_at_two_sd_neg, 4)}')  # Should be ~ 0.9545\n",
    "print(f'Probability within 3 SD is:{round(cdf_at_three_sd_pos - cdf_at_three_sd_neg, 4)}')  # Should be ~ 0.9973"
   ]
  },
  {
   "cell_type": "markdown",
   "id": "b5b4128c-5555-410f-9874-6a1509c6fc79",
   "metadata": {},
   "source": [
    "**PPF Returns Quantile**"
   ]
  },
  {
   "cell_type": "code",
   "execution_count": 34,
   "id": "7c486b6e-74a4-4263-bc1a-f9e10490d45d",
   "metadata": {},
   "outputs": [
    {
     "name": "stdout",
     "output_type": "stream",
     "text": [
      "Quantile at -3 SD is: -3.0\n",
      "Quantile at -2 SD is: -2.0\n",
      "Quantile at -1 SD is: -1.0\n",
      "Quantile at 0 SD is: 0.0\n",
      "Quantile at 1 SD is: 1.0\n",
      "Quantile at 2 SD is: 2.0\n",
      "Quantile at 3 SD is: 3.0\n"
     ]
    }
   ],
   "source": [
    "ppf_at_three_sd_neg = normal_object.ppf(0.0013498980316300933)\n",
    "print(f'Quantile at -3 SD is: {round(ppf_at_three_sd_neg, 4)}')\n",
    "ppf_at_two_sd_neg = normal_object.ppf(0.022750131948179195)\n",
    "print(f'Quantile at -2 SD is: {round(ppf_at_two_sd_neg, 4)}')\n",
    "ppf_at_one_sd_neg = normal_object.ppf(0.15865525393145707)\n",
    "print(f'Quantile at -1 SD is: {ppf_at_one_sd_neg}')\n",
    "ppf_at_mean = normal_object.ppf(0.50)\n",
    "print(f'Quantile at 0 SD is: {ppf_at_mean}')\n",
    "ppf_at_one_sd_pos = normal_object.ppf(0.8413447460685429)\n",
    "print(f'Quantile at 1 SD is: {round(ppf_at_one_sd_pos,4)}')\n",
    "ppf_at_two_sd_pos = normal_object.ppf(0.9772498680518208)\n",
    "print(f'Quantile at 2 SD is: {round(ppf_at_two_sd_pos,4)}')\n",
    "ppf_at_three_sd_pos = normal_object.ppf(0.9986501019683699)\n",
    "print(f'Quantile at 3 SD is: {round(ppf_at_three_sd_pos, 4)}')"
   ]
  },
  {
   "cell_type": "markdown",
   "id": "58a497d4-b6f5-4f9a-84cc-f9ad08c91a9e",
   "metadata": {},
   "source": [
    "---"
   ]
  },
  {
   "cell_type": "markdown",
   "id": "89a03251-fc03-4396-97b5-28d672cdd943",
   "metadata": {
    "tags": []
   },
   "source": [
    "### Normal Probability Plot\n",
    "- The normality of a dataset can be visualized with a histogram, box plot, density curve, or normal probability plot\n",
    "- **Normal Probability Plot**---is a scatterplot with actual data values (often on the y-axis) and theoretical Z-Scores following a normal distribution (often on the x-axis)\n",
    "- **Q-Q Plot**---another name for the normal probability plot.  Called Q-Q because we plot observed data quantiles against theoretical Z-Score quantiles.\n",
    "- **P-P Plot**--plot observed cumulative distribution against theoretical cumulative distribution.  Less common than Q-Q plot.\n",
    "- If the points form a straight line then the actual data is normally distributed\n",
    "\n",
    "To create a normal probability plot:\n",
    "\n",
    "1. For the y-axis, mark the location of each observation/actual data quantile.  Y-axis done.\n",
    "1. For the X-axis, generate perfect normal distribution of Z-Scores using the same number of Z-Scores as actual data observations\n",
    "1. Match each observation (going lowest to highest) with theoretical Z-Score and plot on the graph.\n",
    "\n",
    "**Creating Q-Q Plot**\n",
    "\n",
    "![](pictures/normal_plot_dashes.jpg)\n",
    "\n",
    "-  The following image shows a normal probability plot for the heights of NBA basketball players.  There is a stair step effect because real life values were only recorded in whole inches. \n",
    "\n",
    "**Q-Q Plot**\n",
    "\n",
    "![](pictures/normal_plot.jpg)\n",
    "\n",
    "- Points on the normal probability plot that are not straight tell us how the actual distribution differs from a perfectly normal distribution\n",
    "- Small sample sizes will always create crooked lines, even if the sample is from a population with a normal distribution\n",
    "\n",
    "**Reading Q-Q Plots**\n",
    "\n",
    "![](pictures/normal_plot_skew.jpg)\n",
    "\n",
    "- There are numerical normality tests such as the Shapiro-Wilk test, the D'Agostino's K^2 test, or the Anderson-Darling test"
   ]
  },
  {
   "cell_type": "markdown",
   "id": "700f669d-1c41-4b1f-afbb-91ab033873dc",
   "metadata": {},
   "source": [
    "---"
   ]
  },
  {
   "cell_type": "markdown",
   "id": "0d08cc54-caba-4489-a9ab-bfe308abfc85",
   "metadata": {},
   "source": [
    "Code | Use\n",
    "--- | ---\n",
    "`sm.qqplot(<OBSERVED_QUANTILES>, fit=True, line='45')` | Create Q-Q plot.  Observed quantiles must be in 1D array-like form such as a Pandas series.  Argument `fit=True` enables the library to automatically create the distribution of theoretical quantiles.  Argument `line=` can be `\"45\"`, `\"s\"`, `\"r\"`, `\"q\"`, or `None`.  "
   ]
  },
  {
   "cell_type": "markdown",
   "id": "a3f914bf-da30-4352-a1fc-11e09a1bc851",
   "metadata": {},
   "source": [
    "---"
   ]
  },
  {
   "cell_type": "markdown",
   "id": "8975b194-a1b0-4954-b2c4-fc7bce9482d8",
   "metadata": {},
   "source": [
    "**EXAMPLES**"
   ]
  },
  {
   "cell_type": "markdown",
   "id": "3e27a2a5-cac2-4597-944a-a3536c345c57",
   "metadata": {},
   "source": [
    "- The following Q-Q plot shows \"sample quantiles\" on the y-axis.  These are penguin mass observation values.  The \"theoretical quantiles\" are automatically created by the library.  This Q-Q shows a non-normal distribution with right skew with short tails.  We'll verify this by creating a histogram"
   ]
  },
  {
   "cell_type": "code",
   "execution_count": 35,
   "id": "6f981367-aee3-4663-84e0-857e8b7f0260",
   "metadata": {},
   "outputs": [
    {
     "data": {
      "image/png": "[encoded data removed]",
      "text/plain": [
       "<Figure size 432x288 with 1 Axes>"
      ]
     },
     "metadata": {},
     "output_type": "display_data"
    }
   ],
   "source": [
    "sm.qqplot(penguins[\"body_mass_g\"], fit=True, line=\"45\")\n",
    "plt.show()"
   ]
  },
  {
   "cell_type": "code",
   "execution_count": 36,
   "id": "5245c4a9-7054-4e04-88ce-0435197bebb9",
   "metadata": {},
   "outputs": [
    {
     "data": {
      "image/png": "[encoded data removed]",
      "text/plain": [
       "<Figure size 360x360 with 1 Axes>"
      ]
     },
     "metadata": {},
     "output_type": "display_data"
    }
   ],
   "source": [
    "sns.displot(kind=\"hist\", data=penguins, x=\"body_mass_g\", bins=20)\n",
    "plt.show()"
   ]
  },
  {
   "cell_type": "markdown",
   "id": "f341149e-00ea-41af-aecf-5da7dce14b4f",
   "metadata": {},
   "source": [
    "---"
   ]
  },
  {
   "cell_type": "markdown",
   "id": "ae61b32e-02d8-4bbe-b619-2e608ea7e7f7",
   "metadata": {
    "tags": []
   },
   "source": [
    "## Bernoulli Distribution\n",
    "- **Bernoulli Trial**---trial with two, disjoint, possible outcomes\n",
    "- **Success**---outcome of trial that we decide to label success.  Symbolized with \"1\".\n",
    "- **Failure**---outcome of trial that we decide to label failure.  Symbolized with a \"0\".\n",
    "- **Probability of Success**---symbolized with $p$\n",
    "- **Probability of Failure**---symbolized with $q = 1-p$\n",
    "- **Bernoulli Distribution**--- theoretical distribution that shows the probability of success and failure for a single Bernoulli Trial\n",
    "\n",
    "**Bernoulli Distribution Chart**\n",
    "\n",
    "![](pictures/dist_bernoulli_chart.jpg)\n",
    "\n",
    "**Bernoulli Distribution Formulas**\n",
    "![](pictures/dist_bernoulli.jpg)\n",
    "\n",
    "- When a categorical variable has two levels we may be able to use the Bernoulli distribution.  We arbitrarily define one level as success and one level as failure.\n",
    "    - E.g. variable is coin side with levels head and tail.  We label head as success and tail as failure.  The probability of success is 0.5 for a fair coin.\n",
    "    - E.g. variable is gender with levels male and female.  We label female as success and male as failure.  The probability of success is the proportion of females in the population.\n",
    "- When a categorical or discrete variable has three or more levels we may be able to use the Bernoulli distribution.  We arbitrarily group outcomes into one level to define as success and group outcomes into another level to define as a failure.\n",
    "    - E.g. variable is die number with levels one, two, three...We label one or two a success and three, four, five, or six a failure.  The probability of success on a fair die is 2/6. \n",
    "    - E.g. variable is fruit color with levels red, orange, etc.  We label red or orange a success and yellow, green, blue, or purple a failure.  The probability of success is the proportion of red or orange fruits in the population.\n",
    "- Bernoulli variables are a simple concept used to build more complex theoretical probability distributions.  Used in:\n",
    "  1. Geometric Distributions\n",
    "  1. Binomial Distributions\n",
    "  1. Negative Binomial Distributions\n",
    "  1. Poisson"
   ]
  },
  {
   "cell_type": "markdown",
   "id": "39fb69dc-a488-46cc-8f8e-6b407886194c",
   "metadata": {},
   "source": [
    "---"
   ]
  },
  {
   "cell_type": "markdown",
   "id": "64cf4d1b-2426-47a8-8cc4-73f80f84e9ad",
   "metadata": {},
   "source": [
    "## Geometric Distribution\n",
    "- Theoretical probability distribution that uses Bernoulli random variables\n",
    "- **Describes the number of independent trials it takes to observe the first success**\n",
    "- **Independent**---each trial does not affect another\n",
    "- **Identically Distributed**---each trial has the same probability of success (it does not change through time as we sample)\n",
    "- The probability for a geometric distribution decreases exponentially\n",
    "- The Geometric distribution will always be right skewed and can never be approximated by the normal distribution\n",
    "\n",
    "There are three conditions that must be true to use a geometric distribution\n",
    "\n",
    "1. Trials are independent\n",
    "1. Each trial outcome can be classified as a *success* or *failure*\n",
    "1. Probability of a success, $p$, is the same for each trial\n",
    "\n",
    "**Geometric Distribution Chart**\n",
    "\n",
    "![](pictures/geom_dist.jpg)\n",
    "\n",
    "**Geometric Distribution Formulas**\n",
    "\n",
    "![](pictures/dist_geom.jpg)"
   ]
  },
  {
   "cell_type": "markdown",
   "id": "92f43978-025f-4502-9a13-bdd76656a554",
   "metadata": {},
   "source": [
    "---"
   ]
  },
  {
   "cell_type": "markdown",
   "id": "ba0e5a59-3def-4ee8-a917-bf1a4ecf3171",
   "metadata": {},
   "source": [
    "**EXAMPLES**"
   ]
  },
  {
   "cell_type": "markdown",
   "id": "c945f440-474e-49f1-beca-18dae47c9abe",
   "metadata": {},
   "source": [
    "**Hypothetical Example**\n",
    "\n",
    "- Find the expected value (mean) number of times it would take to roll a four while using a six sided die"
   ]
  },
  {
   "cell_type": "code",
   "execution_count": 37,
   "id": "4d301988-9cb8-4e07-ab98-124b9b2a170a",
   "metadata": {},
   "outputs": [
    {
     "name": "stdout",
     "output_type": "stream",
     "text": [
      "We expect it to take 6.0 rolls on average to get the first 4.\n"
     ]
    }
   ],
   "source": [
    "# Input parameters\n",
    "my_p = 1/6\n",
    "\n",
    "# Calculate expected\n",
    "my_expected = 1/my_p\n",
    "\n",
    "print(f\"We expect it to take {my_expected} rolls on average to get the first 4.\")"
   ]
  },
  {
   "cell_type": "markdown",
   "id": "fdef14c4-d8c7-4a91-95ce-a52b968ae919",
   "metadata": {},
   "source": [
    "**Hypothetical Example**\n",
    "\n",
    "- Find the probability of rolling a four for the first time on the 10th roll of the die"
   ]
  },
  {
   "cell_type": "code",
   "execution_count": 38,
   "id": "ad7fbc3d-22ab-4849-b440-05b34da66db2",
   "metadata": {},
   "outputs": [
    {
     "name": "stdout",
     "output_type": "stream",
     "text": [
      "The probability of rolling a four for the first time on roll 10 of the die is 0.0323.\n"
     ]
    }
   ],
   "source": [
    "# Input parameters\n",
    "my_p = 1/6\n",
    "my_n = 10\n",
    "\n",
    "# Create distribution object\n",
    "geom_object = stats.geom(p=my_p)\n",
    "\n",
    "# Calculate probabilty\n",
    "probability = geom_object.pmf(my_n)\n",
    "print(\n",
    "    'The probability of rolling a four for the first time '\n",
    "    f'on roll {my_n} of the die is {round(probability, 4)}.'\n",
    ")"
   ]
  },
  {
   "cell_type": "markdown",
   "id": "0e51d195-e2c5-4307-8880-19afa07a8ecc",
   "metadata": {},
   "source": [
    "- Note that this could also be found using the General Multiplication Rule.  Because these are independent events we would multiply P(A) X P(B) X P(C), etc.  We would ask the question what is the probability of rolling a number other than four nine times in a row and then rolling a four."
   ]
  },
  {
   "cell_type": "code",
   "execution_count": 39,
   "id": "6a5692e8-02ba-434d-8211-edc0d62c43ee",
   "metadata": {},
   "outputs": [
    {
     "name": "stdout",
     "output_type": "stream",
     "text": [
      "The probability of rolling a four for the first time on roll 10 of the die is 0.0323.\n"
     ]
    }
   ],
   "source": [
    "probability_10th_try = ((5/6)**9) * (1/6)\n",
    "print(\n",
    "    'The probability of rolling a four for the first time '\n",
    "    f'on roll {my_n} of the die is {round(probability_10th_try, 4)}.'\n",
    ")"
   ]
  },
  {
   "cell_type": "markdown",
   "id": "c99ac0a1-3971-43a6-a8e8-e39c8fbc9a05",
   "metadata": {},
   "source": [
    "---"
   ]
  },
  {
   "cell_type": "markdown",
   "id": "38bbb502-4ccc-48d5-9066-8c5b32f875e3",
   "metadata": {
    "tags": []
   },
   "source": [
    "## Binomial Distribution\n",
    "- Theoretical probability distribution that uses Bernoulli random variables\n",
    "- **Describes the number of successes in a fixed number of independent trials**\n",
    "- A little more complicated than the Geometric Distribution.  In the Geometric Distribution there is really only one way to calculate it.  \n",
    "  - E.g. find the probability of succeeding for the first  time on  the second trial:\n",
    "    - P(Fail) AND P(Succeed)\n",
    "- The Binomial Distribution must account for different orders of Success and Failure\n",
    "  - E.g. find the probability of succeeding once in two trials:\n",
    "    - P(Success) AND P(Fail) OR\n",
    "    - P(Fail) AND P(Success)\n",
    "\n",
    "There are four conditions that must be true to use a binomial distribution\n",
    "\n",
    "1. Trials are independent\n",
    "1. Number of trials, $n$, is fixed\n",
    "1. Each trial outcome can be classified as a *success* or *failure*\n",
    "1. Probability of a success, $p$, is the same for each trial\n",
    "\n",
    "**Binomial Distribution Chart**\n",
    "\n",
    "![](pictures/dist_binom_graph.jpg)\n",
    "\n",
    "**Binomial Distribution Formulas**\n",
    "\n",
    "![](pictures/dist_binom.jpg)"
   ]
  },
  {
   "cell_type": "markdown",
   "id": "efef3c91-1e2d-4335-94b1-07ea49a19de5",
   "metadata": {},
   "source": [
    "---"
   ]
  },
  {
   "cell_type": "markdown",
   "id": "2daec1a4-17d3-48b8-a2e2-b9bb8d2bdb3b",
   "metadata": {},
   "source": [
    "**EXAMPLES**"
   ]
  },
  {
   "cell_type": "markdown",
   "id": "a4ad9e33-9f20-44fa-90f3-8f1ffc6be48b",
   "metadata": {},
   "source": [
    "**Create Distribution Object**"
   ]
  },
  {
   "cell_type": "code",
   "execution_count": 40,
   "id": "23e1c388-385e-4e75-82df-af1a30680367",
   "metadata": {},
   "outputs": [
    {
     "name": "stdout",
     "output_type": "stream",
     "text": [
      "<class 'scipy.stats._distn_infrastructure.rv_frozen'>\n"
     ]
    }
   ],
   "source": [
    "binomial_object = stats.binom(n=8, p=1/6)\n",
    "print(type(binomial_object))"
   ]
  },
  {
   "cell_type": "markdown",
   "id": "d023d517-deb0-4b2c-94ac-41b5f52512b1",
   "metadata": {},
   "source": [
    "**Random Sample**"
   ]
  },
  {
   "cell_type": "code",
   "execution_count": 41,
   "id": "b93266f9-baf9-42ae-bb2a-c92cc18d0dec",
   "metadata": {},
   "outputs": [
    {
     "name": "stdout",
     "output_type": "stream",
     "text": [
      "<class 'numpy.ndarray'>\n",
      "[0 2 2 0 1 1 1 3]\n"
     ]
    }
   ],
   "source": [
    "random_sample = binomial_object.rvs(size=8, random_state=97755331)  # sample size = 10\n",
    "print(type(random_sample))\n",
    "print(random_sample)"
   ]
  },
  {
   "cell_type": "code",
   "execution_count": 42,
   "id": "f4c1d882-0d2f-4175-bbbc-4f0ed4fb00f0",
   "metadata": {},
   "outputs": [
    {
     "data": {
      "image/png": "[encoded data removed]",
      "text/plain": [
       "<Figure size 360x360 with 1 Axes>"
      ]
     },
     "metadata": {},
     "output_type": "display_data"
    }
   ],
   "source": [
    "random_sample = binomial_object.rvs(size=1000, random_state=97755331)  # sample size = 1000\n",
    "my_data_frame = pd.DataFrame({\"values_column\": random_sample})\n",
    "sns.displot(data=my_data_frame, kind=\"hist\", x=\"values_column\")\n",
    "plt.show()"
   ]
  },
  {
   "cell_type": "markdown",
   "id": "997b7327-608f-4639-9576-57385ced9b8b",
   "metadata": {},
   "source": [
    "**CDF Returns Percentile**"
   ]
  },
  {
   "cell_type": "code",
   "execution_count": 43,
   "id": "b5f3e030-383d-4929-8f7d-f88edd98e1ac",
   "metadata": {},
   "outputs": [
    {
     "name": "stdout",
     "output_type": "stream",
     "text": [
      "Percentile of 0 or fewer successes is:  0.233\n",
      "Percentile of 1 or fewer successes is:  0.605\n",
      "Percentile of 2 or fewer successes is:  0.865\n",
      "Percentile of 3 or fewer successes is:  0.969\n",
      "Percentile of 4 or fewer successes is:  0.995\n",
      "Percentile of 5 or fewer successes is:  1.0\n",
      "Percentile of 6 or fewer successes is:  1.0\n",
      "Percentile of 7 or fewer successes is:  1.0\n"
     ]
    }
   ],
   "source": [
    "cdf_binomial_0 = binomial_object.cdf(0)\n",
    "print(f'Percentile of 0 or fewer successes is:  {round(cdf_binomial_0, 3)}')\n",
    "cdf_binomial_1 = binomial_object.cdf(1)\n",
    "print(f'Percentile of 1 or fewer successes is:  {round(cdf_binomial_1, 3)}')\n",
    "cdf_binomial_2 = binomial_object.cdf(2)\n",
    "print(f'Percentile of 2 or fewer successes is:  {round(cdf_binomial_2, 3)}')\n",
    "cdf_binomial_3 = binomial_object.cdf(3)\n",
    "print(f'Percentile of 3 or fewer successes is:  {round(cdf_binomial_3, 3)}')\n",
    "cdf_binomial_4 = binomial_object.cdf(4)\n",
    "print(f'Percentile of 4 or fewer successes is:  {round(cdf_binomial_4, 3)}')\n",
    "cdf_binomial_5 = binomial_object.cdf(5)\n",
    "print(f'Percentile of 5 or fewer successes is:  {round(cdf_binomial_5, 3)}')\n",
    "cdf_binomial_6 = binomial_object.cdf(6)\n",
    "print(f'Percentile of 6 or fewer successes is:  {round(cdf_binomial_6, 3)}')\n",
    "cdf_binomial_7 = binomial_object.cdf(7)\n",
    "print(f'Percentile of 7 or fewer successes is:  {round(cdf_binomial_7, 3)}')\n",
    "cdf_binomial_8 = binomial_object.cdf(8)"
   ]
  },
  {
   "cell_type": "markdown",
   "id": "a6b56c89-2a17-4b8e-94ed-fabd3599d0d0",
   "metadata": {},
   "source": [
    "**PMF**"
   ]
  },
  {
   "cell_type": "code",
   "execution_count": 44,
   "id": "7873c073-0fb9-4e48-bd4c-9b6e1be7a806",
   "metadata": {},
   "outputs": [
    {
     "name": "stdout",
     "output_type": "stream",
     "text": [
      "Probability of getting 0 successes is:  0.233\n",
      "Probability of getting 1 successes is:  0.372\n",
      "Probability of getting 2 successes is:  0.26\n",
      "Probability of getting 3 successes is:  0.104\n",
      "Probability of getting 4 successes is:  0.026\n",
      "Probability of getting 5 successes is:  0.004\n",
      "Probability of getting 6 successes is:  0.0\n"
     ]
    }
   ],
   "source": [
    "pmf_binomial_0 = binomial_object.pmf(0)\n",
    "print(f'Probability of getting 0 successes is:  {round(pmf_binomial_0, 3)}')\n",
    "pmf_binomial_1 = binomial_object.pmf(1)\n",
    "print(f'Probability of getting 1 successes is:  {round(pmf_binomial_1, 3)}')\n",
    "pmf_binomial_2 = binomial_object.pmf(2)\n",
    "print(f'Probability of getting 2 successes is:  {round(pmf_binomial_2, 3)}')\n",
    "pmf_binomial_3 = binomial_object.pmf(3)\n",
    "print(f'Probability of getting 3 successes is:  {round(pmf_binomial_3, 3)}')\n",
    "pmf_binomial_4 = binomial_object.pmf(4)\n",
    "print(f'Probability of getting 4 successes is:  {round(pmf_binomial_4, 3)}')\n",
    "pmf_binomial_5 = binomial_object.pmf(5)\n",
    "print(f'Probability of getting 5 successes is:  {round(pmf_binomial_5, 3)}')\n",
    "pmf_binomial_6 = binomial_object.pmf(6)\n",
    "print(f'Probability of getting 6 successes is:  {round(pmf_binomial_6, 3)}')\n",
    "pmf_binomial_7 = binomial_object.pmf(7)"
   ]
  },
  {
   "cell_type": "code",
   "execution_count": 45,
   "id": "c029e04d-1d7b-4988-8b5f-0b73584dc6fd",
   "metadata": {},
   "outputs": [
    {
     "name": "stdout",
     "output_type": "stream",
     "text": [
      "Probability of getting 7 successes is:  0.0\n",
      "Probability of getting 0 or 3 successses is 0.337\n"
     ]
    }
   ],
   "source": [
    "print(f'Probability of getting 7 successes is:  {round(pmf_binomial_7, 3)}')\n",
    "print(f'Probability of getting 0 or 3 successses is {round(pmf_binomial_0 + pmf_binomial_3, 3)}')"
   ]
  },
  {
   "cell_type": "markdown",
   "id": "015ddea7-1bf6-43ed-9b16-81dff02d0d41",
   "metadata": {},
   "source": [
    "**Hypothetical Example**\n",
    "\n",
    "- Find the expected number of fours rolled if rolling a six sided die six times"
   ]
  },
  {
   "cell_type": "code",
   "execution_count": 46,
   "id": "edf6af18-7c3b-44e6-82a6-3787112817a7",
   "metadata": {},
   "outputs": [
    {
     "name": "stdout",
     "output_type": "stream",
     "text": [
      "The expected number of fours is 1.0 if we roll a six sided die 6 times.\n"
     ]
    }
   ],
   "source": [
    "# Input parameters\n",
    "my_p = 1/6\n",
    "my_n = 6\n",
    "\n",
    "# Calculate expected\n",
    "my_expected = my_p * my_n\n",
    "\n",
    "print(f\"The expected number of fours is {my_expected} if we roll a six sided die {my_n} times.\")"
   ]
  },
  {
   "cell_type": "markdown",
   "id": "39d3f9aa-4613-49a1-b8e9-a1d561dc110e",
   "metadata": {},
   "source": [
    "**Hypothetical Example**\n",
    "\n",
    "- Find the probability of rolling two fours when a six sided die is rolled six times."
   ]
  },
  {
   "cell_type": "code",
   "execution_count": 47,
   "id": "a9a9a113-fada-4bc6-a31a-d75ae51b4671",
   "metadata": {},
   "outputs": [
    {
     "name": "stdout",
     "output_type": "stream",
     "text": [
      "The probability of rolling a four 2 times in 6 die rolls is 0.2009.\n"
     ]
    }
   ],
   "source": [
    "# Input parameters\n",
    "my_k = 2\n",
    "my_n = 6\n",
    "my_p = 1/6\n",
    "\n",
    "# Create distribution object\n",
    "binomial_object = stats.binom(p=my_p, n=my_n)\n",
    "\n",
    "# Calculate probability\n",
    "probability = binomial_object.pmf(my_k)\n",
    "print(\n",
    "    f'The probability of rolling a four {my_k} times '\n",
    "    f'in {my_n} die rolls is {round(probability,4)}.'\n",
    ")"
   ]
  },
  {
   "cell_type": "markdown",
   "id": "7736addb-fa86-49e8-a8e6-c60e88730376",
   "metadata": {},
   "source": [
    "**Hypothetical Example**\n",
    "\n",
    "- Find probability of rolling two or fewer fours when a die is rolled six times. I.e. P(0 fours) + P(1 four) +P(2 fours)."
   ]
  },
  {
   "cell_type": "code",
   "execution_count": 48,
   "id": "0a770d9e-3d7e-4636-888b-0e0f8ec5bb5a",
   "metadata": {},
   "outputs": [
    {
     "name": "stdout",
     "output_type": "stream",
     "text": [
      "The probability of rolling 2 or fewer fours in 6 die rolls is 0.9377.\n"
     ]
    }
   ],
   "source": [
    "# Input parameters\n",
    "my_k = 2\n",
    "my_n = 6\n",
    "my_p = 1/6\n",
    "\n",
    "# Create distribution object\n",
    "binomial_object = stats.binom(p=my_p, n=my_n)\n",
    "\n",
    "# Calculate probability with CDF\n",
    "probability = binomial_object.cdf(my_k)\n",
    "print(\n",
    "    f'The probability of rolling {my_k} or fewer fours '\n",
    "    f'in {my_n} die rolls is {round(probability,4)}.'\n",
    ")"
   ]
  },
  {
   "cell_type": "markdown",
   "id": "43f5f8ef-8e1c-4c55-9b9c-a27daf240a69",
   "metadata": {},
   "source": [
    "**Hypothetical Example**\n",
    "\n",
    "- Find probability of rolling one to three fours when a die is rolled six times. I.e. P(1 four) + P(2 fours) + P(3 fours)."
   ]
  },
  {
   "cell_type": "code",
   "execution_count": 49,
   "id": "e0e56988-d036-4482-94e2-77f9ba5536f2",
   "metadata": {},
   "outputs": [
    {
     "name": "stdout",
     "output_type": "stream",
     "text": [
      "The probability of rolling 1 to 3 fours when rolling the die 6 times is 0.6564.\n"
     ]
    }
   ],
   "source": [
    "# Input parameters\n",
    "my_n = 6\n",
    "my_p = 1/6\n",
    "k_start = 1\n",
    "k_end = 3\n",
    "\n",
    "# Create distribution object\n",
    "binomial_object = stats.binom(p=my_p, n=my_n)\n",
    "\n",
    "# Calculate probability with for loop and PMF\n",
    "probability = 0\n",
    "for k in range(k_start, k_end + 1):\n",
    "    probability += binomial_object.pmf(k)\n",
    "\n",
    "print(\n",
    "    f\"The probability of rolling {k_start} to {k_end} fours \"\n",
    "    f\"when rolling the die {my_n} times is {round(probability, 4)}.\"\n",
    ")"
   ]
  },
  {
   "cell_type": "markdown",
   "id": "83a3c5f3-8d8c-4924-ad5c-dbcf5e8852b8",
   "metadata": {},
   "source": [
    "**Hypothetical Example**\n",
    "\n",
    "- Assume 15% of people smoke in our county. We want to randomly select 100 people in our county to ask if they smoke and ask questions about probabilities.\n",
    "    1. Can we use a Binomial Distribution?\n",
    "        1.  Trials Independent?  Each person is a trial. Yes if we assume the behavior of one person who is surveyed does not affect the behavior of another.\n",
    "        1. Number of trials fixed?  Yes.  Surveying 100 people.\n",
    "        1. Success or failure?  Yes.  Smoking = Success.  Non-smoking = Failure.  Dark.\n",
    "        1. Probability is consistent?  Yes.  Always 15% chance of success per trial.\n",
    "    1. What is the expected number of successes (smokers) in the survey? 100 * 0.15 = 15 successes.\n",
    "    1. What is the probability of of exactly 10 successes (smokers) out of 100?"
   ]
  },
  {
   "cell_type": "code",
   "execution_count": 50,
   "id": "a9a9ba2e-7d3a-4349-8db5-23445d2f5c8b",
   "metadata": {},
   "outputs": [
    {
     "name": "stdout",
     "output_type": "stream",
     "text": [
      "The probability of getting 10 smokers out of 100 people in a survey of a population with a 15.0% smoking rate is 0.0444.\n"
     ]
    }
   ],
   "source": [
    "# Input parameters\n",
    "my_k = 10\n",
    "my_n = 100\n",
    "my_p = 0.15\n",
    "\n",
    "# Create distribution object\n",
    "binomial_object = stats.binom(p=my_p, n=my_n)\n",
    "\n",
    "# Calculate probability\n",
    "probability = binomial_object.pmf(my_k)\n",
    "print(\n",
    "    f\"The probability of getting {my_k} smokers out of {my_n} people in a survey of a population \"\n",
    "    f\"with a {my_p * 100}% smoking rate is {round(probability, 4)}.\"\n",
    ")"
   ]
  },
  {
   "cell_type": "markdown",
   "id": "76a656c5-9ff7-4817-bc26-5c499fdbb28f",
   "metadata": {},
   "source": [
    "---"
   ]
  },
  {
   "cell_type": "markdown",
   "id": "e1bfc229-1abd-43cc-a10a-8a2d789ad627",
   "metadata": {},
   "source": [
    "### Normal Approximation\n",
    "- Using the binomial distribution to find cumulative probability is not hard to do with statistical software.  However, it was historically very tedious to do.  Instead of doing this, statisticians checked to see if their binomial distribution could be approximated by a normal distribution.  They would then use standard normal distribution tables to calculate probability.\n",
    "\n",
    "![](pictures/dist_binom_norm.jpg)\n",
    "\n",
    "![](pictures/dist_binom_norm_graph.jpg)"
   ]
  },
  {
   "cell_type": "markdown",
   "id": "06443c0d-75d6-4633-9317-9a90e89d314f",
   "metadata": {},
   "source": [
    "---"
   ]
  },
  {
   "cell_type": "markdown",
   "id": "2483cf53-2dd3-4ef7-8ec5-6066d59e4123",
   "metadata": {
    "tags": []
   },
   "source": [
    "## Negative Binomial Distribution\n",
    "- Theoretical probability distribution that uses Bernoulli random variables\n",
    "- The geometric distribution describes the number of trials it takes to observe the first success\n",
    "- **The negative binomial distribution describes the probability of observing the $k$ th success on the $n$ th trial**\n",
    "\n",
    "![](pictures/dist_neg_binom_vs.jpg)\n",
    "\n",
    "There are four conditions that must be true to use the negative binomial distribution.  Three are the same as binomial distributions\n",
    "\n",
    "1. Trials are independent\n",
    "1. Each trial outcome can be classified as a success or failure\n",
    "1. Probability of a success (p) is the same for each trial\n",
    "1. Last trial must be a success\n",
    "\n",
    "**Negative Binomial Distribution Formulas**\n",
    "\n",
    "![](pictures/dist_neg_binom.jpg)\n",
    "\n",
    "- **WARNING!!!** The SciPy negative binomial distribution PMF uses a different PMF definition than the one shown above.\n",
    "    - $p$ is still the probability of a single success\n",
    "    - $n$ is now the number of successes instead of $k$\n",
    "    - $k$ is now the number of failures before the last success"
   ]
  },
  {
   "cell_type": "markdown",
   "id": "c7977c8d-36e4-4851-8046-2ad40c7b662b",
   "metadata": {},
   "source": [
    "---"
   ]
  },
  {
   "cell_type": "markdown",
   "id": "38a41d27-1a36-42a2-b0b6-c9eb5b2c22de",
   "metadata": {},
   "source": [
    "**EXAMPLES**"
   ]
  },
  {
   "cell_type": "markdown",
   "id": "af77c455-04f4-4954-a297-2b409138af94",
   "metadata": {},
   "source": [
    "**Hypothetical Example**\n",
    "\n",
    "- Find the probability of rolling the second four on the sixth die roll"
   ]
  },
  {
   "cell_type": "code",
   "execution_count": 51,
   "id": "8fd6a921-ab3a-425f-89a0-71cb6242ec3c",
   "metadata": {},
   "outputs": [
    {
     "name": "stdout",
     "output_type": "stream",
     "text": [
      "The probability of rolling the 2nd four on the 6th die roll is:  0.067.\n"
     ]
    }
   ],
   "source": [
    "# Input parameters\n",
    "my_trial = 6 # Trial number of last success\n",
    "my_n = 2  # Number of successes\n",
    "my_k = my_trial - my_n  # Number of failures\n",
    "my_p = 1/6\n",
    "\n",
    "# Create distribution object\n",
    "neg_binom_object = stats.nbinom(n=my_n, p=my_p)\n",
    "\n",
    "# Calculate probability\n",
    "probability = neg_binom_object.pmf(my_k)\n",
    "print(\n",
    "    f'The probability of rolling the {my_n}nd four '\n",
    "    f'on the {my_trial}th die roll is:  {round(probability, 4)}.'\n",
    ")"
   ]
  },
  {
   "cell_type": "markdown",
   "id": "b0acd7d9-5279-4672-8331-715f9f44afa5",
   "metadata": {},
   "source": [
    "---"
   ]
  },
  {
   "cell_type": "markdown",
   "id": "fcb4c8ce-69f8-48e2-8351-6c7ccf30f6f5",
   "metadata": {},
   "source": [
    "## Poisson Distribution\n",
    "- **Probability of observing a number of events in a large population over a unit of time**\n",
    "  - E.g. having a heart attack, getting married, or getting struck by lightning\n",
    "- The binomial distribution calculate the probability of getting $k$ successes in $n$ trials\n",
    "- The Poisson distribution calculates the probability of getting $k$ successes (events) in a population\n",
    "\n",
    "There are four conditions that must be met to use the Poisson Distribution:\n",
    "\n",
    "1. An event can occur any number of times during a time period\n",
    "1. Independent events\n",
    "1. Rate of event occurrence is constant, it does not change over time\n",
    "1. Probability of event occurring is proportional to the length of time period.  E.g. It should be twice as likely to occur in two days compared to one day.\n",
    "\n",
    "![](pictures/dist_poisson.jpg)\n",
    "\n",
    "- Note that SciPy uses $\\mu$ for lambda in documentation"
   ]
  },
  {
   "cell_type": "markdown",
   "id": "cfa54bb9-4e6c-4774-bc03-e3a8744d51a5",
   "metadata": {},
   "source": [
    "---"
   ]
  },
  {
   "cell_type": "markdown",
   "id": "0f1f7e3b-cd0f-4f44-a441-4978593efd94",
   "metadata": {},
   "source": [
    "**EXAMPLES**"
   ]
  },
  {
   "cell_type": "markdown",
   "id": "12184716-a9da-4dc3-a1d2-6a979bc48b5b",
   "metadata": {},
   "source": [
    "**Hypothetical Example**\n",
    "\n",
    "- Find the probability of serving 70 customers in one hour (8-9 AM) at a coffee shop that averages 75 customers per hour (8-9 AM)"
   ]
  },
  {
   "cell_type": "code",
   "execution_count": 52,
   "id": "036d572b-34f8-443e-8e34-c6863073fc28",
   "metadata": {},
   "outputs": [
    {
     "name": "stdout",
     "output_type": "stream",
     "text": [
      "The probability of observing 70 events per hour given an average rate of 75 events per hour is 0.0402.\n"
     ]
    }
   ],
   "source": [
    "# Input parameters\n",
    "my_k = 70\n",
    "my_mu = 75\n",
    "\n",
    "# Create distribution object\n",
    "poisson_object = stats.poisson(my_mu)\n",
    "\n",
    "# Calculate probability\n",
    "probability = poisson_object.pmf(my_k)\n",
    "print(\n",
    "    f\"The probability of observing {my_k} events per hour given an average rate of \"\n",
    "    f\"{my_mu} events per hour is {round(probability, 4)}.\"\n",
    ")"
   ]
  },
  {
   "cell_type": "markdown",
   "id": "6646c539-ce57-41ef-a8a5-d30d8a986c13",
   "metadata": {},
   "source": [
    "**Hypothetical Example**\n",
    "\n",
    "- Find the probability of serving 70 or *fewer* customers in one hour (8-9 AM) at a coffee shop that averages 75 customers per hour (8-9 AM)"
   ]
  },
  {
   "cell_type": "code",
   "execution_count": 53,
   "id": "eb81ba1e-bdb9-43ad-a4f0-f2a466c48167",
   "metadata": {},
   "outputs": [
    {
     "name": "stdout",
     "output_type": "stream",
     "text": [
      "The probability of observing 70 or fewer events per hour given an average rate of 75 events per hour is 0.3066.\n"
     ]
    }
   ],
   "source": [
    "# Calculate probability\n",
    "probability = poisson_object.cdf(my_k)  # Useu CDF\n",
    "\n",
    "print(\n",
    "    f\"The probability of observing {my_k} or fewer events per hour given an average rate of \"\n",
    "    f\"{my_mu} events per hour is {round(probability, 4)}.\"\n",
    ")"
   ]
  },
  {
   "cell_type": "markdown",
   "id": "d236d4de-18af-42e7-8be5-7c0ee476ea94",
   "metadata": {},
   "source": [
    "---"
   ]
  },
  {
   "cell_type": "markdown",
   "id": "de1abcd7-04e4-43b5-b333-aceb612cba1c",
   "metadata": {},
   "source": [
    "# Frequentist Inference"
   ]
  },
  {
   "cell_type": "markdown",
   "id": "3cb7b6e5-0ac3-4513-9eb0-10e4de94b622",
   "metadata": {},
   "source": [
    "---"
   ]
  },
  {
   "cell_type": "markdown",
   "id": "513351c9-3f45-4fe1-b77a-9ac1c3e42160",
   "metadata": {},
   "source": [
    "## Introduction\n",
    "- **Inference**---randomly sample population, estimate population parameters, calculate uncertainty in population parameter estimates, and test hypotheses.  Used when we do NOT already know population parameters.\n",
    "- **Frequentist**---school of statistical inference that defines probability as the proportion of times the outcome would occur if we repeated a process an infinite number of times.  Frequentist Inference  never gives probability to a hypothesis. A hypothesis is either True or False. Frequentist inference starts with the ideas of the population parameter, sample statistic, and sampling distributions.  It then builds on these ideas with confidence intervals and hypothesis tests that are tailored to different variables types."
   ]
  },
  {
   "cell_type": "markdown",
   "id": "1ebdf610-fe1b-4a5b-ab02-3607a63d95f8",
   "metadata": {},
   "source": [
    "---"
   ]
  },
  {
   "cell_type": "markdown",
   "id": "caa6e2ce-b2ac-4188-97fc-c3a1237c2376",
   "metadata": {
    "tags": []
   },
   "source": [
    "## Conditions\n",
    "- Certain conditions must be met to use statistical methods and return valid results\n",
    "- Sampling must follow the best practices described in the *Statistical Studies* section\n",
    "- Most frequentist inference statistical tests assume *IID* data\n",
    "- **IID**--independent and identically distributed\n",
    "\n",
    "1. **Independent**--outcome of one process (observation) doesn't influence the outcome of another process.  Independence is achieved by:\n",
    "    1. Random sampling and/or random assignment of members of the population.  Avoid sampling bias.\n",
    "    1. Sample size less than 10% of the population.  Samples are usually taken *w/out replacement*, meaning we sample a subject once and then take them out of the pool to draw from so that can NOT be chosen twice.  When we reduce this pool by one, it changes the probability of choosing the next subject.  If our sample is large relative to our population it can make a noticeable difference and sampling becomes dependent/conditional.  \n",
    "        - E.g. imagine a population of 2 red marbles and 1 blue marble.  The P(Choosing a Blue) = 1/3.  Hypothetically, we choose a red w/out replacement.  Now P(Choosing a Blue)=1/2.  The probability of one observation is dependent on the previous observations.  However, if we had a million blues marbles and two million red marbles, choosing a red marble would not have made a noticeable difference on the probabilities of the next observation.\n",
    "1. **Identically distributed**--distribution of observations does not shift over time while samples are being collected.  If our variable changes over time, then we'll want to account for time in our analysis.   Also note that when groups are compared, identically distributed does NOT imply that groups must have the same distribution parameters.\n",
    "    1. Discrete variables use distributions such as the binomial.  One parameter of a binomial distribution is probability of success.  The probability of success for an event should not change over the course of the study.  \n",
    "        - E.g. P(rolling a 6) on a fair die should remain 1/6.\n",
    "    1. Continuous variables use distributions such as the normal.  Parameters of a normal distribution are mean and standard deviation.  The population mean and population standard deviation should not change over the course of the study. \n",
    "        - E.g. average height and standard deviation of U.S. males should not change\n",
    "- Lastly, note that there are some statistical tests that do not require IID data and many statistical tests that include additional conditions.  For example:\n",
    "    - Paired means test uses dependent data on purpose\n",
    "    - All parametric tests require a minimum sample size\n",
    "    - The ANOVA test requires variance within each group to be similar"
   ]
  },
  {
   "cell_type": "markdown",
   "id": "1544af24-843d-45d8-ae84-59c869331864",
   "metadata": {},
   "source": [
    "---"
   ]
  },
  {
   "cell_type": "markdown",
   "id": "9e98b726-169e-43b3-b05a-07ea40493d3e",
   "metadata": {},
   "source": [
    "## Sampling Distributions\n",
    "\n",
    "![](pictures/sampling_dist.jpg)\n",
    "\n",
    "- **Population Distribution**---distribution of *observations* in entire population.  Variation quantified with $\\sigma$ or visualized with a histogram or probability density curve.\n",
    "- **Population Parameter**---statistic calculated from entire population.  We'll mostly use this to refer to population mean ($\\mu$) or population proportion ($p$).\n",
    "- **Sample Distribution**---distribution of *observations* in a single sample.  Variation quantified with $s$ or visualized with a histogram or probability density curve.\n",
    "- **Sample Statistic/Point Statistic/Point Estimate**---statistic calculated from a single sample. We'll mostly use this term to refer to sample mean ($\\bar{x}$) or sample proportion ($\\hat{p}$).\n",
    "- **Sampling Variability**---if we repeatedly took random samples from the population, sample statistics would vary from one sample to another because subjects selected from the population for each sample differ \n",
    "- **Sampling Distribution**---distribution of many *sample statistics* created from repeatedly sampling population\n",
    "    - The *sample* distribution is not the same thing as the *sampling* distribution\n",
    "    - Sampling variability quantified with standard error or visualized using a histogram or probability density curve\n",
    "    - Sampling distribution shows relative frequencies (probabilities) and are used to construct confidence intervals or perform hypothesis tests\n",
    "- **Standard Error (SE)**---average (roughly) variation (error) between *sample statistics* and a population parameter. Also said to be the standard deviation of the sample statistics.\n",
    "  - This contrasts with the standard deviation of the observations (which was covered in  *Measures of Spread*) which measures average (roughly) variation (deviation) between *observations* and a population parameter.\n",
    "  - Larger sample sizes reduce the SE.  If we repeatedly took a sample of the entire population (a census) then the sample statistics would not vary at all!  They would all be equal to the population parameter!\n",
    "- Building a sampling distribution is simple:\n",
    "    1. Sample from population\n",
    "    1. Calculate sample statistic\n",
    "    1. Repeat steps 1 and 2 many times.  This collection of samples statistics is our sampling distribution. \n",
    "- Note that this repeated sampling is not done in the real world due to cost.  Instead, theoretical methods (assume normal sampling distribution for parametric tests) or simulated methods (bootstrap sampling distribution) are employed.\n",
    "- The following image shows how sample statistics (here it is is the sample mean) form the sampling distribution:\n",
    "\n",
    "![](pictures/sampling_distribution.png)\n",
    "\n",
    "- The following image shows how larger sample size decreases the standard error:\n",
    "\n",
    "![](pictures/sample_size_se.png)"
   ]
  },
  {
   "cell_type": "markdown",
   "id": "2a149df5-4524-426d-a00e-dc2079ad644d",
   "metadata": {},
   "source": [
    "---"
   ]
  },
  {
   "cell_type": "markdown",
   "id": "8b5e65d4-d60f-49e9-886b-6280a5acd910",
   "metadata": {},
   "source": [
    "## Confidence Intervals\n",
    "- **Confidence Interval**---use sample statistics to estimate population parameter and present a range of plausible values for the population parameter.  If we reported a single value to estimate the population parameter (a sample statistic) it would almost certainly be wrong.  If we give a range of values, the population parameter is more likely to be in that range.\n",
    "- **Confidence Level**---percentage of random samples which yield confidence intervals that capture the true population parameter.  Common confidence levels are 90%, 95%, 98%, and 99%.\n",
    "    - Said more verbosely: \"If we repeated our sampling procedure a many times, each time producing a new sample (of the same size), calculating the sample statistic, and creating a confidence interval around it using a `<CONFIDENCE_LEVEL>`% confidence level, we expect about `<CONFIDENCE_LEVEL>`% of the resulting confidence intervals to capture the true population parameter.\"\n",
    "- Confidence Intervals (CI) allow us to say: \"We are `<CONFIDENCE_LEVEL>`% confident that the true population parameter is in the `(<LOWER_BOUND>, <UPPER_BOUND>)` interval\n",
    "- We can **NOT** say, \"There is a `<CONFIDENCE_LEVEL>`% probability that the true population parameter is in the interval\". This is confusing and thus a common mistake.\n",
    "- The image below shows how the interpretation of confidence intervals are based upon the idea of repeatedly calculating confidence intervals for every sample in a sampling distribution:\n",
    "\n",
    "![](pictures/ci_theory.jpg)\n",
    "\n",
    "-  The CI changes in size:\n",
    "   - CI is narrower (more precise) if we decease our confidence level or decrease the SE\n",
    "   - SE is decreased with increased sample size\n",
    "   - SE is decreased with decreased sample standard deviation (for numerical variables)\n",
    "- The following image shows the effects of our confidence level on the size of the confidence interval:\n",
    "\n",
    "![](pictures/ci_level.jpg)\n",
    "\n",
    "- The following image shows the effects of our sample size on the size of the confidence interval\n",
    "\n",
    "![](pictures/ci_samplesize.jpg)\n",
    "    \n",
    "- Image below shows how the sampling distribution (assumed to be a normal distribution in parametric methods) can be used to identify quantiles that define the bounds of a confidence interval.  This 90% confidence interval would be ~1700kN < $\\mu$ < ~2000kN.\n",
    "\n",
    "![](pictures/confidence_interval.png)\n",
    "\n",
    "- Methods for generating confidence intervals differ, but the broad idea is:\n",
    "    1. Sample population a single time\n",
    "    1. Use statistics from this single sample to create a sampling distribution centered on our sample statistic.  Simulation and parametric methods differ on sampling distribution creation.\n",
    "    1. Use ICDF and/or ISF to find the quantiles that bound a chosen percentage of sample statistics.  These quantiles are the confidence interval.\n",
    "        - E.g. for a 95% confidence level we'd find the quantiles at 2.5% and 97.5%.  95% of the observations in the sampling distribution are within these quantiles."
   ]
  },
  {
   "cell_type": "markdown",
   "id": "3df1e17a-d417-4c71-bc43-227cc0c51d93",
   "metadata": {},
   "source": [
    "---"
   ]
  },
  {
   "cell_type": "markdown",
   "id": "5292814e-1370-4f40-bce4-f3bd0406b890",
   "metadata": {},
   "source": [
    "## Hypothesis Tests\n",
    "- Hypothesis tests are used to decide if groups of members come from the same population (groups are actually the same) or different populations (groups are actually different)\n",
    "- **Null Hypothesis (H~0~)**---often represents a skeptical perspective or a claim to be tested\n",
    "    - E.g. population parameters are equal and there is no difference between groups\n",
    "- **Alternative Hypothesis (H~A~)**---represents an alternative claim under consideration and is often represented by a range of possible values\n",
    "    - E.g. population parameters are not equal. There is a difference between groups.\n",
    "- **Hypothesis testing framework**---philosophy of hypothesis testing\n",
    "    1. We first assume H~0~ is true, then see if there is sufficient evidence to reject H~0~\n",
    "    1. If we fail to reject reject H~0~, then we are NOT saying that H~0~ is true, only that there is not sufficient evidence to reject H~0~.  This is similar to the US court system where we never proclaim someone innocent, only guilty or not guilty.\n",
    "    1. There may also be sufficient evidence to reject H~0~ in favor of H~A~"
   ]
  },
  {
   "cell_type": "markdown",
   "id": "9c94bdca-b6a8-4913-bc03-1fee1a56ee22",
   "metadata": {},
   "source": [
    "---"
   ]
  },
  {
   "cell_type": "markdown",
   "id": "5efc1aa6-a9a0-4934-b5fb-adbd642f5b24",
   "metadata": {},
   "source": [
    "### Testing Error\n",
    "There are times when our verdict does not match reality:\n",
    "\n",
    "![](pictures/decision_errors.jpg)\n",
    "\n",
    "- E.g. convicting an innocent person is Type 1 Error\n",
    "- E.g. failing to convict a guilty person is Type 2 Error\n",
    "\n",
    "![](pictures/hy_test_alpha_beta.jpg)"
   ]
  },
  {
   "cell_type": "markdown",
   "id": "340d24c6-7c24-4d52-8d43-63824f72dd65",
   "metadata": {},
   "source": [
    "---"
   ]
  },
  {
   "cell_type": "markdown",
   "id": "f6e88ee6-b1bc-4841-95bd-009a8613bc9d",
   "metadata": {},
   "source": [
    "### Significance Level\n",
    "- **Significance Level**---alpha ($\\alpha$), is how frequently we make Type 1 errors  \n",
    "- Traditionally $\\alpha = 0.05$, however we can choose any proportion.  An $\\alpha$ of 0.05 leads to Type 1 errors 5% of the time.\n",
    "    1. If Type 1 error is really bad, then we'll want to decrease $\\alpha$.  E.g. $\\alpha = 0.01$ or $\\alpha = 0.001$.  Decreasing Type 1 error rate unfortunately increases Type 2 error rate.\n",
    "    1. If Type 2 error is really bad, then we'll want to increase $\\alpha$.  E.g. $\\alpha = 0.1$. Increasing Type 1 error rate decreases Type 2 error rate.  If possible, we can instead increase our sample size.  Increasing sample size can decrease Type 2 error rate without increasing Type 1 error rate."
   ]
  },
  {
   "cell_type": "markdown",
   "id": "88a15cd3-a818-4886-bad0-2a985f3ce9ad",
   "metadata": {},
   "source": [
    "---"
   ]
  },
  {
   "cell_type": "markdown",
   "id": "8b260e81-c158-426c-b136-e2010f09d4ce",
   "metadata": {
    "tags": []
   },
   "source": [
    "### p-value\n",
    "- **p-value**---**probability of observing data at least as favorable to the alternative hypothesis as our current data set (sample statistic), while assuming the null hypothesis is true**\n",
    "  - I.e. We know we observed our sample statistic.  If the probability of observing our sample statistic is really low given the null hypothesis is true, then the null hypothesis might actually be false.\n",
    "- p-value is **NOT**:\n",
    "    1. The probability that the null hypothesis is true\n",
    "    1. The probability that the alternative hypothesis is true\n",
    "    1. The probability that the observed effects were produced by random chance\n",
    "- The p-value will determine whether we reject the null hypothesis\n",
    "    1. **When the p-value is less than the significance level, $\\alpha$, reject H~0~**. \n",
    "    1. **When the p-value is greater than the significance level, $\\alpha$, fail to reject H~0~**\n",
    "- Note that p-values are typically used.  However, we could also use confidence intervals to reject/not reject the null hypothesis. We can match the confidence to the significance level.  E.g. 95% confidence is equivalent to a 0.05 significance level for a two-sided test.  \n",
    "    1. **When value from null hypothesis is outside of the confidence interval, reject null hypothesis.**\n",
    "    1. **When value from null hypothesis is inside of the confidence interval, fail to reject null hypothesis**\n",
    "- Also note that if we are comparing two groups using CIs, we construct a single CI for the difference between two groups.  This is because when two CIs do NOT overlap we can always reject he null hypothesis, but when two CIs do overlap we may or may not reject the null hypothesis.  We also can NOT use confidence intervals for hypothesis testing when there are more than two groups.\n",
    "- Methods for performing hypothesis tests differ, but the broad idea is:\n",
    "    1. State null and alternative hypotheses\n",
    "    1. State the significance level/alpha/type 1 error.  E.g. 0.05.\n",
    "    1. Sample population a single time\n",
    "    1. Use statistics from this single sample and null hypothesis to create a sampling distribution centered on the null hypothesis. Simulation and parametric methods differ on sampling distribution creation.\n",
    "    1. Use CDF or SF to calculate a percentile (lower tail or upper tail) of the sample statistic (quantile) in the the null sampling distribution\n",
    "    1. Use this percentile and some logic to calculate the p-value (probability in tails at least as extreme as the sample statistic quantile)\n",
    "    1.  Accept or reject null hypothesis by comparing p-value to significance level"
   ]
  },
  {
   "cell_type": "markdown",
   "id": "6596e87a-68fd-4f1f-a262-73b1d7851f10",
   "metadata": {},
   "source": [
    "---"
   ]
  },
  {
   "cell_type": "markdown",
   "id": "7fc555a2-e5ee-4b84-88e3-0f1c404632ca",
   "metadata": {},
   "source": [
    "### Problems w/ Null Hypothesis Testing\n",
    "- There has been increasing criticism of hypothesis testing and p-values in recent years\n",
    "\n",
    "1. \"Because the p-value is predicated on the null hypothesis being true, it does not give us any information about the alternative hypothesis—the hypothesis we are usually most interested in. Compounding this problem, if our p-value is high and so does not reject the null hypothesis this cannot be interpreted as the null being true; rather, we are left with an ‘open verdict’.\"\n",
    "    - We can not fix the concept of null and alternative as they are central to null hypothesis testing.  We could avoid using the null hypothesis altogether by instead basing decisions on confidence intervals or Bayesian statistics.\n",
    "1. Null hypothesis testing is biased towards the null hypothesis.  If our data provides equal evidence for both the null and alternative, then we will not reject the null.  If our data provides some, but not overwhelming evidence for the alternative, we will not reject the null.  It is only when we have overwhelming evidence that we will reject the null.\n",
    "    - We can improve this by heavily modifying our analysis to use the Bayesian concept of the Bayes factor.  Bayes factor allows us to compare the odds of the null and alternative.\n",
    "1. With a large enough sample size we will reject the null hypothesis. Larger sample sizes reduce the spread of the sampling distribution allowing us to confidently find smaller differences between the null hypothesis and are observed sample statistic.\n",
    "    - We can improve this by planning sample size in advance using power calculations.  Power calculations rely on the idea of desired and estimated effect size. \n",
    "1. \"Colquhoun has argued that significant p-values at just below 0.05 are extremely weak evidence against the null hypothesis because there is a 1 in 3 chance that the significant result is a false positive (aka type 1 error).\".  This quote is references [this paper](https://royalsocietypublishing.org/doi/10.1098/rsos.171085).\n",
    "    - We can avoid the use of arbitray cutoffs, like p-value = 0.05, as the sole decision making tool\n",
    "- For a more in depth discussion on theses problems, see [this paper](input/problems_with_frequentist_statistics.pdf)\n",
    "- The shortcomings of null hypothesis testing are leading to rapid change in statistical methods.  Statistical methods are becoming more complex, increasingly using computer simulations, and slowly shifting towards increased use of Bayesian statistics."
   ]
  },
  {
   "cell_type": "markdown",
   "id": "37af251f-3890-4923-9a5c-4f8dc67377da",
   "metadata": {},
   "source": [
    "---"
   ]
  },
  {
   "cell_type": "markdown",
   "id": "6577b90f-86bf-4ba5-bf21-e1e75c4ba876",
   "metadata": {},
   "source": [
    "## Variable Type and Quantity\n",
    "- Methodology for both confidence intervals and hypothesis tests depends on variable type and quantity of variables\n",
    "- A single categorical variable uses a proportion.  This concept is the one from the *Bernoulli Distribution* section. A single numerical variable uses a mean.  An additional categorical variable may be used to group proportions or means into subgroups to compare.\n",
    "- Categorical variables use proportions.  We'll explore:\n",
    "    1. One proportion (categorical Bernoulli variable)\n",
    "        - E.g. one proportion z-test.\n",
    "    1. Two proportions (categorical Bernoulli variable and categorical variable with two levels)\n",
    "        - E.g. Difference two proportions z-test.\n",
    "    1. Three or more proportions (categorical Bernoulli variable and categorical variable with three or more levels).  Data stored in one-way frequency table.\n",
    "        - E.g. chi-square goodness of fit\n",
    "    1. Four or more proportions (two categorical variables each with 2 or more levels).  Data stored in two-way contingency table.\n",
    "        - E.g. chi-square independence\n",
    "- Numerical variables use means.  We'll explore:\n",
    "  - One mean (numerical variable)\n",
    "      - E.g. one mean t-test\n",
    "  - Two means (numerical variable and categorical variable with two levels)\n",
    "      - E.g. paired means or difference of two means t-test\n",
    "  - Three or more means (numerical variable and categorical variable with three of more levels).  Data stored in a one-way table.\n",
    "      - E.g. one-way ANOVA\n",
    "  - Four or more means (numerical variable and two categorical variables each with 2 or more levels).  Data stored in  a two-way table.\n",
    "      - E.g. two-way ANOVA"
   ]
  },
  {
   "cell_type": "markdown",
   "id": "f0670154-4518-4342-a4bb-c3c0a4e008ba",
   "metadata": {},
   "source": [
    "---"
   ]
  },
  {
   "cell_type": "markdown",
   "id": "82d58cc9-de61-4899-8822-c6192f7130ff",
   "metadata": {},
   "source": [
    "## Parametric, Non-parametric, Simulations\n",
    "- Methodology for both confidence intervals and hypothesis depends on which broad category of frequentist tests we want to employ\n",
    "\n",
    "1. **Parametric Tests**---based on the assumption of a theoretical normal sampling distribution (Central Limit Theorem (CLT)).   We may want to use a parametric test because:\n",
    "    - They usually have more statistical power than non-parametric tests\n",
    "    - Results are usually easier to interpret than non-parametric tests\n",
    "    - They are the most common and easiest to perform\n",
    "1. **Non-Parametric Tests**---NOT based on assumption of a theoretical normal sampling distribution (Central Limit Theorem).  Non-parametric tests often have other conditions that must be met. We may want to use a non-parametric test because:\n",
    "    - The study is better represented by the *median*\n",
    "    - We have ordinal data or ranked data\n",
    "    - Conditions for CLT were not met\n",
    "1. **Resampling Simulations**---repeatedly sample using statistical software.  Gained popularity as computers improved (*resample, so hot right now*).  We may want to use resampling simulations if:\n",
    "    - We do not want to make assumptions about the population distribution\n",
    "    - The study is better represented by the *median*\n",
    "    - Conditions for the CLT were not met\n",
    "    - We do not want to use non-parametric tests\n",
    "    - We want to use more intuitive, modern, methods\n",
    "- If we have already decided to not use resampling simulations, then the document [Interactive Inferential Statistics Flowchart](input/Interactive_Inferential_Statistics_Flowchart.pdf) provides some AMAZING flowcharts that guide us to the correct parametric or non-parametric tests\n",
    "- We will NOT cover any non-parametric tests because they are not as common (though still useful)\n",
    "- The rest of the *Frequentist Inference* section is divided into two sections:\n",
    "    1. Simulation Methods\n",
    "    1. Parametric Methods"
   ]
  },
  {
   "cell_type": "markdown",
   "id": "ad12a0e0-37c4-4e57-b155-0e0ba5ddb371",
   "metadata": {},
   "source": [
    "---"
   ]
  },
  {
   "cell_type": "markdown",
   "id": "4cea4c1b-08d2-4696-820e-4ec971bf3871",
   "metadata": {},
   "source": [
    "## Simulation Methods"
   ]
  },
  {
   "cell_type": "markdown",
   "id": "b9c435f3-95cd-4651-9401-a4d16450787b",
   "metadata": {},
   "source": [
    "---"
   ]
  },
  {
   "cell_type": "markdown",
   "id": "f837677c-2a4a-45c8-8264-f2e4a778990d",
   "metadata": {},
   "source": [
    "### Introduction\n",
    "- **Resampling Simulation**---simulations replicate the sampling process, allowing us to build a simulated sampling distribution\n",
    "- Gained popularity as computers improved (*resample, so hot right now*)  \n",
    "- Resampling simulations return similar results as parametric or non-parametric tests and can be used to build confidence intervals and perform hypothesis tests\n",
    "- Resampling simulations allow us to use a wider range of sample statistic like mean, proportion, *median*, etc.\n",
    "- Unlike parametric tests that use the CLT, resampling simulations do not require normal sampling distributions.  Because of this, there is no minimal sample size requirement.  That said, larger samples sizes yield more accurate estimates of a population.\n",
    "- Two useful resampling simulation techniques are:\n",
    "    1. Bootstrapping \n",
    "    1. Randomization (permutation)"
   ]
  },
  {
   "cell_type": "markdown",
   "id": "860103a0-ad9c-4e55-bdda-673d273d85ae",
   "metadata": {},
   "source": [
    "---"
   ]
  },
  {
   "cell_type": "markdown",
   "id": "5f595031-f983-49c9-8fb3-3a292617c6d5",
   "metadata": {},
   "source": [
    "### Choosing Simulation Methods\n",
    "- Categorical Variables with Proportions\n",
    "    1. One proportion\n",
    "        1. Bootstrap CI\n",
    "        1. Bootstrap HT (parametric bootstrap) \n",
    "    1. Difference of two proportions\n",
    "        1. Bootstrap CI\n",
    "        1. Randomization HT\n",
    "    1. Comparing many proportions\n",
    "        1. CI NOT constructed\n",
    "        1. Randomization HT\n",
    "- Numerical Variables with Means\n",
    "    1. One Sample Mean\n",
    "        1. Bootstrap CI\n",
    "        1. Bootstrap HT (parametric bootstrap)\n",
    "    1. Paired Means\n",
    "        1. Bootstrap CI\n",
    "        1. Randomization HT\n",
    "    1. Difference of two means\n",
    "        1. Bootstrap CI\n",
    "        1. Randomization HT\n",
    "    1. Comparing many means\n",
    "        1. CI NOT constructed\n",
    "        1. Randomization HT\n",
    "- Note that CI are NOT created for 3 or more means or 3 or more proportions as no point estimate is calculated.  This is also true in parametric tests.\n",
    "- Note that randomization HT only works when there are 2 or more proportions or 2 or more means.  Randomization does NOT work for one mean or one proportion.\n",
    "- Note that bootstrapping HT can be used to used to generate a p-value for one mean or one proportion.  This is known as parametric bootstrapping.\n",
    "- Note that bootstrapping CI can also be used to answer hypotheses if we do not need a p-value.  We simply see if the hypothesized null value is inside or outside of the interval.\n",
    "- We'll provide a few examples of bootstrapping and randomization, but won't give examples for all situations like we do for parametric tests"
   ]
  },
  {
   "cell_type": "markdown",
   "id": "b124c6bf-9487-4625-9deb-1240b951543f",
   "metadata": {},
   "source": [
    "---"
   ]
  },
  {
   "cell_type": "markdown",
   "id": "716350c9-230b-402b-a338-9fe837388d30",
   "metadata": {},
   "source": [
    "### Bootstrapping\n",
    "1. **Non-parametric bootstrapping**---the most common form of bootstrapping.  If not specified, the term \"bootstrapping\" refers to non-parametric bootstrapping.  Used in bootstrapping confidence intervals.  Resample from original sample.\n",
    "1. **Parametric bootstrapping**---uncommon form of bootstrapping.  Used in bootstrapping hypothesis tests for one proportion or one mean if a p-value is needed.  Define theoretical null distribution and resample from that.  Since we define the null we can choose a non-normal distribution.  If we choose a normal distribution I imagine it provides similar, if not worse, results when compared to the classical parametric tests.  We will not give an example of this."
   ]
  },
  {
   "cell_type": "markdown",
   "id": "9c235450-b16d-42dd-be27-98317e8c144f",
   "metadata": {},
   "source": [
    "- (Non-parametric) bootstrapping method for confidence intervals is:\n",
    "    1. Collect original sample data from population\n",
    "    1. Randomly sample (resample) from the original sample data **with replacement**.  Use original sample size for resample size.\n",
    "    1. Calculate sample statistic.  Could be mean, median, etc.\n",
    "    1. Repeat steps 2 and 3 many times to create simulated sampling distribution (**bootstrap distribution**).  Bootstrap distribution shows relative frequencies (probabilities).  \n",
    "    1. Use bootstrap distribution to construct confidence interval\n",
    "- The image below shows how a true sampling distribution (top) and a bootstrap distribution (bottom) are used to create confidence intervals:\n",
    "\n",
    "![](pictures/bootstrap_1.png)\n",
    "\n",
    "- The image below shows the process for creating a bootstrap distribution in more detail:\n",
    "\n",
    "![](pictures/bootstrap_2.jpg)\n",
    "\n",
    "- The image below shows how each sample statistic is treated like an observation in a dot plot and used to build the bootstrap distribution:\n",
    "\n",
    "![](pictures/bootstrap_3.jpg)\n",
    "\n",
    "- There are different methods of creating bootstrap confidence intervals such as the percentile method and the bias corrected method.\n",
    "- **Percentile method**--confidence interval captures the middle `<CONFIDENCE_LEVEL>`% of the data (bootstrap resample statistics).  Simplest method.\n",
    "    - E.g. for a 95 confidence level, the lower quantile has 2.5% of the bootstrap resample statistics below it and the upper quantile has 2.5% percent of the bootstrap resample statistics above it.\n",
    "- Note that the bootstrap distribution is centered on the original sample statistic (not the population parameter).  As such, bootstrapping will NOT shift our population estimate to be closer to the true population parameter.\n",
    "- Bootstrapping does often give a good estimate of the population standard error.  As such, bootstrapping will often generate a precise confidence interval."
   ]
  },
  {
   "cell_type": "markdown",
   "id": "a7b73f41-8576-4426-b750-97befde9403f",
   "metadata": {},
   "source": [
    "---"
   ]
  },
  {
   "cell_type": "markdown",
   "id": "402cc3e1-558c-46c5-bba8-0b7d38c6be61",
   "metadata": {},
   "source": [
    "Code | Use\n",
    "--- | ---\n",
    "`np.random.default_rng(<SEED>)` | Create random number generator (RNG) object\n",
    "`.choice()` | RNG object method.  Randomly choose a specified number of values from a specified collection of values.  Parameter `replace=<BOOLEAN>` determines if chosen values are sampled with or without replacement."
   ]
  },
  {
   "cell_type": "markdown",
   "id": "29c787a7-4fe1-4711-9a3a-421d1c772c7e",
   "metadata": {},
   "source": [
    "---"
   ]
  },
  {
   "cell_type": "markdown",
   "id": "73651d02-8fe2-48b8-83f2-8e3d442aa75c",
   "metadata": {},
   "source": [
    "**EXAMPLES**"
   ]
  },
  {
   "cell_type": "markdown",
   "id": "981a807d-113b-4527-bf43-74ca5123b2de",
   "metadata": {},
   "source": [
    "- We'll construct a 95% bootstrap CI using the percentile method.  We'll use the penguins dataset.  The variable will be penguin mass.  We assume data is IID."
   ]
  },
  {
   "cell_type": "code",
   "execution_count": 54,
   "id": "b7908e2a-88bf-4010-b39f-4f92bdc43fce",
   "metadata": {},
   "outputs": [
    {
     "name": "stdout",
     "output_type": "stream",
     "text": [
      "The sample mean is 4207.06 grams.\n",
      "We are 95% confident that the population mean of penguin mass is between (4121.54, 4292.87) grams.\n"
     ]
    }
   ],
   "source": [
    "# Set seed with newest NumPy function.\n",
    "seed = 1991\n",
    "rng = np.random.default_rng(seed)\n",
    "\n",
    "# Original sample has 333 observations. Use this same size for resamples.\n",
    "number_sample_observations = len(penguins[\"body_mass_g\"])  \n",
    "\n",
    "bootstrap_distribution = []\n",
    "\n",
    "for i in range(10000):  # Resample 10000 times\n",
    "    # Randomly choose 333 observations with replacement\n",
    "    resample = rng.choice(penguins[\"body_mass_g\"], size=number_sample_observations, replace=True)\n",
    "    resample_statistic = np.mean(resample)  # Resample statistic is mean\n",
    "    bootstrap_distribution.append(resample_statistic)\n",
    "lower_bound = np.percentile(bootstrap_distribution, 2.5)  # Return quantile at 2.5 percentile\n",
    "upper_bound = np.percentile(bootstrap_distribution, 97.5)  # Return quantile at 97.5 percentile\n",
    "bootstrap_confidence_interval = (round(lower_bound,2), round(upper_bound,2))\n",
    "sample_mean = np.mean(penguins[\"body_mass_g\"])\n",
    "print(f'The sample mean is {round(sample_mean,2)} grams.')\n",
    "print(\n",
    "    'We are 95% confident that the population mean of penguin mass is between '\n",
    "    f'{bootstrap_confidence_interval} grams.'\n",
    ")"
   ]
  },
  {
   "cell_type": "markdown",
   "id": "9f60ab8e-e9e0-41a3-b1c0-8ccee4902c03",
   "metadata": {},
   "source": [
    "- We'll visualize this bootstrap bootstrap distribution and a 95% confidence interval below"
   ]
  },
  {
   "cell_type": "code",
   "execution_count": 55,
   "id": "ca4e51cf-fa00-4d9e-8035-caa5deceb167",
   "metadata": {},
   "outputs": [
    {
     "data": {
      "image/png": "[encoded data removed]",
      "text/plain": [
       "<Figure size 360x360 with 1 Axes>"
      ]
     },
     "metadata": {},
     "output_type": "display_data"
    }
   ],
   "source": [
    "sns.displot(kind=\"hist\", x=bootstrap_distribution, bins = 40)\n",
    "plt.axvline(lower_bound, color=\"red\", ls='--')\n",
    "plt.axvline(upper_bound, color=\"red\", ls='--')\n",
    "plt.show()"
   ]
  },
  {
   "cell_type": "markdown",
   "id": "682d95a8-596e-4e67-8766-33f13f0fc83f",
   "metadata": {},
   "source": [
    "- We'll also construct a confidence interval using parametric methods and compare intervals generated.  These methods we'll be explained in upcoming sections."
   ]
  },
  {
   "cell_type": "code",
   "execution_count": 56,
   "id": "45c9ebe7-d973-4869-8031-fb7cf38cd050",
   "metadata": {},
   "outputs": [
    {
     "name": "stdout",
     "output_type": "stream",
     "text": [
      "The standard error is 44.1256\n",
      "The T critical value is 1.9671\n",
      "We are 95% confident that the population mean of penguin mass is between (4120.26, 4293.86) grams.\n"
     ]
    }
   ],
   "source": [
    "# Identify variables\n",
    "x_hat = sample_mean\n",
    "sd = np.std(penguins[\"body_mass_g\"], ddof=1)\n",
    "n = number_sample_observations\n",
    "dof = n - 1\n",
    "\n",
    "# Calculate SE\n",
    "se = sd / sqrt(n)\n",
    "print(f\"The standard error is {round(se, 4)}\")\n",
    "\n",
    "# Calculate T critical value\n",
    "t_object = stats.t(dof)  # Create t distribution\n",
    "upper_percentile = (1 - (95 / 100)) / 2  # Calculate upper tail percentile\n",
    "t_critical = t_object.isf(upper_percentile)  # Returns t critical (quantile)\n",
    "print(f\"The T critical value is {round(t_critical, 4)}\")\n",
    "\n",
    "# Calculate margin of error\n",
    "me = se * t_critical\n",
    "\n",
    "# Calculate confidence interval\n",
    "lower_bound = x_hat - me\n",
    "upper_bound = x_hat + me\n",
    "parametric_confidence_interval = (round(lower_bound,2), round(upper_bound,2))\n",
    "\n",
    "# Interpret results\n",
    "print(\n",
    "    'We are 95% confident that the population mean of penguin mass is between '\n",
    "    f'{parametric_confidence_interval} grams.'\n",
    ")"
   ]
  },
  {
   "cell_type": "markdown",
   "id": "46b048af-396b-4619-980f-ea8691833a07",
   "metadata": {},
   "source": [
    "- We can see that both bootstrap and parametric confidence intervals returned similar results:"
   ]
  },
  {
   "cell_type": "code",
   "execution_count": 57,
   "id": "bcadecc4-a3e7-4199-9edc-5aca32ad5f2c",
   "metadata": {},
   "outputs": [
    {
     "name": "stdout",
     "output_type": "stream",
     "text": [
      "Bootstrap: (4121.54, 4292.87)\n",
      "Parametric: (4120.26, 4293.86)\n"
     ]
    }
   ],
   "source": [
    "print(f'Bootstrap: {bootstrap_confidence_interval}')\n",
    "print(f'Parametric: {parametric_confidence_interval}')"
   ]
  },
  {
   "cell_type": "markdown",
   "id": "974e6c1f-609b-432d-960d-0cf99eea5783",
   "metadata": {},
   "source": [
    "---"
   ]
  },
  {
   "cell_type": "markdown",
   "id": "7c389029-bd79-4e4c-ad47-6d2b4a300a88",
   "metadata": {},
   "source": [
    "### Randomization (Permutation)\n",
    "- Randomization (sometimes called permutation) is used for hypothesis tests with  proportions or means with two or more groups\n",
    "- The steps for randomization are as follows:\n",
    "    1. Collect original sample data from population\n",
    "    1. Assume no difference between categories/groups/levels (H~0~) and combine all observations from all groups into single dataset\n",
    "    1.  Sample (resample) from this new dataset **w/out replacement**, randomly shuffle (permute) observations into groups\n",
    "    1. Calculate sample statistic\n",
    "    1. Repeat steps 3 and 4 to create simulated sampling distribution.  Simulated sampling distribution shows relative frequencies (probabilities) if we assume H~0~ is true.  For this reason it is called the **null distribution**.\n",
    "    1. Use simulated sampling distribution to calculate p-value"
   ]
  },
  {
   "cell_type": "markdown",
   "id": "cae64f32-6c23-4467-9718-6f5a540b7bc3",
   "metadata": {},
   "source": [
    "**\"By-hand\" Example**\n",
    "\n",
    "- We'll first give an example, pretending that we are randomizing by hand\n",
    "- We are given the following data, which is the outcome of an experimental study with random assignment:\n",
    "\n",
    "![](pictures/study1.jpg)\n",
    "\n",
    "1. State hypotheses\n",
    "    1. Null hypothesis: p~1~ - p~2~ = 0.  Two population proportions are equal.  I.e. infection rate is equal for vaccine population and placebo population.\n",
    "    1. Alternative hypothesis: p~1~ - p~2~ != 0.  Two population proportions are NOT equal.  I.e. infection rate for vaccine population and placebo population are NOT equal.\n",
    "1. We'll say significance level is 0.05.  Sample proportion for vaccine group is $5/14 = 0.36$ and sample proportion for placebo group is $6/6 = 1$.  Sample sizes are 14 for vaccine group and 6 for placebo group.  Difference between real-life sample proportions are $(5/14) - (6/6) = - 0.64$.  This order could be reversed as long as it is consistent for every calculation.\n",
    "1.  This was an actual experiment with random assignment.  Sample less than 10% of population. However, the sample size condition for difference of two proportions is not met. Can not perform parametric hypothesis test. Instead, use randomization (permutation) resampling.\n",
    "1. Simulate study results while pretending H~0~ is TRUE:\n",
    "    1. 11/20 subjects were infected and 9/20 were not infected in the real-life study.  So write \"infection\" on 11 cards and \"no infection\" on 9 cards.\n",
    "    1. Randomize cards by shuffling, then deal 14 cards into vaccine pile and 6 cards into placebo pile.  This matches the number of subjects in each group in the real-life study.  I believe it is a coincidence that the totals equaled 11 and 9 again.\n",
    "![](pictures/study2.jpg)\n",
    "    1. Calculate proportion of infections (infection rate) in vaccine pile and proportion of infections in placebo pile: $(7/14) = 0.5$ for vaccine pile and $(4/6) = 0.66$ for placebo pile.\n",
    "    1. Take the difference in proportions (treatment - placebo).   $(0.5-0.66) = - 0.16$.\n",
    "1. Repeat simulation and build sampling distribution (null distribution).  Each dot is a simulated sample proportion difference (simulated sample statistic).\n",
    "![](pictures/study3.jpg)\n",
    "1. Compare real-life proportion difference, - 0.64, to distribution.  We can see that the probability of getting a difference in infection rates of -0.64 or less (or 0.64 or more) is 2/100 = 0.02. p-value = 0.02.  There is a 2% chance of getting a value at least as extreme as -0.64 if H~0~ is true.  Given this low probability, we start to think that H~0~ may actually be false.\n",
    "1. 0.02 < 0.05.  p-value <- $\\alpha$.  Reject H~0~ in favor of H~A~.  Infection rates for vaccine population and placebo population are different.  Because our real-life data show P(Inf|vaccine) - P(Inf|placebo) = negative number, -0.64, we know that the infection rate of the vaccine population is lower than the placebo population."
   ]
  },
  {
   "cell_type": "markdown",
   "id": "fbffb869-26ca-4ad2-902a-57d60d9e0245",
   "metadata": {},
   "source": [
    "---"
   ]
  },
  {
   "cell_type": "markdown",
   "id": "df1dd01d-ae29-44e8-a4c6-88cc58b464ec",
   "metadata": {},
   "source": [
    "## Parametric Methods\n",
    "- Parametric methods are based on the assumption of a theoretical normal sampling distribution.  This is the Central Limit Theorem (CLT).\n",
    "- We'll cover the following topics in this section:\n",
    "    1. Central limit theorem\n",
    "    1. Study sample size\n",
    "    1. Common parametric methods\n",
    "- The parametric methods covered are divided by the variable type and quantity\n",
    "    1. One proportion\n",
    "    1. Difference of two proportions\n",
    "    1. Chi-square goodness of fit\n",
    "    1. Chi-square independence\n",
    "    1. One mean\n",
    "    1. Paired means\n",
    "    1. Difference of Two Means\n",
    "    1. Many Means w/ANOVA\n",
    "- Note that we'll use parametric methods for proportions as these are the most common.  However, there are \"exact\" non-parametric methods that use the binomial distribution to calculate p-values.\n",
    "- Lastly note that we focus on the statistical theory and manual calculations of confidence intervals and hypothesis tests.  This is beneficial for learning purposes.  There are functions in SciPy, Statsmodels, and Pengouins that perform these calculation in a more automated way.  Using pre-made functions is faster and may reduce user error, but also adds a layer of abstraction to the learning process."
   ]
  },
  {
   "cell_type": "markdown",
   "id": "f9d44c24-87ff-4a6a-9d74-4a4e4e33e62f",
   "metadata": {},
   "source": [
    "---"
   ]
  },
  {
   "cell_type": "markdown",
   "id": "78eee768-9fce-4307-bef1-3878f41eec2a",
   "metadata": {},
   "source": [
    "### Central Limit Theorem\n",
    "- **Central Limit Theorem (CLT)**---if we repeatedly sample the population, the sampling distribution is nearly normal and centered at the population parameter (mean or proportion)\n",
    "- It is actually called the *Central* Limit Theorem because it is a *central* concept for theoretical inferential statistics\n",
    "- It is central because assuming a normal sampling distribution allows us to easily calculate probabilities\n",
    "- The CLT holds true for both normal and skewed populations\n",
    "    - The CLT holds true for normal populations regardless of sample size\n",
    "    - The CLT will hold true for skewed populations if the sample size is large enough.  The sample size needed depends on the amount of skew and the statistical test being performed.\n",
    "- We'll next provide examples of how sample size affects skew of sampling distributions.  We'll show categorical variables which use proportions and numerical variables which use means."
   ]
  },
  {
   "cell_type": "markdown",
   "id": "cebef2a0-447a-4728-9a2f-64a5d7f32039",
   "metadata": {},
   "source": [
    "---"
   ]
  },
  {
   "cell_type": "markdown",
   "id": "d01cb0e1-463a-4ffb-9e26-8cb033c4d0c8",
   "metadata": {},
   "source": [
    "#### CLT w/ Means\n",
    "- This first image shows a left-skewed population and a sampling distribution of means created with sample sizes of two.  The sampling distribution is also left-skewed.\n",
    "\n",
    "![](pictures/clt_mean_1.jpg)\n",
    "\n",
    "- This next image shows the same left-skewed population and a sampling distribution of means created with sample sizes of 30.  The sampling distribution is nearly normal, though still slightly left-skewed.\n",
    "\n",
    "![](pictures/clt_mean_2.jpg)"
   ]
  },
  {
   "cell_type": "markdown",
   "id": "8dc13c5d-3662-44ca-80cd-ab69725c04f0",
   "metadata": {},
   "source": [
    "---"
   ]
  },
  {
   "cell_type": "markdown",
   "id": "bc8e25cd-9cb5-47ad-a2d3-43af78b798fc",
   "metadata": {},
   "source": [
    "#### CLT w/ Proportions\n",
    "- This first image shows a population with a 0.9 proportion (probability) of successful trials and a sampling distribution of proportions created with sample sizes of 20.  The sampling distribution is left-skewed.\n",
    "\n",
    "![](pictures/clt_pro_1.jpg)\n",
    "\n",
    "- This next image shows the same population and a sampling distribution of proportions created with sample sizes of 101.   The sampling distribution is nearly normal, though still slightly left-skewed.\n",
    "\n",
    "![](pictures/clt_pro_2.jpg)"
   ]
  },
  {
   "cell_type": "markdown",
   "id": "b881db43-3828-4646-899e-00dfaa014f9e",
   "metadata": {},
   "source": [
    "---"
   ]
  },
  {
   "cell_type": "markdown",
   "id": "ed69d271-ea2d-4214-bb59-c8fadfea1185",
   "metadata": {},
   "source": [
    "### Study Sample Size"
   ]
  },
  {
   "cell_type": "markdown",
   "id": "d2322f9d-28f7-44ae-b7f5-b280f1177060",
   "metadata": {},
   "source": [
    "---"
   ]
  },
  {
   "cell_type": "markdown",
   "id": "8ef40e16-0b9a-4bc8-b08c-689917658c5e",
   "metadata": {},
   "source": [
    "#### ME and Sample Size\n",
    "- The following formula shows how the confidence interval, margin of error (ME), confidence level (represented by Z-Score), and SE are all related:\n",
    "  - Note that the margin of error is always half the confidence interval\n",
    "  - Note that confidence intervals for means will replace the Z critical value with the T critical value\n",
    "\n",
    "![](pictures/CI.jpg)\n",
    "\n",
    "- We can purposely decrease our margin of error by increasing our sample size\n",
    "- A larger sample size is usually more costly (time, resources, money) to obtain\n",
    "- To find a balance between cost and estimate precision we often specify the size of our desired margin of error in advance\n",
    "- E.g. we might want to estimate our product's true weight within +- 10 grams.  A range of 100 grams is too large to be helpful and although it wouldn't hurt to know, we don't need to know our product's weight within 1 gram."
   ]
  },
  {
   "cell_type": "markdown",
   "id": "e3d06510-3d30-4704-a4ea-8c20a410ba9a",
   "metadata": {},
   "source": [
    "---"
   ]
  },
  {
   "cell_type": "markdown",
   "id": "26baa4f1-027a-41c2-ac6b-041b23a9537f",
   "metadata": {
    "jp-MarkdownHeadingCollapsed": true,
    "tags": []
   },
   "source": [
    "**EXAMPLES**\n",
    "\n",
    "**Strategery for ME and Samples Size**\n",
    "\n",
    "1. Choose a desired ME (below it is 0.04) and plug it in\n",
    "1. Calculate the Z-score based on the desired confidence level (below it is 1.96 for a 95% CI) and plug it in\n",
    "1. Estimate proportion or standard deviation (below it is 0.5) and plug it in\n",
    "    - For categorical variables, estimate proportion based upon prior studies.  If no past studies to base estimate on, use 0.5 as the proportion.  A 0.5 proportion yields the largest confidence interval and is the most conservative estimate.\n",
    "    - For numerical variables, estimate standard deviation based upon prior studies\n",
    "1. Rearrange the the equation to isolate $n$\n",
    "1. Chug...chug...chug\n",
    "\n",
    "- For a categorical variable. A university is conducting a survey to see if students would like to pay increased fees for a library renovation.  What sample size is required to ensure a margin of error is smaller than 0.04 using a 95% confidence level?  I.e. we want to be able to estimate the true proportion of students +- 4.0% with a confidence level of 95%.\n",
    "\n",
    "![](pictures/sample_size.jpg)"
   ]
  },
  {
   "cell_type": "markdown",
   "id": "c631b0ed-fe41-4378-b2a5-68df8678ce54",
   "metadata": {},
   "source": [
    "---"
   ]
  },
  {
   "cell_type": "markdown",
   "id": "1bfadde7-0bea-4b09-9d1b-63ebb6cba31c",
   "metadata": {
    "tags": []
   },
   "source": [
    "#### Power and Sample Size\n",
    "- Power is the probability of correctly rejecting H~0~\n",
    "- **Effect size**---magnitude of difference between populations\n",
    "- Power relies not only on the sample size, but also on the effect size and significance level\n",
    "- Power calculations can be useful both before and after studies\n",
    "    1. Before a study, we can calculate a needed sample size using a planned significance level, a desired power, and desired effect size we would like to be able to detect\n",
    "    1. After a study, we can calculate power using sample size, significance level, and estimated effect size.  If we rejected H~0~, great! If we failed to reject H~0~, but power was high, great!  If we failed to reject H~0~ but power was low, very bad!  We do not know if we failed to reject because H~0~ was true, or if we failed to reject the power was low!!!\n",
    "- 80% - 90% are common powers, but it could be higher depending on the type of study.\n",
    "- Calculating power is difficult.  To see an example, take a look, it's in a book (specifically the *OpenIntro Statistics* book)...Reading Rainbow..."
   ]
  },
  {
   "cell_type": "markdown",
   "id": "965dfb98-cfff-4d41-abfa-2bb25a9142ee",
   "metadata": {},
   "source": [
    "---"
   ]
  },
  {
   "cell_type": "markdown",
   "id": "310a642d-458f-44e3-a579-0b1accc20fdc",
   "metadata": {
    "tags": []
   },
   "source": [
    "### One Proportion"
   ]
  },
  {
   "cell_type": "markdown",
   "id": "65d379f1-4061-4251-a741-17e0d23e5fc4",
   "metadata": {},
   "source": [
    "---"
   ]
  },
  {
   "cell_type": "markdown",
   "id": "1eb2a237-7a0a-43a3-ba5c-0d3c6ae4c21a",
   "metadata": {},
   "source": [
    "#### Conditions and SE\n",
    "- The following image shows conditions that must be met and the formula for standard error:\n",
    "\n",
    "![](pictures/clt_pro.jpg)"
   ]
  },
  {
   "cell_type": "markdown",
   "id": "9b0382b9-b29b-48b4-b24a-547f984cefa5",
   "metadata": {},
   "source": [
    "---"
   ]
  },
  {
   "cell_type": "markdown",
   "id": "fde2c979-e2a1-4a8a-91dc-3a4124ba1ab9",
   "metadata": {
    "tags": []
   },
   "source": [
    "#### Confidence Interval\n",
    "- The following image shows the formula for a confidence interval:\n",
    "\n",
    "![](pictures/CI.jpg)\n",
    "\n",
    "- Remember the **point estimate** is another name for the sample statistic\n",
    "- **`Z*`**---Z critical value.  A critical value for a standard normal distribution.  Only the positive value is used.\n",
    "- **Critical value**--when a quantile (Z-Score, T-Score, etc.) is used as a cut off point for decision making in confidence intervals or hypothesis tests, we call it a \"critical value\".\n",
    "- We use the same concepts introduced in the *Standard Normal Distribution* section to select Z critical values (quantiles) that capture a desired proportion of observations.  This desired proportion of observations is equal to our confidence level as shown by the following graph:\n",
    "\n",
    "![](pictures/CI_Z_mean.jpg)\n",
    "\n",
    "\n",
    "- To find the Z critical value for a given confidence level:\n",
    "\n",
    "```python\n",
    "def get_z_critical(confidence_level):\n",
    "    import scipy.stats as stats\n",
    "    standard_normal_object = stats.norm(loc=0, scale=1)  # Create standard normal distribution\n",
    "    upper_percentile = (1 - (confidence_level / 100)) / 2  # Calculate upper tail percentile\n",
    "    return standard_normal_object.isf(upper_percentile)  # Returns z critical (quantile)\n",
    "```"
   ]
  },
  {
   "cell_type": "code",
   "execution_count": 58,
   "id": "8009e5a7-61bb-4910-a687-fce22074a976",
   "metadata": {},
   "outputs": [
    {
     "name": "stdout",
     "output_type": "stream",
     "text": [
      "1.645\n",
      "1.96\n",
      "2.576\n"
     ]
    }
   ],
   "source": [
    "def get_z_critical(confidence_level):\n",
    "    import scipy.stats as stats\n",
    "    standard_normal_object = stats.norm(loc=0, scale=1)  # Create standard normal distribution\n",
    "    upper_percentile = (1 - (confidence_level / 100)) / 2  # Calculate upper tail percentile\n",
    "    return standard_normal_object.isf(upper_percentile)  # Returns quantile\n",
    "\n",
    "for confidence_level in [90, 95, 99]:\n",
    "    z_critical = get_z_critical(confidence_level)\n",
    "    print(f'{round(z_critical, 3)}')"
   ]
  },
  {
   "cell_type": "markdown",
   "id": "80680753-355e-4266-9aa7-3e3b1bd1a258",
   "metadata": {},
   "source": [
    "**Strategery for One Proportion CI**\n",
    "\n",
    "1. Identify sample proportion and sample size\n",
    "1. Verify conditions for independence and sample size/skew, using $\\hat{p}$ in place of $p$\n",
    "1. Calculate SE, using $\\hat{p}$ in place of $p$\n",
    "1. Calculate Z critical for desired CL\n",
    "1. Calculate margin of error\n",
    "1. Calculate confidence interval\n",
    "1. Interpret results"
   ]
  },
  {
   "cell_type": "markdown",
   "id": "27f03a29-47cc-47bd-99f7-a270ea449565",
   "metadata": {},
   "source": [
    "---"
   ]
  },
  {
   "cell_type": "markdown",
   "id": "880c17ec-f70b-4e7f-9f3f-63704d207455",
   "metadata": {},
   "source": [
    "**EXAMPLES**"
   ]
  },
  {
   "cell_type": "markdown",
   "id": "7bfe7cd3-bbea-4ee4-9d53-4805c9547e00",
   "metadata": {},
   "source": [
    "- Create a 99% confidence interval for the proportion of Americans that support expanding the use of wind turbines.  1,000 Americans were randomly surveyed.  The sample proportion in support was found to be 0.848."
   ]
  },
  {
   "cell_type": "code",
   "execution_count": 59,
   "id": "8903e393-db19-412f-944e-3f6645368e9b",
   "metadata": {},
   "outputs": [
    {
     "name": "stdout",
     "output_type": "stream",
     "text": [
      "The sample proportion is 0.848 and the sample size is 1000.\n",
      "We can say that samples are independent because sampling was done randomly and 1,000 Americans surveyed is less than 10% of the American popuation.\n",
      "The sample size is also large enough, so the sampling distribution will be normal. The Central Limit Theorem can be used.\n",
      "The standard error is 0.0114.\n",
      "The Z critical value is: 2.576.\n",
      "We are 99% confident that the true proportion of Americans who support expanding the use of wind turbines is between 0.819 and 0.877.\n"
     ]
    }
   ],
   "source": [
    "# 1. Identify sample proportion and sample size\n",
    "n = 1000\n",
    "p_hat = 0.848\n",
    "print(f'The sample proportion is {p_hat} and the sample size is {n}.')\n",
    "\n",
    "# 2. Verify conditions for independence and sample size/skew\n",
    "print(\n",
    "    'We can say that samples are independent because sampling was done randomly '\n",
    "    f'and 1,000 Americans surveyed is less than 10% of the American popuation.'\n",
    ")\n",
    "\n",
    "if n * p_hat >= 10 and (1-p_hat) * n >= 10:\n",
    "    print(\n",
    "        'The sample size is also large enough, so the sampling distribution will be normal. '\n",
    "        'The Central Limit Theorem can be used.'\n",
    "  )\n",
    "\n",
    "# 3. Calculate SE\n",
    "se = sqrt(p_hat * (1-p_hat) / (n))\n",
    "print(f\"The standard error is {round(se, 4)}.\")\n",
    "\n",
    "# 4. Calculate Z critical value\n",
    "z_critical = get_z_critical(99)\n",
    "print(f'The Z critical value is: {round(z_critical,3)}.')\n",
    "\n",
    "# 5. Calculate margin of error\n",
    "me = se * z_critical\n",
    "\n",
    "#6. Calculate confidence interval\n",
    "lower_int = p_hat - me\n",
    "upper_int = p_hat + me\n",
    "\n",
    "# 7. Interpret results\n",
    "print(\n",
    "    'We are 99% confident that the true proportion of Americans who support expanding '\n",
    "    f'the use of wind turbines is between {round(lower_int, 3)} and {round(upper_int, 3)}.'\n",
    ")"
   ]
  },
  {
   "cell_type": "markdown",
   "id": "db06642e-4b7e-4e34-883f-7429cb99961d",
   "metadata": {},
   "source": [
    "---"
   ]
  },
  {
   "cell_type": "markdown",
   "id": "c788286f-831e-4563-8387-6757ecb5ffa0",
   "metadata": {},
   "source": [
    "#### Hypothesis Testing\n",
    "\n",
    "The following image shows steps for hypothesis testing:\n",
    "\n",
    "![](pictures/hy_test_prop_single.jpg)\n",
    "\n",
    "- When performing a one proportion hypothesis test:\n",
    "    1. We use p~0~ in place of $p$ to determine if our sample size is large enough\n",
    "    1. We use p~0~ in place of $p$ to calculate SE\n",
    "    1. We use p~0~ in place of $p$ to calculate Z-Score\n",
    "- This differs from CIs, which use $\\hat{p}$ in place of $p$\n",
    "- The Z-Score is an example of a test statistic\n",
    "- **Test statistic**---statistic used find p-value.  Z-Score, t-score, chi-square, and the F-statistic are all test statistics."
   ]
  },
  {
   "cell_type": "markdown",
   "id": "7c79313b-6955-4b5c-8c9f-db8617afe5f9",
   "metadata": {},
   "source": [
    "**Strategery for One Sample Proportion Two-Sided Hypothesis Test**\n",
    "\n",
    "1. List hypotheses, using p~0~\n",
    "    1. Null hypothesis: p = p~0~.  Population proportion equals the hypothesized null proportion\n",
    "    1. Alternative hypothesis: p != p~0~.  Population proportion does NOT equal hypothesized null proportion\n",
    "1. Identify significance level, sample proportion, and sample size\n",
    "1. Verify conditions for independence and sample size/skew, using p~0~ in place of $p$\n",
    "1. Calculate SE, using p~0~ in place of $p$\n",
    "1. Calculate Z-Score using the formula.  It is also super helpful to draw a picture to understand the next step!!!\n",
    "1. Calculate p-value\n",
    "1. Interpret results by comparing the p-value to significance level\n",
    "    1. When the p-value is less than the significance level, $\\alpha$, reject H~0~\n",
    "    1. When the p-value is greater than the significance level, $\\alpha$, fail to reject H~0~"
   ]
  },
  {
   "cell_type": "markdown",
   "id": "ea4204d7-a25a-41b0-a3b8-69904fc4e2e4",
   "metadata": {},
   "source": [
    "---"
   ]
  },
  {
   "cell_type": "markdown",
   "id": "2a8bbf66-01d1-428d-9994-3afd982447c8",
   "metadata": {},
   "source": [
    "**EXAMPLES**\n",
    "\n",
    "- Some people claim to be able to tell the difference between diet and regular soda with one taste.  80 of these people were randomly sampled.  40 cups were assigned to be regular soda and 40 cups were assigned to be diet soda.  53 participants correctly identified the soda type.\n",
    "    1. Does the data provide strong evidence that these people are any better or worse than random guessing at telling the difference between diet and regular soda?\n",
    "    1. Interpret the p-value in this context."
   ]
  },
  {
   "cell_type": "code",
   "execution_count": 60,
   "id": "320a533f-620b-4040-9a79-9fdec5f99f9e",
   "metadata": {},
   "outputs": [
    {
     "name": "stdout",
     "output_type": "stream",
     "text": [
      "Null hypothesis: p = 0.5. People who claim to be able to tell the difference actually do no better than random chance.\n",
      "Alternative Hypothesis: p != 0.5. People who claim to be able to tell the difference do better or worse than random chance.\n",
      "Our significance level is 0.05, our sample proportion is 0.6625 and our sample size is 80.\n",
      "There is random samping.  We assume that the sample is less than 10% of population.\n",
      "The sample size is large enough.\n",
      "Our standard error is 0.0559.\n",
      "Our Z-Score is 2.9069.\n",
      "Our p-value is 0.0037. If the null hypothesis were true, there would be a 0.365% chance of getting a value at least as extreme as our observed sample statistic.\n",
      "Because our p-value, 0.0037, is less than our significance level, 0.05, we reject our null hypothesis in favor of the alternative hypothesis. The evidence suggests that people who claim to be able to distinguish between sodas do better than random chance.  We know they do better (and not worse) because p-hat > p-not.\n"
     ]
    }
   ],
   "source": [
    "# 1. List Hypotheses \n",
    "p_not = 0.50\n",
    "print(\n",
    "    f'Null hypothesis: p = {p_not}. ' \n",
    "    'People who claim to be able to tell the difference actually do no better than random chance.\\n'\n",
    "    f'Alternative Hypothesis: p != {p_not}. '\n",
    "    'People who claim to be able to tell the difference do better or worse than random chance.'\n",
    ")\n",
    "\n",
    "# 2. Identify variables\n",
    "a = 0.05\n",
    "p_hat = 53 / 80\n",
    "n = 80\n",
    "print(f'Our significance level is {a}, our sample proportion is {p_hat} and our sample size is {n}.')\n",
    "\n",
    "# 3. Verify conditions for independence and sample size/skew\n",
    "print('There is random samping.  We assume that the sample is less than 10% of population.')\n",
    "\n",
    "if n * p_not >= 10 and (1 - p_not) * n >= 10:\n",
    "    print('The sample size is large enough.')\n",
    "\n",
    "# 4. Calculate SE\n",
    "se = sqrt(p_not * (1 - p_not)/n)\n",
    "print(f'Our standard error is {round(se, 4)}.')\n",
    "\n",
    "# 5. Calculate Z-score\n",
    "z = (p_hat - p_not)/se\n",
    "print(f'Our Z-Score is {round(z, 4)}.')\n",
    "\n",
    "# 6. Calculate p-value\n",
    "standard_normal_object = stats.norm(loc=0, scale=1)  # Create standard normal distribution\n",
    " # Use SF instead of CDF because Z-Score is positive.  Gives 1 tail proportion then double for p-value.\n",
    "p_value = standard_normal_object.sf(z) * 2\n",
    "\n",
    "print(\n",
    "    f'Our p-value is {round(p_value, 4)}. '\n",
    "    f'If the null hypothesis were true, there would be a {round(p_value * 100, 4)}% chance '\n",
    "    'of getting a value at least as extreme as our observed sample statistic.'\n",
    ")\n",
    "\n",
    "# 7. Interpret results\n",
    "print(\n",
    "    f'Because our p-value, {round(p_value, 4)}, is less than our significance level, '\n",
    "    f'{a}, we reject our null hypothesis in favor of the alternative hypothesis. '\n",
    "    f'The evidence suggests that people who claim to be able to distinguish between sodas do better than '\n",
    "    f'random chance.  We know they do better (and not worse) because p-hat > p-not.'\n",
    ")"
   ]
  },
  {
   "cell_type": "markdown",
   "id": "501b749c-ba4a-4c01-9bd8-c265f4ff963a",
   "metadata": {},
   "source": [
    "---"
   ]
  },
  {
   "cell_type": "markdown",
   "id": "496e085b-5f5e-491e-8797-6552149f17be",
   "metadata": {},
   "source": [
    "#### One-Sided Tests\n",
    "- Two-sided hypothesis tests detect whether the $p$ is either above or below a null value p~0~\n",
    "- One-sided hypothesis tests detect whether the $p$ is above, or below, but not both.  We could either say:\n",
    "    1. There's only value in detecting if the population parameter is **less than** some value p~0~.  In this case, the alternative hypothesis is written as p < p~0~ for some null value.\n",
    "    1. There's only value in detecting if the population parameter is **more than** some value p~0~.  In this case, the alternative hypothesis is written as p > p~0~ for some null value.\n",
    "- In a one sided test we calculate the probability of the true parameter being in one tail of the normal distribution.  After using the Z-Score to find the percentile of one tail we do NOT double it.  This means that the p-value will be half the size and we are more likely to reject the H~0~.\n",
    "- *We must decide to use a one-sided hypothesis test before seeing the data*\n",
    "- The significance level of a one-sided test is NOT a compliment of the equivalent confidence interval.\n",
    "  - E.g. for two-sided tests a 95% confidence interval and a 0.05 alpha can be used to draw equivalent conclusions\n",
    "  - E.g. for one-sided tests a 90% confidence interval corresponds to 0.05 alpha\n",
    "- Because one-sided tests are less often used, we will not give an example"
   ]
  },
  {
   "cell_type": "markdown",
   "id": "080716a8-13b9-40d7-b3ad-a8df668c1904",
   "metadata": {},
   "source": [
    "---"
   ]
  },
  {
   "cell_type": "markdown",
   "id": "65fefe57-e9b9-4bec-9d9b-f2be8359fcd0",
   "metadata": {},
   "source": [
    "### Difference of Two Proportions"
   ]
  },
  {
   "cell_type": "markdown",
   "id": "89e35cde-3258-454f-8dcb-4834fc67c51f",
   "metadata": {},
   "source": [
    "---"
   ]
  },
  {
   "cell_type": "markdown",
   "id": "c0e59540-eded-484b-8209-cf1cecfa3bec",
   "metadata": {
    "tags": []
   },
   "source": [
    "#### Conditions and SE\n",
    "- The following images show the conditions that must be met to compare two independent proportions.  Notice there is now a condition for independence between groups.\n",
    "\n",
    "![](pictures/hy_test_prop_single3.jpg)\n",
    "\n",
    "- The following image shows the formula to calculate the standard error (SE) and create a confidence interval (CI):\n",
    "\n",
    "![](pictures/hy_test_prop_single2.jpg)"
   ]
  },
  {
   "cell_type": "markdown",
   "id": "03efb603-af35-45af-bcfa-4214e974835c",
   "metadata": {},
   "source": [
    "---"
   ]
  },
  {
   "cell_type": "markdown",
   "id": "74778d4a-eed3-4913-8915-2133c608a33a",
   "metadata": {},
   "source": [
    "#### Confidence Intervals\n",
    "- Confidence interval for the difference of two proportions is very similar to one proportion, but there are changes:\n",
    "  - The point estimate is a difference of two proportions\n",
    "  - SE formula\n",
    "  - Z-Score formula kind of"
   ]
  },
  {
   "cell_type": "markdown",
   "id": "5ce698d3-ac23-4eea-a55b-b40ed55f57a4",
   "metadata": {},
   "source": [
    "**Strategery for Difference of Two Proportions CI**:\n",
    "\n",
    "1. Identify sample proportion and sample size for both samples\n",
    "1. Verify conditions for independence and sample size/skew, using $\\hat{p}_1$ and $\\hat{p}_2$ in place of $p$\n",
    "1. Calculate SE, using $\\hat{p}_1$ and $\\hat{p}_2$ in place of $p$\n",
    "1. Calculate Z-Score for desired CL\n",
    "1. Calculate margin of error\n",
    "1. Calculate confidence interval\n",
    "1. Interpret results\n",
    "- The order we write probabilities when calculating difference determines whether the confidence interval will have positive numbers or negative numbers.  Both are correct, but the order written does affect how we interpret the results."
   ]
  },
  {
   "cell_type": "markdown",
   "id": "11b5eb5e-4287-4527-8564-c518c7007806",
   "metadata": {},
   "source": [
    "---"
   ]
  },
  {
   "cell_type": "markdown",
   "id": "60d453bd-0dbc-4fed-8daf-559263841225",
   "metadata": {},
   "source": [
    "**EXAMPLES**"
   ]
  },
  {
   "cell_type": "markdown",
   "id": "62cbec07-b545-4702-b5f9-382d10465082",
   "metadata": {},
   "source": [
    "![](pictures/two_prop_ci.jpg)"
   ]
  },
  {
   "cell_type": "code",
   "execution_count": 61,
   "id": "3d46a0e5-cd3c-460b-9ec4-b4cff73e2639",
   "metadata": {},
   "outputs": [
    {
     "name": "stdout",
     "output_type": "stream",
     "text": [
      "The sample proportion is 0.011 for fish oil and 0.015 for the placebo. There is a difference of -0.004. The sample sizes are 12933 for fish oil and 12938 for the placebo.\n",
      "Assignment into treatment groups was randomized.  We assume that the samples in each group are less than 10% of the population.  Samples are not paired.  Samples are independent.\n",
      "The sample size is large enough.\n",
      "The standard error is 0.0014\n",
      "The Z critical value is: 1.96.\n",
      "We are 95% confident that the true difference in proportion of population having a heart attack between those who took fish oil and those who took a placebo is between -0.007 and -0.0015.  Because we listed the fish oil proportion first and the placebo second and the sample difference is negative, we know that fish oil has a lower heart attack rate than the placebo. We are 95% confident there is between a 0.15% and 0.7000000000000001% lower heart attack rate for those who took fish oil from a baseline of about 1.5458%.\n"
     ]
    }
   ],
   "source": [
    "# 1. Identify variables\n",
    "p_hat_1 = 145 / 12933 # fish oil\n",
    "n_1 = 12933 # fish oil\n",
    "p_hat_2 = 200 / 12938 # placebo\n",
    "n_2 = 12938 # placebo\n",
    "print(\n",
    "    f'The sample proportion is {round(p_hat_1, 3)} for fish oil and {round(p_hat_2,3)} for the placebo. '\n",
    "    f'There is a difference of {round(p_hat_1 - p_hat_2, 3)}. '\n",
    "    f'The sample sizes are {n_1} for fish oil and {n_2} for the placebo.'\n",
    ")\n",
    "\n",
    "# 2. Verify conditions for independence and sample size/skew\n",
    "print(\n",
    "    'Assignment into treatment groups was randomized.  We assume that the samples in each group are less '\n",
    "    'than 10% of the population.  Samples are not paired.  Samples are independent.'\n",
    ")\n",
    "\n",
    "condition_1 = n_1 * p_hat_1 >= 10 and (1 - p_hat_1) * n_1 >= 10\n",
    "condition_2 = n_2 * p_hat_2 >= 10 and (1 - p_hat_2) * n_1 >= 10\n",
    "                                \n",
    "if condition_1 and condition_2:\n",
    "    print('The sample size is large enough.')\n",
    "\n",
    "# 3. Calculate SE\n",
    "se = sqrt((p_hat_1 * (1 - p_hat_1)/n_1) + (p_hat_2 * (1 - p_hat_2)/n_2))\n",
    "print(f\"The standard error is {round(se, 4)}\")\n",
    "\n",
    "# 4. Calculate Z critical value\n",
    "z_critical = get_z_critical(95)\n",
    "print(f'The Z critical value is: {round(z_critical,3)}.')\n",
    "\n",
    "# 5. Calculate margin of error\n",
    "me = se * z_critical\n",
    "\n",
    "# 6. Calculate confidence interval\n",
    "lower_int = p_hat_1 - p_hat_2 - me\n",
    "upper_int = p_hat_1 - p_hat_2 + me\n",
    "\n",
    "# 7. Interpret results\n",
    "print(\n",
    "    f'We are 95% confident that the true difference in proportion of population having a heart attack '\n",
    "    f'between those who took fish oil and those who took a placebo is between {round(lower_int, 4)} '\n",
    "    f'and {round(upper_int, 4)}.  Because we listed the fish oil proportion first and the placebo second '\n",
    "    f'and the sample difference is negative, we know that fish oil has a lower heart attack rate than the '\n",
    "    f'placebo. We are 95% confident there is between a {round(upper_int, 4) * -100}% '\n",
    "    f'and {round(lower_int, 4) * -100}% lower heart attack rate for those who took fish oil from a baseline '\n",
    "    f'of about {round(p_hat_2 * 100, 4)}%.'\n",
    ")"
   ]
  },
  {
   "cell_type": "markdown",
   "id": "bd9c19ba-a60e-4b19-966a-1d9ca10639bb",
   "metadata": {},
   "source": [
    "---"
   ]
  },
  {
   "cell_type": "markdown",
   "id": "e89c7fa6-3419-486d-aab6-e863c19221a5",
   "metadata": {},
   "source": [
    "#### Hypothesis Testing\n",
    "- Hypothesis testing for the difference of two proportions is very similar to one proportion tests, but there are changes:\n",
    "  - SE formula (same as shown above in CI)\n",
    "  - **Pooled proportion** used if the null hypothesis is that there is no difference in proportions\n",
    "\n",
    "![](pictures/hy_test_prop_diff_pooled.jpg)\n",
    "\n",
    "- The pooled proportion is the proportion of successes found by combining the two samples.  We combine them because we are operating under the null hypothesis which says there is no difference between populations.  Similar idea as randomization (permutation) resampling simulations.\n",
    "- The pooled proportion is used to test if the sample size is large enough.  It is used in place of $p$ in the success failure condition seen below:\n",
    "\n",
    "![](pictures/hy_test_prop_single3.jpg)\n",
    "\n",
    "- The pooled probability is also used in place of $\\hat{p}$s in the SE formula:\n",
    "  - Note that CI uses $\\hat{p}$s, but hypothesis test uses pooled probability\n",
    "\n",
    "![](pictures/hy_test_prop_single2.jpg)\n",
    "\n",
    "- Difference of two proportions also uses the same Z-Score formula, but with a difference of sample proportions as sample proportion and 0 as the null proportion\n",
    "    - $Z = \\frac{(\\hat{p}_1 - \\hat{p}_2) - 0}{SE}$"
   ]
  },
  {
   "cell_type": "markdown",
   "id": "b36ff7c7-4653-4552-b80d-04f36bbf3778",
   "metadata": {},
   "source": [
    "**Strategery for Difference of Two Proportions Hypothesis Test**\n",
    "\n",
    "1. List hypotheses\n",
    "    1. Null hypothesis: p~1~ - p~2~ = 0.  Difference between population proportions is 0.\n",
    "    1. Alternative hypothesis: p~1~ - p~2~ != 0. Difference between population proportions is not 0.\n",
    "1. Identify significance level, sample proportions, sample sizes, and difference of two sample proportions\n",
    "1. Verify conditions for independence and sample size/skew, using the pooled proportion in place of $p$\n",
    "1. Calculate SE, using the pooled proportion in place of $p$\n",
    "1. Calculate Z-Score using the formula.  It is also super helpful to draw a picture to understand the next step!!!\n",
    "1. Calculate p-value\n",
    "1. Interpret results by comparing the p-value to significance level\n",
    "    1. When the p-value is less than the significance level, $\\alpha$, reject H~0~\n",
    "    1. When the p-value is greater than the significance level, $\\alpha$, fail to reject H~0~"
   ]
  },
  {
   "cell_type": "markdown",
   "id": "fbd83293-183e-4898-afb6-859d08bcabf0",
   "metadata": {},
   "source": [
    "---"
   ]
  },
  {
   "cell_type": "markdown",
   "id": "2e397526-c9bf-42d2-9123-96209d09227a",
   "metadata": {},
   "source": [
    "**EXAMPLES**"
   ]
  },
  {
   "cell_type": "markdown",
   "id": "626c4a53-843f-4139-ada0-0077cd9f5a7c",
   "metadata": {},
   "source": [
    "![](pictures/hy_test_prop_diff_ex.jpg)"
   ]
  },
  {
   "cell_type": "code",
   "execution_count": 62,
   "id": "7d4ffee8-223a-4f94-b095-aad7cd1fd4c3",
   "metadata": {},
   "outputs": [
    {
     "name": "stdout",
     "output_type": "stream",
     "text": [
      "Null hypothesis: p1 - p2 = 0.   There is no difference in population proportions. I.e death rate between those women who recieved mammogram screenings and those who did not is 0. \n",
      "Alternative hypothesis: p1 - p2 != 0.  There is a difference in population proportions.\n",
      "Our significance level is 0.05. Our sample proportion mammogram is 0.0113 and our sample proportion control is 0.0114. The sample difference is -0.0001. The sample size mammogram is 44425 and the sample size control is 44405.\n",
      "There is random assignment  We assume that the sample is less than 10% of the population. Groups were non-paried and are independent.\n",
      "The sample size is large enough.\n",
      "The standard error is 0.0007.\n",
      "Our Z-Score is -0.17.\n",
      "Our p-value is 0.8683.  If the null hypothesis were true, there would be a 86.8316% chance  of getting a value at least as extreme as our sample statistic.\n",
      "Because our p-value, 0.8683, is greater than our significance level, 0.05, we do NOT reject our null hypothesis.\n"
     ]
    }
   ],
   "source": [
    "# 1. State hypotheses\n",
    "print(\n",
    "    'Null hypothesis: p1 - p2 = 0.   There is no difference in population proportions. '\n",
    "    'I.e death rate between those women who recieved mammogram screenings and those who did not is 0. \\n'\n",
    "    'Alternative hypothesis: p1 - p2 != 0.  There is a difference in population proportions.'\n",
    ")\n",
    "\n",
    "# 2. Identify variables\n",
    "a = 0.05\n",
    "p_hat_1 = 500 / 44425\n",
    "n_1 = 44425\n",
    "p_hat_2 = 505 / 44405\n",
    "n_2 = 44405\n",
    "print(\n",
    "    f'Our significance level is {a}. Our sample proportion mammogram is {round(p_hat_1, 4)} and our '\n",
    "    f'sample proportion control is {round(p_hat_2, 4)}. The sample difference is {round(p_hat_1 - p_hat_2, 4)}. '\n",
    "    f'The sample size mammogram is {n_1} and the sample size control is {n_2}.'\n",
    ")\n",
    "\n",
    "# 3. Verify conditions for independence and sample size/skew\n",
    "print(\n",
    "    'There is random assignment  We assume that the sample is less than 10% of the population. '\n",
    "    'Groups were non-paried and are independent.'\n",
    ")\n",
    "\n",
    "p_pooled = (500 + 505) / (44425 + 44405)\n",
    "condition_1 = n_1 * p_pooled >= 10  and n_1 * (1 - p_pooled) >= 10\n",
    "condition_2 = n_2 * p_pooled >= 10 and n_2 * (1 - p_pooled) >= 10\n",
    "\n",
    "if condition_1 & condition_2:\n",
    "    print('The sample size is large enough.')\n",
    "\n",
    "# 4. Calculate SE\n",
    "se = sqrt((p_pooled * (1 - p_pooled)/n_1) + (p_pooled * (1 - p_pooled)/n_2))\n",
    "print(f\"The standard error is {round(se, 4)}.\")\n",
    "\n",
    "# 5. Calculate Z-Score\n",
    "z = ((p_hat_1 - p_hat_2)- 0) / se\n",
    "print(f'Our Z-Score is {round(z, 2)}.')\n",
    "\n",
    "# 6. Calculate p-value\n",
    "standard_normal_object = stats.norm(loc=0, scale=1)  # Create standard normal distribution\n",
    " # Use CDF instead of SF because Z-Score is negative.  Gives 1 tail proportion then double for p-value.\n",
    "p_value = standard_normal_object.cdf(z) * 2\n",
    "print(\n",
    "    f'Our p-value is {round(p_value, 4)}.  If the null hypothesis were true, there would be a '\n",
    "    f'{round(p_value * 100, 4)}% chance  of getting a value at least as extreme as our sample statistic.'\n",
    ")\n",
    "\n",
    "# 7. Interpret results\n",
    "print(\n",
    "    f'Because our p-value, {round(p_value, 4)}, is greater than our significance level, {a}, '\n",
    "    'we do NOT reject our null hypothesis.'\n",
    ")"
   ]
  },
  {
   "cell_type": "markdown",
   "id": "44c30392-dc9f-4205-80ba-b01590aa9d2f",
   "metadata": {},
   "source": [
    "---"
   ]
  },
  {
   "cell_type": "markdown",
   "id": "5da4c900-7f8e-47e6-ac96-0d32dd455d26",
   "metadata": {},
   "source": [
    "### Chi-Square GOF\n",
    "- Goodness of fit with the chi-square test is called goodness of *fit* since we're evaluating how well our observed data *fit* the expected distribution.  The two major use cases are:\n",
    "    1. Given a sample of cases that can be classified into several groups, determine if the sample is representative of the general population.  I.e compare observed distribution to population distribution.  We will give an example of this.\n",
    "    1. Evaluate whether data resemble a particular distribution, such as a normal distribution or a geometric distribution.  We won't give an example of this.\n",
    "- GOF is used when one Bournoulli variable is grouped into *more than*  two levels by a second categorical variable  \n",
    "- Data for chi-square GOF is stored stored in a one-way frequency table\n",
    "- Chi-square is NOT used to construct confidence intervals, since there is NOT a single parameter to estimate\n",
    "- Chi-square is used in hypothesis testing"
   ]
  },
  {
   "cell_type": "markdown",
   "id": "9375ae7d-087d-47da-b105-96925de3d919",
   "metadata": {},
   "source": [
    "---"
   ]
  },
  {
   "cell_type": "markdown",
   "id": "c51eef8e-ad00-43ec-a761-f58036035db2",
   "metadata": {},
   "source": [
    "#### Conditions and Chi-Square\n",
    "\n",
    "![](pictures/hy_test_prop_chi_1.jpg)\n",
    "\n",
    "![](pictures/hy_test_prop_chi_2.jpg)"
   ]
  },
  {
   "cell_type": "markdown",
   "id": "39f21b47-0433-4f2e-8699-68c88e4391c1",
   "metadata": {},
   "source": [
    "---"
   ]
  },
  {
   "cell_type": "markdown",
   "id": "03063d56-4543-48a1-bddd-beed14b4c912",
   "metadata": {
    "tags": []
   },
   "source": [
    "#### Chi-square Distribution\n",
    "\n",
    "- The chi-square test statistic is always positive\n",
    "- **Chi-square distribution**---distribution of chi-square test statistics.  Probability density curve.  Shape depends solely on the degrees of freedom.  As degrees of freedom increases the center of the distribution moves right, the variability/spread increases, and the shape appears less skewed.  However, the chi-square distribution is always right skewed to some extent. \n",
    "\n",
    "![](pictures/hy_test_prop_chi_df.jpg)\n",
    "\n",
    "- The p-value associated with a chi square distribution represents the area in the upper tail\n",
    "\n",
    "![](pictures/hy_test_prop_chi_curve.jpg)\n"
   ]
  },
  {
   "cell_type": "markdown",
   "id": "b0113540-1034-43d5-93ab-1d370cdbbd4f",
   "metadata": {},
   "source": [
    "---"
   ]
  },
  {
   "cell_type": "markdown",
   "id": "146fe674-b793-464a-a36d-1fb5fb6f06dd",
   "metadata": {},
   "source": [
    "#### Hypothesis Testing"
   ]
  },
  {
   "cell_type": "markdown",
   "id": "2a70e89c-748b-413b-8a7b-96a09841218e",
   "metadata": {},
   "source": [
    "**Strategery for Chi-Square GOF**\n",
    "\n",
    "1. Identify parameter of interest\n",
    "1. List hypotheses\n",
    "    1. Null is that observed counts and expected counts are similar because the observed counts are the result of a random sample of the population. Any differences occur because of sampling variability.\n",
    "    1. Alternative is that the observed counts are NOT similar to the expected counts because observed counts are NOT the result of a random sample of the population.\n",
    "1. Identify significance level, observed count frequency, expected count frequency, and degrees of freedom\n",
    "1. Verify conditions for independence and sample size\n",
    "1. Calculate chi-square and p-value.  We'll use `stats.chisquare(f_obs=<ARRAY_LIKE_FREQU>, f_exp=<ARRAY_LIKE_FREQU>)` which returns a tuple of (chi-square, p-value).\n",
    "1. Interpret results by comparing the p-value to significance level\n",
    "    1. When the p-value is less than the significance level, $\\alpha$, reject H~0~\n",
    "    1. When the p-value is greater than the significance level, $\\alpha$, fail to reject H~0~"
   ]
  },
  {
   "cell_type": "markdown",
   "id": "8d356b61-8c68-4bbd-8d15-e23b759fa478",
   "metadata": {},
   "source": [
    "---"
   ]
  },
  {
   "cell_type": "markdown",
   "id": "196cfabf-f11f-49cd-82e6-11542d1a8179",
   "metadata": {},
   "source": [
    "**EXAMPLES**"
   ]
  },
  {
   "cell_type": "markdown",
   "id": "c5572070-76dc-4573-bbcb-f4d32e80e363",
   "metadata": {},
   "source": [
    "- Are the observed proportions of jurors from each race similar to the expected proportion of jurors?  The following counts come from a random sample of jurors.\n",
    "\n",
    "![](pictures/hy_test_prop_chi_data.jpg)"
   ]
  },
  {
   "cell_type": "code",
   "execution_count": 63,
   "id": "bc0fb4df-683a-4fcc-a1ab-2648897aec54",
   "metadata": {},
   "outputs": [
    {
     "name": "stdout",
     "output_type": "stream",
     "text": [
      "Null hypothesis: observed counts and expected counts are similar because the observed counts are the result of a random sample of the population. Any differences occur because of sampling variability.\n",
      "I.e. the proportion of jurors of different races should be similar to the proportion of registered voters of different races. \n",
      "Alternative hypothesis: observed counts are NOT similar to the expected counts because observed counts are NOT the result of a random sample of the population.\n",
      "       race  observed  expected\n",
      "0     white       205    198.00\n",
      "1     black        26     19.25\n",
      "2  hispanic        25     33.00\n",
      "3     other        19     24.75\n",
      "Significance level is 0.05. Degrees of freedom is 2.  Observed counts and expeceted proportions are seen in df_juror.\n",
      "There is random sampling.  We assume that the sample is less than 10% of population. Each subject only contributes to one cell of the table.  There are more than 5 expected counts in each \"cell\" of the table, so the population size is large enough.\n",
      "Our chi-square is 5.889610389610387.  Our p-value is 0.11710619130850633.\n",
      "Our p-value, 0.11711, is higher than our significance level, 0.05, so we do NOT reject the null hypothesis.\n"
     ]
    }
   ],
   "source": [
    "# 1. State hypotheses\n",
    "print(\n",
    "    'Null hypothesis: observed counts and expected counts are similar because the observed counts are the '\n",
    "    'result of a random sample of the population. Any differences occur because of sampling variability.\\n'\n",
    "    'I.e. the proportion of jurors of different races should be similar to the proportion of registered '\n",
    "    'voters of different races. \\nAlternative hypothesis: observed counts are NOT similar to the expected '\n",
    "    'counts because observed counts are NOT the result of a random sample of the population.'\n",
    ")\n",
    "\n",
    "# 2. Identify variables\n",
    "a = 0.05\n",
    "k = 3\n",
    "dof = k - 1\n",
    "df_juror = pd.DataFrame(\n",
    "    {\"race\":[\"white\", \"black\", \"hispanic\", \"other\"],\n",
    "     \"observed\":[205, 26, 25, 19],\n",
    "     \"expected\":[0.72*275, 0.07*275, 0.12*275, 0.09*275]}  # Convert proportions to frequency\n",
    ")\n",
    "print(df_juror)\n",
    "    \n",
    "print(\n",
    "    f\"Significance level is {a}. Degrees of freedom is {dof}.  Observed counts and expeceted proportions \"\n",
    "    f\"are seen in df_juror.\"\n",
    ")\n",
    "\n",
    "# 3. Verify conditions for independence and sample size/skew\n",
    "print(\n",
    "    'There is random sampling.  We assume that the sample is less than 10% of population. '\n",
    "    'Each subject only contributes to one cell of the table.  There are more than 5 expected counts '\n",
    "    'in each \"cell\" of the table, so the population size is large enough.'\n",
    ")\n",
    "\n",
    "# 4. Calculate chi-square and p-value\n",
    "chisq, p_value = stats.chisquare(f_obs=df_juror[\"observed\"], f_exp=df_juror[\"expected\"])\n",
    "\n",
    "print(f\"Our chi-square is {chisq}.  Our p-value is {p_value}.\")\n",
    "\n",
    "# 5. Interpret results\n",
    "print(\n",
    "    f\"Our p-value, {round(p_value, 5)}, is higher than our significance level, \"\n",
    "    f\"{a}, so we do NOT reject the null hypothesis.\"\n",
    ")"
   ]
  },
  {
   "cell_type": "markdown",
   "id": "65f26fab-0be7-4878-b891-95603bdb9a53",
   "metadata": {},
   "source": [
    "---"
   ]
  },
  {
   "cell_type": "markdown",
   "id": "313a6453-81d6-4853-848f-dc26126cd067",
   "metadata": {
    "tags": []
   },
   "source": [
    "### Chi-Square Independence\n",
    "- Independence with chi-square test is used to decide if two categorical variables are independent or dependent.  Sometimes called **Pearson's chi-square test**.\n",
    "- A one-way table describes counts for each outcome in a single categorical variable.  A two-way table (contingency table) describes counts for combinations of outcomes for two categorical variables.  Data for chi-square independence tests are stored in a contingency table.\n",
    "- Chi-square tests for independence are usually used with two categorical variables when at least one categorical variable has more than two levels.  However,  if both variables only had two levels the chi-square test would be equal to the square of the Z-test statistic from the Z-test of two independent proportions.  I.e. the chi-square test will give the same results as the difference of two proportions Z-test.\n",
    "- Chi-square is NOT used to construct confidence intervals, since there is NOT a single parameter to estimate\n",
    "- Chi-square is used in hypothesis testing"
   ]
  },
  {
   "cell_type": "markdown",
   "id": "6e310d57-6c23-43d0-9577-328c82f4dad7",
   "metadata": {},
   "source": [
    "---"
   ]
  },
  {
   "cell_type": "markdown",
   "id": "14eb8dee-cb11-4e4c-b90d-c48890420604",
   "metadata": {},
   "source": [
    "#### Conditions and Chi-Square\n",
    "\n",
    "![](pictures/hy_test_prop_chi__indie.jpg)\n",
    "\n",
    "- Testing for independence uses a different formula for the degrees of freedom compared to GOF as seen in the above image\n",
    "- Expected counts are the frequency counts if variables were independent.  These are calculated by looking at a contingency table and using the formula:\n",
    "\n",
    "$E = \\frac{\\text{row total X column total}}{\\text{grand total}}$"
   ]
  },
  {
   "cell_type": "markdown",
   "id": "8d89bb08-25bd-4d4a-8a4a-147c5246ae33",
   "metadata": {},
   "source": [
    "---"
   ]
  },
  {
   "cell_type": "markdown",
   "id": "a99ac416-2c01-498e-9fb3-768de5af122f",
   "metadata": {},
   "source": [
    "#### Hypothesis Testing"
   ]
  },
  {
   "cell_type": "markdown",
   "id": "2e231df9-d4d9-444f-b036-998ed7e1d0db",
   "metadata": {},
   "source": [
    "**Strategery for Chi-Square Independence**\n",
    "\n",
    "1. List hypotheses\n",
    "    1. Null hypothesis: variables are independent. Any differences between observed proportions and expected proportions occur because of sampling variability.\n",
    "    1. Alternative hypothesis: variables are dependent\n",
    "1. Identify significance level, observed frequency counts, expected frequency counts, and degrees of freedom.\n",
    "1. Verify conditions for independence and sample size/skew\n",
    "1. Calculate chi-square and p-value.  We'll use `stats.chi2_contingency(<CONTINGENCY_TABLE_FREQU>)`, which returns a tuple (chi-squared, p-value, dof, expected).\n",
    "1. Interpret results by comparing the p-value to significance level\n",
    "    1. When the p-value is less than the significance level, $\\alpha$, reject H~0~\n",
    "    1. When the p-value is greater than the significance level, $\\alpha$, fail to reject H~0~"
   ]
  },
  {
   "cell_type": "markdown",
   "id": "8435e278-7373-436b-9805-c63e578611ec",
   "metadata": {},
   "source": [
    "---"
   ]
  },
  {
   "cell_type": "markdown",
   "id": "e56faec2-eace-485e-9d5a-1f7f584eb3c1",
   "metadata": {},
   "source": [
    "**EXAMPLES**\n",
    "\n",
    "- A psychology/sociology experiment tested whether the questions a buyer asked a seller led the seller to disclose known problems with the product.  Are the questions asked (general, positive, and negative) independent or associated with disclosure of problem (disclose problem and hide problem).  This table also shows the expected probabilities in blue.\n",
    "\n",
    "![](pictures/hy_test_prop_chi__indie_ex.jpg)"
   ]
  },
  {
   "cell_type": "code",
   "execution_count": 64,
   "id": "2b65002c-a9bf-4c2f-bc2d-a2ca653fbe7c",
   "metadata": {},
   "outputs": [
    {
     "name": "stdout",
     "output_type": "stream",
     "text": [
      "Null hypothesis: variables are independent. Any differences between observed proportions and expected proportions occur because of sampling variability. \n",
      "Alternative hypothesis: variables are dependent.\n",
      "The following is a contingency table of our observed values:\n",
      "                  general  positive  negative\n",
      "disclose_problem        2        23        36\n",
      "hide_problem           71        50        37\n",
      "Significance level is 0.05. Degrees of freedom is 2.\n",
      "We assume there is random assignment.  We assume that the sample is less than 10% of population. Each subject only contributes to one cell of the table.  There are more than 5 expected counts in in each \"cell\" of the table, so the population size is large enough.\n",
      "Chi-squared is: 40.12803486200457.\n",
      "p_value is: 1.9333387023231875e-09.\n",
      "Degrees of freedom is: 2.\n",
      "Expected frequencies are: [[20.33333333 20.33333333 20.33333333]\n",
      " [52.66666667 52.66666667 52.66666667]].\n",
      "Our p-value, 1.9333387023231875e-09, is lower than our significance level, 0.05, so we reject the null hypothesis.  There is sufficient evidence to conclude that the variables are likely dependent.\n"
     ]
    }
   ],
   "source": [
    "# 1. State hypotheses\n",
    "print(\n",
    "    'Null hypothesis: variables are independent. Any differences between observed proportions and expected '\n",
    "    'proportions occur because of sampling variability. \\nAlternative hypothesis: variables are dependent.'\n",
    ")\n",
    "\n",
    "# 2. Identify variables\n",
    "a = 0.05\n",
    "dof = (2 -1) * (3 - 1)\n",
    "\n",
    "\n",
    "my_dict = {\n",
    "    \"general\":[2, 71], \n",
    "    \"positive\":[23, 50],\n",
    "    \"negative\":[36, 37]\n",
    "}\n",
    "\n",
    "my_index = ['disclose_problem', 'hide_problem']\n",
    "\n",
    "\n",
    "df_experiment = pd.DataFrame(my_dict, my_index)\n",
    "print('The following is a contingency table of our observed values:')\n",
    "print(df_experiment)\n",
    "\n",
    "print(f\"Significance level is {a}. Degrees of freedom is {dof}.\")\n",
    "\n",
    "# 3. Verify conditions for independence and sample size/skew\n",
    "print(\n",
    "    'We assume there is random assignment.  We assume that the sample is less than 10% of population. '\n",
    "    'Each subject only contributes to one cell of the table.  There are more than 5 expected counts '\n",
    "    'in in each \"cell\" of the table, so the population size is large enough.'\n",
    ")\n",
    "\n",
    "# 4. Calculate chi-square and p-value\n",
    "(chi_squared, p_value, dof, expected) = stats.chi2_contingency(df_experiment)\n",
    "print(f\"Chi-squared is: {chi_squared}.\")\n",
    "print(f\"p_value is: {p_value}.\")\n",
    "print(f\"Degrees of freedom is: {dof}.\")\n",
    "print(f\"Expected frequencies are: {expected}.\")\n",
    "\n",
    "\n",
    "# 5. Interpret results\n",
    "print(\n",
    "    f'Our p-value, {p_value}, is lower than our significance level, {a}, '\n",
    "    'so we reject the null hypothesis.  There is sufficient evidence to conclude that the variables '\n",
    "    'are likely dependent.'\n",
    ")"
   ]
  },
  {
   "cell_type": "markdown",
   "id": "bae0cc03-7de0-4550-b717-90485cabbb49",
   "metadata": {},
   "source": [
    "---"
   ]
  },
  {
   "cell_type": "markdown",
   "id": "44fa2bce-70de-46ff-bbd7-f5287ac77c29",
   "metadata": {},
   "source": [
    "### One Mean"
   ]
  },
  {
   "cell_type": "markdown",
   "id": "a82ba4a9-0bd7-46d0-b618-07aca03f0b29",
   "metadata": {},
   "source": [
    "---"
   ]
  },
  {
   "cell_type": "markdown",
   "id": "9a4d2701-1dd9-47e8-b4e8-ab35268e37f3",
   "metadata": {},
   "source": [
    "#### Conditions and SE\n",
    "- Two conditions are required to apply the CLT for one mean\n",
    "    1. Independence.  Same as in proportions.\n",
    "    1. Sample Size/Skew.  We do not actually know the population distribution.  We only know the sample distribution.\n",
    "        1. When the sample size is *less than 30*, check to make sure there are *no outliers* in the sample distribution.  Then, it is okay to assume the sample came from a normal population.  As we saw in the *Normal Probability Plot* section, a small sample from a population will appear non-normal regardless of the population distribution.\n",
    "        1. When the sample size is *greater than 30* check to make sure there are *no extreme outliers*.  Then it is okay to assume the sample came from a normal distribution.\n",
    "\n",
    "- Conditions are also seen below:\n",
    "\n",
    "![](pictures/clt_mean.jpg)\n",
    "\n",
    "- The image shows $\\sigma$ is crossed out in favor of $s$.  If the population standard deviation is unknown (almost always), then we approximate $\\sigma$ with the sample standard deviation, $s$.\n",
    "- Using $s$ is imperfect.  To help correct for this we use a different probability density distribution called the t-distribution."
   ]
  },
  {
   "cell_type": "markdown",
   "id": "5115a804-8660-4fd0-81ca-3f78b4605c76",
   "metadata": {},
   "source": [
    "---"
   ]
  },
  {
   "cell_type": "markdown",
   "id": "ddfc89a4-0e76-4346-95ca-cb6aa003049c",
   "metadata": {},
   "source": [
    "#### t-distribution\n",
    "\n",
    "- **t-distribution**---also called the **Student t-distribution**. Probability density curve using the **T-score**. The T-score is also called the T-statistic or T-value.  Compared to the normal distribution, the t-distribution has thicker tails, meaning observations are more likely to fall more than 2 standard deviations away from the mean. Like the standard normal distribution, it is always centered at 0.\n",
    "\n",
    "![](pictures/hy_test_mean_t.jpg)\n",
    "\n",
    "- Like the chi-square distribution, the t-distribution has a single parameter, degrees of freedom (dof)\n",
    "- $dof = n - 1$\n",
    "- As dof increases, the t-distribution more closely resembles the normal distribution.  When dof is >= 30, the t-distribution and normal distribution are very similar.\n",
    "\n",
    "![](pictures/hy_test_mean_t_2.jpg)\n",
    "\n",
    "- Though the t-distribution and normal distribution are very similar above a sample size of 30, we tend to stick to the t-distribution when using means for inference"
   ]
  },
  {
   "cell_type": "markdown",
   "id": "105b443a-d41e-4463-85a8-56d9c75a3590",
   "metadata": {},
   "source": [
    "---"
   ]
  },
  {
   "cell_type": "markdown",
   "id": "5f4afda9-3ec5-4478-8545-abf981199d49",
   "metadata": {},
   "source": [
    "#### Confidence Intervals\n",
    "- The confidence interval for one sample mean is calculated in a very similar way as the CI for a one proportion.  Changes include:\n",
    "    1. SE formula\n",
    "    1. Replace the Z critical value with the T critical value\n",
    "- **`T*`**---in the context of confidence intervals T-scores are sometimes called \"T critical values\".  Only the positive T-score is used in the ME formula.\n",
    "- To find the positive T-score for a given confidence level:\n",
    "\n",
    "```python\n",
    "def get_t_critical(confidence_level, dof):\n",
    "    import scipy.stats as stats\n",
    "    t_object = stats.norm(dof)  # Create t distribution\n",
    "    upper_percentile = (1 - (confidence_level / 100)) / 2  # Calculate upper tail percentile\n",
    "    return t_object.isf(upper_percentile)  # Returns t critical (quantile)\n",
    "```"
   ]
  },
  {
   "cell_type": "code",
   "execution_count": 65,
   "id": "726a4576-494e-4737-830f-9aefeef72ed8",
   "metadata": {},
   "outputs": [
    {
     "name": "stdout",
     "output_type": "stream",
     "text": [
      "Confidence level: 90, Degrees of Freedom 1, t critical value: 6.314\n",
      "Confidence level: 90, Degrees of Freedom 2, t critical value: 2.92\n",
      "Confidence level: 90, Degrees of Freedom 3, t critical value: 2.353\n",
      "Confidence level: 95, Degrees of Freedom 1, t critical value: 12.706\n",
      "Confidence level: 95, Degrees of Freedom 2, t critical value: 4.303\n",
      "Confidence level: 95, Degrees of Freedom 3, t critical value: 3.182\n",
      "Confidence level: 99, Degrees of Freedom 1, t critical value: 63.657\n",
      "Confidence level: 99, Degrees of Freedom 2, t critical value: 9.925\n",
      "Confidence level: 99, Degrees of Freedom 3, t critical value: 5.841\n"
     ]
    }
   ],
   "source": [
    "def get_t_critical(confidence_level, dof):\n",
    "    import scipy.stats as stats\n",
    "    t_object = stats.t(dof)  # Create t distribution\n",
    "    upper_percentile = (1 - (confidence_level / 100)) / 2  # Calculate upper tail percentile\n",
    "    return t_object.isf(upper_percentile)  # Returns t critical (quantile)\n",
    "\n",
    "for confidence_level in [90, 95, 99]:\n",
    "    for dof in [1,2,3]:\n",
    "        t_critical = get_t_critical(confidence_level, dof)\n",
    "        print(f'Confidence level: {confidence_level}, Degrees of Freedom {dof}, '\n",
    "              f't critical value: {round(t_critical, 3)}'\n",
    "        )"
   ]
  },
  {
   "cell_type": "markdown",
   "id": "8a569173-88d3-4204-acec-92f5f573b0a1",
   "metadata": {},
   "source": [
    "**Strategery of One Sample Mean CI**\n",
    "\n",
    "1. Identify sample mean, standard deviation, sample size, and degrees of freedom\n",
    "1. Verify conditions for independence and sample size/skew\n",
    "1. Calculate SE, using $s$ in place of $\\sigma$\n",
    "1. Calculate T critical value for desired CL using degrees of freedom\n",
    "1. Calculate margin of error\n",
    "1. Calculate confidence interval\n",
    "1. Interpret results"
   ]
  },
  {
   "cell_type": "markdown",
   "id": "4fb80697-6c1b-4907-a22f-4adb716c80c3",
   "metadata": {},
   "source": [
    "---"
   ]
  },
  {
   "cell_type": "markdown",
   "id": "90aae8b2-54b3-454a-b33f-82408dc8f4e2",
   "metadata": {},
   "source": [
    "**EXAMPLES**"
   ]
  },
  {
   "cell_type": "markdown",
   "id": "cc3dcf04-aaed-464b-8db6-ef268ddf6d6f",
   "metadata": {},
   "source": [
    "- Find the 95% confidence interval for the mercury level in Risso's dolphins.  Sample size of 19, sample mean of 4.4 ug/wet gram,  and sample standard deviation of 2.3.  Random samples were taken.  Minimum value of 1.7, maximum of 9.2."
   ]
  },
  {
   "cell_type": "code",
   "execution_count": 66,
   "id": "447c6765-dc26-49c0-889f-fd53bb94bf81",
   "metadata": {},
   "outputs": [
    {
     "name": "stdout",
     "output_type": "stream",
     "text": [
      "The sample mean is 4.4, the sample standard deviation is 2.3, the sample size is 19, and degrees of freedom is 18.\n",
      "Sampling was random.  We assume sample was less than 10% of population. The sample size is less than 30, but it appears that there are no outliers.  We say this because the min was only 1.1739 sd away from the mean and the max was only 2.09 sd away.\n",
      "The standard error is 0.5277\n",
      "The T critical value is 2.1009\n",
      "We are 95% confident that the true population mean is between 3.2914 and 5.5086.\n"
     ]
    }
   ],
   "source": [
    "# 1. Identify variables\n",
    "x_hat = 4.4\n",
    "sd = 2.3\n",
    "n = 19\n",
    "dof = n - 1\n",
    "\n",
    "print(\n",
    "    f'The sample mean is {x_hat}, the sample standard deviation is {sd}, the sample size is {n}, '\n",
    "    f'and degrees of freedom is {dof}.'\n",
    ")\n",
    "\n",
    "# 2. Check conditions for independence and sample size/skew\n",
    "print(\n",
    "    f'Sampling was random.  We assume sample was less than 10% of population. The sample size is less than 30, '\n",
    "    f'but it appears that there are no outliers.  We say this because the min was only {round((4.4 - 1.7)/2.3, 4)} '\n",
    "    f'sd away from the mean and the max was only {round((9.2 - 4.4)/2.3, 2)} sd away.'\n",
    ")\n",
    "\n",
    "# 3. Calculate SE\n",
    "se = sd / sqrt(n)\n",
    "print(f\"The standard error is {round(se, 4)}\")\n",
    "\n",
    "# 4. Calculate T critical value\n",
    "t_critical = get_t_critical(95, dof)\n",
    "print(f\"The T critical value is {round(t_critical, 4)}\")\n",
    "\n",
    "# 5. Calculate margin of error\n",
    "me = se * t_critical\n",
    "\n",
    "# 6. Calculate confidence interval\n",
    "lower_int = x_hat - me\n",
    "upper_int = x_hat + me\n",
    "\n",
    "# 7. Interpret results\n",
    "print(\n",
    "    f'We are 95% confident that the true population mean is between {round(lower_int, 4)} '\n",
    "    f'and {round(upper_int, 4)}.'\n",
    ")"
   ]
  },
  {
   "cell_type": "markdown",
   "id": "d9c351c2-80a7-4921-bed0-801e43831f21",
   "metadata": {},
   "source": [
    "---"
   ]
  },
  {
   "cell_type": "markdown",
   "id": "aaaca5ed-25a5-4c1d-858b-c8ae33a2adae",
   "metadata": {},
   "source": [
    "#### Hypothesis Testing\n",
    "- The hypothesis test for a one mean is performed very similarly to one proportion.  Changes include:\n",
    "    1. SE formula\n",
    "    1. Replace Z-score with T-score"
   ]
  },
  {
   "cell_type": "markdown",
   "id": "7028bd0c-476f-4251-b2cd-b9fb670aa266",
   "metadata": {},
   "source": [
    "**Strategery for One Mean Two-Sided Hypothesis Test**\n",
    "\n",
    "1. State hypotheses\n",
    "1. Identify significance level, sample mean, sample standard deviation, sample size, and degrees of freedom\n",
    "1. Verify conditions for independence and sample size/skew\n",
    "1. Calculate SE, using sample standard deviation in place of $\\sigma$\n",
    "1. Calculate T-score using the formula.  It is also super helpful to draw a picture to understand the next step!!!\n",
    "1. Calculate p-value\n",
    "1. Interpret results by comparing the p-value to significance level\n",
    "    1. When the p-value is less than the significance level, $\\alpha$, reject H~0~\n",
    "    1. When the p-value is greater than the significance level, $\\alpha$, fail to reject H~0~"
   ]
  },
  {
   "cell_type": "markdown",
   "id": "225e9f8d-80be-4694-892f-4358b4201b92",
   "metadata": {},
   "source": [
    "---"
   ]
  },
  {
   "cell_type": "markdown",
   "id": "9d220918-d37f-4994-be7d-34bc0ced2d21",
   "metadata": {},
   "source": [
    "**EXAMPLES**"
   ]
  },
  {
   "cell_type": "markdown",
   "id": "50864247-3901-43a1-971d-69ceffc09846",
   "metadata": {},
   "source": [
    "- Runners in a race in 2006 averaged 93.29 minutes.  At a 2017 race a sample was taken of 100 random participants.  The sample average time was 97.32 and sample standard deviation was 16.98 minutes. Is the average of the participants getting faster or slower over the years?"
   ]
  },
  {
   "cell_type": "code",
   "execution_count": 67,
   "id": "10d39400-0f27-49a5-88fe-b9e44e13a671",
   "metadata": {},
   "outputs": [
    {
     "name": "stdout",
     "output_type": "stream",
     "text": [
      "Null hypothesis: p = 93.29. Population mean from 2017 equals population mean from 2006, 93.29 minutes.\n",
      "Alternative hypothesis: p != 93.29. Population mean from 2017 does not equal population mean from 2006, 93.29 minutes.\n",
      "The significance level is 0.05, the sample mean is 97.32, the sample standard deviation is 16.98, and the sample size is 100.  The degrees of freedom is 99.\n",
      "There is random samping.  We assume that the sample is less than 10% of population. The sample size is over 30 and based on a histogram of the data (not included here), we can say there are no extreme outliers in the sample data.\n",
      "Our standard error is 1.698\n",
      "Our T-score is 2.3734\n",
      "Our p-value is 0.0196.  If the null hypothesis were true, there would be a 1.9557% chance  of getting a value at least as extreme as our sample statistic.\n",
      "Because our p-value, 0.0196, is less than our significance level, 0.05, we reject our null hypothesis in favor of the alternative hypothesis.\n"
     ]
    }
   ],
   "source": [
    "#1 . State hypotheses\n",
    "x_not = 93.29\n",
    "print(\n",
    "    f'Null hypothesis: p = {x_not}. Population mean from 2017 equals population mean from 2006, {x_not} minutes.\\n'\n",
    "    f'Alternative hypothesis: p != {93.29}. '\n",
    "    f'Population mean from 2017 does not equal population mean from 2006, {x_not} minutes.'\n",
    ")\n",
    "\n",
    "# 2. Identify variables\n",
    "a = 0.05\n",
    "x_hat = 97.32\n",
    "sd = 16.98\n",
    "n = 100\n",
    "dof = n - 1\n",
    "print(\n",
    "    f'The significance level is {a}, the sample mean is {x_hat}, the sample standard deviation is {sd}, '\n",
    "    f'and the sample size is {n}.  The degrees of freedom is {dof}.'\n",
    ")\n",
    "\n",
    "# 3. Check conditions for independence and sample size/skew\n",
    "print(\n",
    "    'There is random samping.  We assume that the sample is less than 10% of population. '\n",
    "    'The sample size is over 30 and based on a histogram of the data (not included here), we can say there '\n",
    "    'are no extreme outliers in the sample data.'\n",
    ")\n",
    "\n",
    "# 4. Calculate SE\n",
    "se = sd / sqrt(n)\n",
    "print(f'Our standard error is {round(se, 4)}')\n",
    "\n",
    "# 5. Calculate T-score\n",
    "t_score = (x_hat - x_not) / se\n",
    "print(f'Our T-score is {round(t_score, 4)}')\n",
    "\n",
    "# 6. Calculate p-value\n",
    "t_object = stats.t(dof)  # Create t distribution\n",
    " # Use SF instead of CDF because T-Score is positive.  Gives 1 tail proportion then double for p-value.\n",
    "p_value = t_object.sf(t_score) * 2\n",
    "\n",
    "print(\n",
    "    f'Our p-value is {round(p_value, 4)}.  If the null hypothesis were true, there would be a '\n",
    "    f'{round(p_value * 100, 4)}% chance  of getting a value at least as extreme as our sample statistic.'\n",
    ")\n",
    "\n",
    "# 7. Interpret results\n",
    "print(\n",
    "    f'Because our p-value, {round(p_value, 4)}, is less than our significance level, {a}, we reject our '\n",
    "    'null hypothesis in favor of the alternative hypothesis.'\n",
    ")"
   ]
  },
  {
   "cell_type": "markdown",
   "id": "73f34d0a-2c27-406f-aa21-03b42c672bb3",
   "metadata": {},
   "source": [
    "---"
   ]
  },
  {
   "cell_type": "markdown",
   "id": "0104251d-144f-43e2-802c-04a3facc4134",
   "metadata": {},
   "source": [
    "### Paired Means\n",
    "- Paired data uses two sets of observations where each observation has a a special correspondence or connection with exactly one observation in the other data set.  Because of this connection, the data is **dependent**.\n",
    "  - E.g. patients had their blood pressure measured in the year 2000 and the year 2010. Since they are the same patients and the same measurement is being taken, the data is paired.\n",
    "  - E.g. temperature was recorded at 200 sample sites in the year 2000 and the year 2010. Since they are the same samples sites and  the same measurement is being taken, the data is paired.\n",
    "- Unlike one mean, we take the difference of paired observations.  This difference is then treated like a single observation.  It is used to construct the sample mean and sample standard deviation.  Our sample size is the number of differences (the number of pairs).\n",
    "- Paired data uses the t-distribution"
   ]
  },
  {
   "cell_type": "markdown",
   "id": "3b9d64f0-3ac9-4b7a-9ca4-4cc0e4daaf7f",
   "metadata": {},
   "source": [
    "---"
   ]
  },
  {
   "cell_type": "markdown",
   "id": "6da0b481-4aa8-413c-9369-67100c72559d",
   "metadata": {},
   "source": [
    "#### Conditions and SE\n",
    "- Conditions are the same as one mean, except for the part about dependence.  Paired t-tests are one of the few statistical tests that use dependent data instead of IID data.\n",
    "- Once we have calculated the sample mean difference of our paired values, SE is calculated the same as one mean"
   ]
  },
  {
   "cell_type": "markdown",
   "id": "bcfc608a-61d1-4ca0-85a6-3ccb4ce1aba5",
   "metadata": {},
   "source": [
    "---"
   ]
  },
  {
   "cell_type": "markdown",
   "id": "7e5c3b1b-81d6-4559-acae-753712b106cf",
   "metadata": {},
   "source": [
    "#### Confidence Intervals\n",
    "- Once we have calculated the sample mean difference of our paired values, confidence intervals are calculated the same way as one mean"
   ]
  },
  {
   "cell_type": "markdown",
   "id": "9ef33914-71f8-4553-8f68-042ff1b2ed0b",
   "metadata": {},
   "source": [
    "---"
   ]
  },
  {
   "cell_type": "markdown",
   "id": "2e7dc631-ac28-4224-a5ca-8bef56e230c0",
   "metadata": {},
   "source": [
    "**EXAMPLES**"
   ]
  },
  {
   "cell_type": "markdown",
   "id": "2469517a-bc23-43e9-afd7-0eb444912bbb",
   "metadata": {},
   "source": [
    "- Calculate a 95% confidence interval.  The following image shows the paired data sample statistics:\n",
    "\n",
    "![](pictures/hy_test_mean_paired_ex.jpg)"
   ]
  },
  {
   "cell_type": "code",
   "execution_count": 68,
   "id": "060020db-1514-4e8e-8f7d-798ca9b0eb1f",
   "metadata": {},
   "outputs": [
    {
     "name": "stdout",
     "output_type": "stream",
     "text": [
      "The sample mean diff is 3.58, the sample standard deviation diff is 13.42, the sample size diff is 68, and degrees of freedom is 67.\n",
      "Sampling was random.  We assume sample was less than 10% of population.  The sample size is over 30. We can see from a histogram of the data (not shown here) that there are no extreme outliers.\n",
      "The standard error is 1.6274\n",
      "The T critical value is 1.996\n",
      "We are 95% confident that the true population mean difference between paired values is between 0.3317 and 6.8283.\n"
     ]
    }
   ],
   "source": [
    "# 1. Identify variables\n",
    "x_hat = 3.58\n",
    "sd = 13.42\n",
    "n = 68\n",
    "dof = n - 1\n",
    "\n",
    "print(\n",
    "    f'The sample mean diff is {x_hat}, the sample standard deviation diff is {sd}, the sample size '\n",
    "    f'diff is {n}, and degrees of freedom is {dof}.'\n",
    ")\n",
    "\n",
    "# 2. Check conditions for independence and sample size/skew\n",
    "print(\n",
    "    'Sampling was random.  We assume sample was less than 10% of population.  The sample size is over 30. '\n",
    "    'We can see from a histogram of the data (not shown here) that there are no extreme outliers.'\n",
    ")\n",
    "\n",
    "# 3. Calculate SE\n",
    "se = sd / sqrt(n)\n",
    "print(f\"The standard error is {round(se, 4)}\")\n",
    "\n",
    "# 4. Calculate T critical value\n",
    "t_critical = get_t_critical(95, dof)\n",
    "print(f\"The T critical value is {round(t_critical, 4)}\")\n",
    "\n",
    "# 5. Calculate margin of error\n",
    "me = se * t_critical\n",
    "\n",
    "# 6. Calculate confidence interval\n",
    "lower_int = x_hat - me\n",
    "upper_int = x_hat + me\n",
    "\n",
    "# 7. Interpret results\n",
    "print(\n",
    "    f'We are 95% confident that the true population mean difference between paired values is between '\n",
    "    f'{round(lower_int, 4)} and {round(upper_int, 4)}.'\n",
    ")"
   ]
  },
  {
   "cell_type": "markdown",
   "id": "f2eade5c-f509-403e-970a-da455fe836ef",
   "metadata": {},
   "source": [
    "---"
   ]
  },
  {
   "cell_type": "markdown",
   "id": "d653b080-341f-43cd-809c-b26a29d69047",
   "metadata": {
    "tags": []
   },
   "source": [
    "#### Hypothesis Testing\n",
    "- Once we have calculated the sample mean difference between paired values, hypothesis testing is done almost exactly the same as one mean.  A change is:\n",
    "  - The hypothesized population mean difference between paired values is 0"
   ]
  },
  {
   "cell_type": "markdown",
   "id": "1d0a31a3-cff2-4def-bb86-694bc2ecca2a",
   "metadata": {},
   "source": [
    "---"
   ]
  },
  {
   "cell_type": "markdown",
   "id": "b06fb55e-221b-460f-955d-47a5687e42ec",
   "metadata": {},
   "source": [
    "**EXAMPLES**"
   ]
  },
  {
   "cell_type": "markdown",
   "id": "c477a296-18b6-4279-a53c-d9d6ba2571c4",
   "metadata": {},
   "source": [
    "- Is the population mean difference between paired values 0?\n",
    "\n",
    "![](pictures/hy_test_mean_paired_ex.jpg)"
   ]
  },
  {
   "cell_type": "code",
   "execution_count": 69,
   "id": "f3f56bd6-dacc-4cb0-96e2-61500d291197",
   "metadata": {},
   "outputs": [
    {
     "name": "stdout",
     "output_type": "stream",
     "text": [
      "Null hypothesis: diff = 0. Population mean difference between paired values is 0.\n",
      "Alternative hypothesis: diff != 0. Population mean difference between paired values is not 0\n",
      "The significance level is 0.05, the sample mean diff is 3.58, the sample standard deviation diff is 13.42, and the sample size diff is 68.  Degrees of freedom is 67.\n",
      "Sampling was random.  We assume sample was less than 10% of population.  The sample size is over 30. We can see from a histogram of the data (not shown here) that there are no extreme outliers.\n",
      "Our standard error is 1.6274\n",
      "Our T-score is 2.1998\n",
      "Our p-value is 0.0313.  If the null hypothesis were true, there would be a 3.1274% chance  of getting a value at least as extreme as our observed sample statistic.\n",
      "Because our p-value, 0.0313, is less than our significance level, 0.05, we reject our null hypothesis in favor of the alternative hypothesis.\n"
     ]
    }
   ],
   "source": [
    "# 1. State hypotheses\n",
    "x_not = 0\n",
    "print(\n",
    "    f'Null hypothesis: diff = {x_not}. Population mean difference between paired values is {x_not}.\\n'\n",
    "    f'Alternative hypothesis: diff != {x_not}. Population mean difference between paired values is not {x_not}'\n",
    ")\n",
    "\n",
    "# 2. Identify variables\n",
    "a = 0.05\n",
    "x_hat = 3.58\n",
    "sd = 13.42\n",
    "n = 68\n",
    "dof = n - 1\n",
    "print(\n",
    "    f'The significance level is {a}, the sample mean diff is {x_hat}, the sample standard deviation diff is {sd}, '\n",
    "    f'and the sample size diff is {n}.  Degrees of freedom is {dof}.'\n",
    ")\n",
    "\n",
    "# 3. Check conditions for independence and sample size/skew\n",
    "print(\n",
    "    'Sampling was random.  We assume sample was less than 10% of population.  The sample size is over 30. '\n",
    "    'We can see from a histogram of the data (not shown here) that there are no extreme outliers.'\n",
    ")\n",
    "\n",
    "# 4. Calculate SE\n",
    "se = sd / sqrt(n)\n",
    "print(f'Our standard error is {round(se, 4)}')\n",
    "\n",
    "# 5. Calculate T-score\n",
    "t_score = (x_hat - x_not) / se\n",
    "print(f'Our T-score is {round(t_score, 4)}')\n",
    "\n",
    "#6. Calculate p-value\n",
    "t_object = stats.t(dof)  # Create t distribution\n",
    " # Use SF instead of CDF because T-Score is positive.  Gives 1 tail proportion then double for p-value.\n",
    "p_value = t_object.sf(t_score) * 2\n",
    "\n",
    "print(\n",
    "    f'Our p-value is {round(p_value, 4)}.  If the null hypothesis were true, there would be a '\n",
    "    f'{round(p_value * 100, 4)}% chance  of getting a value at least as extreme as our observed sample statistic.'\n",
    ")\n",
    "\n",
    "# 7. Interpret results\n",
    "print(\n",
    "    f'Because our p-value, {round(p_value, 4)}, is less than our significance level, {a}, '\n",
    "    'we reject our null hypothesis in favor of the alternative hypothesis.'\n",
    ")"
   ]
  },
  {
   "cell_type": "markdown",
   "id": "751c4dcf-5b6f-4a8b-a1bf-e6bf1874224d",
   "metadata": {},
   "source": [
    "---"
   ]
  },
  {
   "cell_type": "markdown",
   "id": "6f5e7253-0ead-4c88-9c46-cd11ed67d8c9",
   "metadata": {},
   "source": [
    "### Difference of Two Means\n",
    "- Difference of two independent means uses two numerical variables\n",
    "- Difference of two means uses the t-distribution"
   ]
  },
  {
   "cell_type": "markdown",
   "id": "1338eea0-7024-4ee2-bdd6-2490cf32c4af",
   "metadata": {},
   "source": [
    "---"
   ]
  },
  {
   "cell_type": "markdown",
   "id": "3c4c84d1-38f0-4b72-929c-06ce57c293d7",
   "metadata": {},
   "source": [
    "#### Conditions and SE\n",
    "- The following image show the conditions that must be met to compare two independent means.  Notice there is now a condition regarding independence between groups and that it is less clear how big our samples size needs to be.\n",
    "\n",
    "![](pictures/hy_test_mean_diff_conditions.jpg)\n",
    "\n",
    "- The following image shows the formula to calculate the standard error (SE), the formula to estimate the degrees of freedom, and the formula to calculate a confidence interval:\n",
    "\n",
    "![](pictures/hy_test_mean_diff_se.jpg)"
   ]
  },
  {
   "cell_type": "markdown",
   "id": "5efe10fa-c81b-433e-8d9d-8b4ad2c8a43c",
   "metadata": {},
   "source": [
    "---"
   ]
  },
  {
   "cell_type": "markdown",
   "id": "765b3723-d669-42e0-b6cc-f914bfb1414f",
   "metadata": {},
   "source": [
    "#### Confidence Intervals\n",
    "- Calculating the CI for difference of means is similar to one mean. Changes include:\n",
    "    1. Point estimate is difference of two means\n",
    "    1. SE formula\n",
    "    1. Use the same formula for dof, use it for both samples, and choose the smaller dof.  This method for dof is a conservative estimate and other more exact formulas may be found.  It is done because other formulas are more complicated (which is not a problem if using statistical software)."
   ]
  },
  {
   "cell_type": "markdown",
   "id": "c909d2c7-89b6-4004-9ed9-e58cf93fb60a",
   "metadata": {},
   "source": [
    "---"
   ]
  },
  {
   "cell_type": "markdown",
   "id": "cb2b9f67-32e5-4cb1-a2fb-62e2c60503c1",
   "metadata": {},
   "source": [
    "**EXAMPLES**"
   ]
  },
  {
   "cell_type": "markdown",
   "id": "144fc867-be84-46c5-b4f7-565b380fb473",
   "metadata": {},
   "source": [
    "- Given the following information, find a 95% confidence interval for the difference of the population means\n",
    "\n",
    "![](pictures/hy_test_mean_diff_ex.jpg)"
   ]
  },
  {
   "cell_type": "code",
   "execution_count": 70,
   "id": "1ad0a3cc-a4a9-46fb-8c10-ec68e996b17b",
   "metadata": {},
   "outputs": [
    {
     "name": "stdout",
     "output_type": "stream",
     "text": [
      "The sample mean for the ESC is 3.5 and the sample mean for the control is -4.33. The sample sd for the ESC is 5.17 and the sample sd for the control is 2.76. The sample size for both is 9, and the degrees of freedom is 8.\n",
      "There was random assignment into treatment groups.  We assume that the samples were less than 10% of thepopulations. The two groups are independent of each other. We can see from histograms of the data (not shown here) that there are no clear outliers.\n",
      "The standard error is 1.9535\n",
      "The T critical value is 2.306\n",
      "We are 95% confident that the true difference between population means is between 3.3252 and 12.3348.  Because we wrote ESC first and the control second, and our numbers are positive, we can say we are 95% confident the ESC has between 3.3252 and 12.3348 more pumping capacity than the control. These numbers are percents.\n"
     ]
    }
   ],
   "source": [
    "#1. Identify variables\n",
    "x_hat_1 = 3.50\n",
    "x_hat_2 = -4.33\n",
    "diff_x_hats = x_hat_1 - x_hat_2\n",
    "sd_1 = 5.17\n",
    "sd_2 = 2.76\n",
    "n_1 = 9\n",
    "n_2 = 9\n",
    "# Choose the smaller degrees of freedom between two samples\n",
    "# Here it is the same\n",
    "dof = n_1 - 1\n",
    "\n",
    "print(\n",
    "    f'The sample mean for the ESC is {x_hat_1} and the sample mean for the control is {x_hat_2}. '\n",
    "    f'The sample sd for the ESC is {sd_1} and the sample sd for the control is {sd_2}. '\n",
    "    f'The sample size for both is {n_1}, and the degrees of freedom is {dof}.'\n",
    ")\n",
    "\n",
    "# 2. Check conditions for independence and sample size/skew\n",
    "print(\n",
    "    'There was random assignment into treatment groups.  We assume that the samples were less than 10% of the'\n",
    "    'populations. The two groups are independent of each other. We can see from histograms of the data '\n",
    "    '(not shown here) that there are no clear outliers.'\n",
    ")\n",
    "\n",
    "# 3. Calculate SE\n",
    "se = sqrt(sd_1**2/n_1 + sd_2**2/n_2)\n",
    "print(f\"The standard error is {round(se, 4)}\")\n",
    "\n",
    "# 4. Calculate T critical value\n",
    "t_critical = get_t_critical(95, dof)\n",
    "print(f\"The T critical value is {round(t_critical, 4)}\")\n",
    "\n",
    "# 5. Calculate margin of error\n",
    "me = se * t_critical\n",
    "\n",
    "# 6. Calculate confidence interval\n",
    "lower_int = diff_x_hats - me\n",
    "upper_int = diff_x_hats + me\n",
    "\n",
    "# 7. Interpret results\n",
    "print(\n",
    "    f'We are 95% confident that the true difference between population means is between '\n",
    "    f'{round(lower_int, 4)} and {round(upper_int, 4)}.  Because we wrote ESC first and the control second, '\n",
    "    f'and our numbers are positive, we can say we are 95% confident the ESC has between '\n",
    "    f'{round(lower_int, 4)} and {round(upper_int, 4)} more pumping capacity than the control. '\n",
    "    f'These numbers are percents.'\n",
    ")"
   ]
  },
  {
   "cell_type": "markdown",
   "id": "799ca58d-e90b-4ac6-ba4e-f4f30120d600",
   "metadata": {},
   "source": [
    "---"
   ]
  },
  {
   "cell_type": "markdown",
   "id": "07ad9b00-7637-4534-befa-e25a7a53ea70",
   "metadata": {},
   "source": [
    "#### Hypothesis Testing\n",
    "- Conducting a hypothesis test for difference of means is similar to one mean. Changes include:\n",
    "    1. Hypothesized null value is difference of 0\n",
    "    1. SE formula\n",
    "    1. Use the same formula for dof, use it for both samples, and choose the smaller dof.  This method for dof is an estimate and other more exact formulas may be found.  It is done because other formulas are more complicated (which is not really a problem if using statistical software)."
   ]
  },
  {
   "cell_type": "markdown",
   "id": "f344c1cc-1a50-4404-a2ce-17f21d42ec90",
   "metadata": {},
   "source": [
    "---"
   ]
  },
  {
   "cell_type": "markdown",
   "id": "e79a7d50-2b37-4275-9962-dd86c959a36b",
   "metadata": {},
   "source": [
    "**EXAMPLES**"
   ]
  },
  {
   "cell_type": "markdown",
   "id": "dcdc7e2b-fa64-4131-bab6-2f59f03d8e3f",
   "metadata": {},
   "source": [
    "- Given the following information conduct a hypothesis test with a significance level of 0.05\n",
    "\n",
    "![](pictures/hy_test_mean_diff_ex_2.jpg)"
   ]
  },
  {
   "cell_type": "code",
   "execution_count": 71,
   "id": "51fae31b-b15a-4d71-8182-7a7dede1779b",
   "metadata": {},
   "outputs": [
    {
     "name": "stdout",
     "output_type": "stream",
     "text": [
      "Null hypothesis: mu A - mu B = 0.  There is no difference between population means.\n",
      "Alternative hypothesis: mu A - mu B != 0.  There is a difference between population means.\n",
      "Our significance level is 0.05.  The sample mean for A is 79.4 and the sample mean for B is 74.1. Differences of samples means is 5.3. The sample sd for A is 14 and the sample sd for B is 20.  The sample size for A is 30 and the sample size for B is 27. The degrees of freedom is 26.\n",
      "There was random assignment.  We assume the sample size is less than 10% of the population. There is independence between groups.  The sample size is around 30.  We can see from the min and max that there are no extreme outliers.\n",
      "Our standard error is 4.6204\n",
      "Our T-score is 1.1471\n",
      "Our p-value is 0.2618.  If the null hypothesis were true, there would be a 26.1793% chance  of getting a value at least as extreme as our observed sample statistic.\n",
      "Because our p-value, 0.2618, is greater than our significance level, 0.05, we do NOT reject our null hypothesis.\n"
     ]
    }
   ],
   "source": [
    "# 1. State hypotheses\n",
    "x_diff_not = 0\n",
    "print(\n",
    "    f'Null hypothesis: mu A - mu B = {x_diff_not}.  There is no difference between population means.\\n'\n",
    "    f'Alternative hypothesis: mu A - mu B != {x_diff_not}.  There is a difference between population means.'\n",
    ")\n",
    "\n",
    "# 2. Identify variables\n",
    "a = 0.05\n",
    "x_hat_1 = 79.4\n",
    "x_hat_2 = 74.1\n",
    "diff_x_hats = x_hat_1 - x_hat_2\n",
    "sd_1 = 14\n",
    "sd_2 = 20\n",
    "n_1 = 30\n",
    "n_2 = 27\n",
    "# Choose the smaller degrees of freedom between two samples\n",
    "dof = n_2 - 1\n",
    "\n",
    "print(\n",
    "    f'Our significance level is {a}.  The sample mean for A is {x_hat_1} and the sample mean for B is {x_hat_2}. '\n",
    "    f'Differences of samples means is {round(diff_x_hats, 4)}. The sample sd for A is {sd_1} and the sample sd '\n",
    "    f'for B is {sd_2}.  The sample size for A is {n_1} and the sample size for B is {n_2}. '\n",
    "    f'The degrees of freedom is {dof}.'\n",
    ")\n",
    "\n",
    "# 3. Check conditions for independence and sample size/skew\n",
    "print(\n",
    "    'There was random assignment.  We assume the sample size is less than 10% of the population. '\n",
    "    'There is independence between groups.  The sample size is around 30.  We can see from the min and max '\n",
    "    'that there are no extreme outliers.'\n",
    ")\n",
    "\n",
    "# 4. Calculate SE\n",
    "se = sqrt(sd_1**2/n_1 + sd_2**2/n_2)\n",
    "print(f'Our standard error is {round(se, 4)}')\n",
    "\n",
    "# 5. Calculate T-score\n",
    "t_score = ((x_hat_1 - x_hat_2) - x_diff_not) / se\n",
    "print(f'Our T-score is {round(t_score, 4)}')\n",
    "\n",
    "# 6. Calculate p-value\n",
    "t_object = stats.t(dof)\n",
    "p_value = t_object.sf(t_score) * 2\n",
    "print(\n",
    "    f'Our p-value is {round(p_value, 4)}.  If the null hypothesis were true, there would be a '\n",
    "    f'{round(p_value * 100, 4)}% chance  of getting a value at least as extreme as our observed sample statistic.'\n",
    ")\n",
    "\n",
    "# 7 Interpret results\n",
    "print(\n",
    "    f'Because our p-value, {round(p_value, 4)}, is greater than our significance level, {a}, '\n",
    "    f'we do NOT reject our null hypothesis.'\n",
    ")"
   ]
  },
  {
   "cell_type": "markdown",
   "id": "e749d6a5-2b1d-4c09-ac30-1e8ca02e8840",
   "metadata": {},
   "source": [
    "---"
   ]
  },
  {
   "cell_type": "markdown",
   "id": "7791fbf2-82a2-4b59-a850-299c16013eb5",
   "metadata": {},
   "source": [
    "#### Pooled Standard Deviation\n",
    "- When two populations have standard  deviations so similar that they can treated as identical a pooled standard deviation can be used\n",
    "- Using the pooled standard deviation makes the CI and hypothesis test more accurate\n",
    "- Rarely used because we have to first know about our populations in advance and they must have the same $\\sigma$\n",
    "- We will not show the formulas nor give any examples"
   ]
  },
  {
   "cell_type": "markdown",
   "id": "c2dbfd5d-0e4a-4308-b4c2-fb03cfd47636",
   "metadata": {},
   "source": [
    "---"
   ]
  },
  {
   "cell_type": "markdown",
   "id": "cb106c51-3017-4519-b125-91db035d5dff",
   "metadata": {
    "tags": []
   },
   "source": [
    "### Many Means with ANOVA\n",
    "- **ANOVA**---analysis of variance is a statistical method that is used to determine, by simultaneously considering many groups at once, if the variability in the sample means is so large that it seems unlikely to be from chance alone\n",
    "- **One-way ANOVA**--three or more means (numerical variable and categorical variable with three of more levels).  Data stored in a one-way table.\n",
    "    - If the there are only two groups, returns same p-value as difference of two means t-test, and t^2 = F.  However, we could not calculate a confidence interval with ANOVA so a a difference of two means t-test is preferred in this case.\n",
    "- **-Two-way ANOVA**--four or more means (numerical variable and two categorical variables each with 2 or more levels).  Data stored in a two-way table.\n",
    "- ANOVA is NOT used in confidence intervals, since there is not a single parameter to estimate\n",
    "- ANOVA is used in hypothesis testing\n",
    "- The hypotheses are:\n",
    "    1. H~0~: Population group means are same across all groups\n",
    "    1. H~A~: At least one pair of population group means is different\n",
    "- ANOVA itself can not tell which pair of means is different\n",
    "- ANOVA works by comparing the variance between groups and variance within groups\n",
    "\n",
    "1. Variance *between* groups increases ability to identify differences between group means and is measured by three statistics:\n",
    "    i. **SSG**---sum of squares between groups\n",
    "    i. $dof_G = k - 1$, where k is the number of groups\n",
    "    i. **MSG**---mean square between groups.  MSG = SSG/dof~G~\n",
    "1. Variance *within* groups decreases ability to identify differences between group means.  It is measured by:\n",
    "    i. **SSE**---sum of squares error\n",
    "    i. $dof_E = n - k$, where k is the number of groups\n",
    "    i. **MSE**---mean square error.  MSE = SSE/dof~E~\n",
    "- **SST**---Sum of Squares Total = SSG + SSE.\n",
    "- All ANOVA statistics are calculated with statistical software\n",
    "- The following table summarizes the various stats.  Note that they use different letters than the textbook.  They use \"B\" instead of \"G\" for between groups.  They use \"W\" instead of \"E\" for within groups.  They use \"g\" instead of \"k\" for number of groups.\n",
    "\n",
    "![](pictures/hy_test_mean_ANOVA_stats.jpg)\n",
    "\n",
    "- We will talk about one-way ANOVA here but there is also two-way ANOVA, ANCOVA, MANOVA, etc.\n",
    "- There are also three \"types\" of ANOVA that all calculate the variance differently.  If the groups are \"balanced\" (same number of observations in each group), then the type does not matter.  If groups are \"unbalanced\" then we have to choose the correct function for the type.\n",
    "- We'll cross these bridges if we ever come to them"
   ]
  },
  {
   "cell_type": "markdown",
   "id": "1496555a-2304-4a27-9d2f-0b44eb4a5798",
   "metadata": {},
   "source": [
    "---"
   ]
  },
  {
   "cell_type": "markdown",
   "id": "bcb1a4e5-ceea-4518-933c-c1779c95fd3c",
   "metadata": {},
   "source": [
    "#### Conditions\n",
    "- To use ANOVA certain conditions must be met:\n",
    "\n",
    "![](pictures/hy_test_mean_ANOVA_conditions.jpg)\n",
    "\n",
    "- Histograms and normal probability plots can be created to test for normality within each group\n",
    "- Standard deviation and box plots can be used to test that groups have roughly equal variability\n",
    "- Different ANOVA tests having different conditions\n"
   ]
  },
  {
   "cell_type": "markdown",
   "id": "9d6e4b67-7973-45bf-b838-032400c7b6f4",
   "metadata": {},
   "source": [
    "---"
   ]
  },
  {
   "cell_type": "markdown",
   "id": "a4765583-9812-436d-984c-230ba5418b60",
   "metadata": {},
   "source": [
    "#### F-distribution\n",
    "$\\text{F-statistic} = \\frac{MSG}{MSE}$\n",
    "\n",
    "- The F-statistic is a test statistic similar to the Z-score, T-score, and chi-square\n",
    "- **F-distribution**---distribution of F-statistics. Has two parameters, $dof_G$ and $dof_E$.  Like a chi-square distribution the F-statistic is always positive.  Because of this, it only uses the upper tail.\n",
    "\n",
    "![](pictures/hy_test_mean_ANOVA_F.jpg)\n",
    "\n",
    "- A p-value can be computed from the F-statistic using an F-distribution\n",
    "- This is used to reject or not reject the null hypothesis, just like any other test\n",
    "- It has a slightly different definition for ANOVA\n",
    "- **p-value**---probability of at least as large a ratio between the \"between\" and \"within\" group variabilities if in fact the means of all groups are equal"
   ]
  },
  {
   "cell_type": "markdown",
   "id": "bc189a4a-1f3f-45fd-bd74-3f4f0da97e47",
   "metadata": {},
   "source": [
    "---"
   ]
  },
  {
   "cell_type": "markdown",
   "id": "d5c8d4d7-34c4-403f-ba2a-f7151c8249d7",
   "metadata": {},
   "source": [
    "#### Multiple Comparisons\n",
    "- If the null hypothesis is rejected using ANOVA it tells us that at least one pair of group means differs. To tell which group(s) differ, we compare each possible pair of groups.\n",
    "- When doing multiple comparisons, we use a slightly modified difference of two means T-test.  Three changes include:\n",
    "    1. SE.  This is found at the bottom of the ANOVA table that is generated by statistical software when doing the ANOVA test.  It can be manually calculated by using the formula:\n",
    "![](pictures/hy_test_mean_ANOVA_SE.jpg)\n",
    "    1.  Dof is also different, as seen above\n",
    "    1. **Bonferroni correction** for alpha.  This is done because alpha is the probability of type 1 error.  The more comparisons we make, the more likely we are to make a type 1 error. The Bonferroni correction reduces alpha and the probability of type 1 error. \n",
    "![](pictures/hy_test_mean_ANOVA_Bon.jpg)\n",
    "- It is possible to reject H~0~ with ANOVA, but find no differences with multiple comparisons.  This does not invalidate ANOVA.  It only means we have not been able to successfully identify which specific groups differ in their means.\n",
    "- Manually performing multiple t-tests could be a pain.  There are various functions that perform this task for us.\n",
    "- **Tukey Honest Significant Different Test (Tukey HSD)**---function that can do multiple comparisons all at once"
   ]
  },
  {
   "cell_type": "markdown",
   "id": "3b36288b-982a-4572-9ad9-92b41408e76e",
   "metadata": {},
   "source": [
    "---"
   ]
  },
  {
   "cell_type": "markdown",
   "id": "ea858bdc-08e4-4176-8246-0ee40800b0d7",
   "metadata": {
    "tags": []
   },
   "source": [
    "# Linear Regression"
   ]
  },
  {
   "cell_type": "markdown",
   "id": "2a5c9026-2f40-4e5a-81e0-f38e2ffb432e",
   "metadata": {},
   "source": [
    "---"
   ]
  },
  {
   "cell_type": "markdown",
   "id": "442fb5ec-0da1-4c89-bddf-ff6f5957cce5",
   "metadata": {
    "tags": []
   },
   "source": [
    "## Introduction\n",
    "- **Regression**---the modeling of two or more variables in order to:\n",
    "    1. Describe past relationships\n",
    "    1. Predict future values\n",
    "- \"Regression\" refers to finding the model that is the \"best fit\" for the data.  The term \"regression\" does not really mean anything mathematically and is more of a historical quirk. \n",
    "- The words *model* and *function* can be used interchangeably\n",
    "- **Function**--equation where 1 or more input(s), x, has only one output, y.  Functions pass vertical line test.\n",
    "- **x**--often, there is a variable(s) whose values are already known or can be easily measured.  We call this variable x.  Sometimes x affects another variable, so we call x the **independent/predictor/explanatory/exogenous/regressor/covariate** variable.\n",
    "- **y**--often, there is a variable whose values are hard to directly measure and/or are important to predict, and we want to know why the values change.  We call this variable y.  If the value of y depends on any other variable it is called a **dependent/response/outcome/endogenous** variable.\n",
    "- Two important big picture concepts to keep in mind during regression modeling are:\n",
    "    1. Regression models are built with sample data or population data.  When sample data is used, frequentist or Bayesian inference helps us understand the likelihood that the model made from sample data is the same as the model that would be made from population data.  Sampling must follow the best practices outlined in the the *Statistical Studies* section and those touched on at the beginning of the *Frequentist Inference* section.\n",
    "    1. For both sample and population data, the concepts of causation vs correlation introduced in the *Statistical Studies* section are relevant.  While we will be predicting y from x, we often can NOT say that a change in y is *caused* by a change in x.  We often can say that the change in y is *correlated* with a change in x.  We could only determine causation if our data comes from an experimental study with random assignment into treatment groups.  Even if we can NOT determine causation, regression modeling is still be very helpful for predictions."
   ]
  },
  {
   "cell_type": "markdown",
   "id": "d39a0ded-2986-4a12-8d77-de1c3d8661c3",
   "metadata": {},
   "source": [
    "---"
   ]
  },
  {
   "cell_type": "markdown",
   "id": "47865f9a-b516-4143-a62e-7a0f6c9703fa",
   "metadata": {},
   "source": [
    "## Types of Regression\n",
    "-  **Linear Regression**---\"linear\" refers to two concepts in regression: \n",
    "    1. \"Linear\" may refer to the shape of the regression line/model.  If a regression line is a straight line (not curved) we would call it linear.\n",
    "    1. \"Linear\" may refer to the form of the equation where we add (+) terms on in a linear fashion (this is a simplification).  This is why some curved lines created by polynomials and logistic regression can be called \"linear\" regression.  \n",
    "- There are many types of regression.  It is broadly divided based upon whether the response variable is a continuous variable or a categorical variable.  \n",
    "- If continuous, regression models are lines that use line slope and y-intercept.  The Latin alphabet is used for sample statistics and the Greek alphabet is used for population parameters.\n",
    "\n",
    "Term | Sample | Population\n",
    "--- | --- | ---\n",
    "y-intercept | $b_0$ | $\\beta_0$\n",
    "slope | $b_1$ | $\\beta_1$\n",
    "\n",
    "1. Continuous Response Variable\n",
    "    1. **Simple Linear Regression**\n",
    "        1. Response = 1 continuous (continuous numerical variable)\n",
    "        1. Predictor = 1 continuous\n",
    "        1. Function: $y = \\beta_0 + \\beta_1x_1 + \\epsilon$.  This is the same as $y = mx + b$, but $\\beta_0$ is the y-intercept and $\\beta_1$ is the slope.  The epsilon is an error term.\n",
    "        1. Forms a 2D straight line because there are 2 variables (x and y)\n",
    "    1. **Multiple (Linear) Regression**---*multiple* refers to there being multiple *predictor* variables.  Silly.\n",
    "        1. Response = 1 continuous\n",
    "        1. Predictor = 2 or more, numerical or binomial categorical\n",
    "        1. Function: $y = \\beta_0 + \\beta_1x_1 + \\beta_2x_2 ... + \\beta_nx_n$\n",
    "        1. Forms a 3D or more D straight line because there are 3 or more variables.  The exception to the add 1 variable add 1 dimension rule is that categorical predictor variables don't add extra dimensions...but I digress.\n",
    "    1. **Simple Polynomial Regression**---same as polynomials in algebra.  If order (highest exponent) is 1 then it is the same thing as simple linear regression.  If order is 2 it is quadratic.  If order is 3 then it is cubic.  No special names for orders > 3.\n",
    "        1. Response = 1 continuous\n",
    "        1. Predictor = 1 continuous?\n",
    "        1. $y = \\beta_0 + \\beta_1x_1^1 + \\beta_2x_1^2 ... + \\beta_nx_1^n$ \n",
    "        1. Forms a 2D curved line (curvilinear) because there are 2 variables (x and y)\n",
    "1. Categorical Response Variable---**Logistic Regression**.  Models the probability of a success of an event (Bernoulli variable).\n",
    "    1. **Binomial Logistic Regression**\n",
    "        1. Response = 1 binomial categorical (Bernoulli variable)\n",
    "        1. Predictor = 1 or more categorical or numerical variables\n",
    "    1. **Nominal Logistic Regression**\n",
    "        1. Response = 1 nominal categorical with 3 or more categories\n",
    "        1. Predictor = 1 or more categorical or numerical variables\n",
    "    1. **Ordinal Logistic Regression**\n",
    "        1. Response = 1 ordered categorical variable with 3 or more categories\n",
    "        1. Predictor = 1 or more categorical or numerical variables\n",
    "\n",
    "- Moving forward, when we say \"*linear*\", we will be referring to a straight lines formed by simple linear regression and multiple linear regression\n",
    "- We'll cover concepts involved in simple and multiple linear regression"
   ]
  },
  {
   "cell_type": "markdown",
   "id": "fe37d80b-46ef-4f80-bb6c-dfb76d467871",
   "metadata": {},
   "source": [
    "---"
   ]
  },
  {
   "cell_type": "markdown",
   "id": "db05dcfb-a7ab-4b6e-a02c-6b8228e315c4",
   "metadata": {},
   "source": [
    "## Correlation\n",
    "- The term \"correlation\" has a different definition in linear regression then it does when we are talking about correlation vs causation\n",
    "- How well a *linear* regression line fits the data can be measured by correlation\n",
    "- **Correlation**---value between -1 and 1 describes the strength of the *linear* relationship between variables.  Values closer to -1 or 1 show a stronger linear relationship.  Positive values indicate a positive slope to the line.  Negative values indicate a negative slope to the line. Denoted with $R$.  $R$ is a bit tricky to compute so it is usually done with statistical software. Note that unit conversions (e.g. inches to centimeters) do NOT affect correlation as this number is unit-less.\n",
    "\n",
    "![](pictures/correlation.jpg)\n",
    "\n",
    "- Note that correlation only measures *linear* relationships (straight lines).  There could be a strong relationship between variables that is not a straight line and $R$ would be closer to 0.  This is shown in the following plots:\n",
    "\n",
    "![](pictures/correlation_2.jpg)\n",
    "\n",
    "- There are multiple equations that calculate correlation slightly differently:\n",
    "    1. Pearson's Correlation Coefficient\n",
    "    1. Spearman's Rank Correlation\n",
    "    1. Kendall's Rank Correlation"
   ]
  },
  {
   "cell_type": "markdown",
   "id": "8ea779d9-3bb9-4ce9-9ebb-03478c26d707",
   "metadata": {},
   "source": [
    "---"
   ]
  },
  {
   "cell_type": "markdown",
   "id": "0afbf38f-43cc-4c03-99e4-c825d5d1ce1a",
   "metadata": {},
   "source": [
    "## Residuals\n",
    "- Correlation measured the strength of linear relationships of variables.  Regardless of the correlation, how well a regression line fits the data can be measured by residuals.\n",
    "- **Residual**---left over variation in the data after accounting for the model fit\n",
    "    - $\\text{residual} = \\text{actual outcome} - \\text{predicted outcome}$\n",
    "    - $\\text{residual} = y - \\hat{y}$\n",
    "    - $e_i = y_i - \\hat{y}_i$\n",
    "- Residuals can be negative or positive\n",
    "\n",
    "![](pictures/residual_graph.png)\n",
    "\n",
    "- The average of the residuals on a line of best fit is always approximately zero.  The positives and negatives cancel each other out.\n",
    "- Residuals are in the units of the response variable and thus are affected by unit conversions\n",
    "- **Residual Plots**---after a regression line has been fit to the data and residuals have been calculated, we can create a residual plot.  The x-axis is the predictor variable and the y-axis is residuals.  For a given value of x we plot it against the residual at that x-value.  The dotted line in a residual plot is the regression line.\n",
    "- If residuals are plotted and it looks like random noise then this suggests that the model did a good job of capturing the pattern of the data points\n",
    "\n",
    "![](pictures/residual_plot.jpg)\n",
    "\n",
    "- In the above plots the left regression line does a good job.  The residual plot looks like random noise.  The middle regression line does a bad job.  The residual plot has a clear pattern.  It appears the variables do not have a linear relationship.  The right regression line does a good job.  The residual plot looks like random noise.  However, it appears the variables do not have a strong linear relationship."
   ]
  },
  {
   "cell_type": "markdown",
   "id": "0f39cd6b-f022-4c73-9ea0-07cb66e2e1d4",
   "metadata": {},
   "source": [
    "---"
   ]
  },
  {
   "cell_type": "markdown",
   "id": "ff65d003-98ad-4137-aceb-ba5d34fca0b6",
   "metadata": {},
   "source": [
    "## OLS and LAV\n",
    "- Residuals can be used as an objective measure of the \"best fitting\" regression line\n",
    "- The best fitting line has the least error as determined by the smallest sum of all the residuals\n",
    "- We can't just sum residuals as positive and negative residuals would cancel each other out\n",
    "- To get total error of a regression line we could sum the absolute value (magnitude) of residuals or we sum the square of each residual.  The latter is called **residual sum of squares (RSS)** or simply **sum of squares**.\n",
    "    1. $\\text{Sum of absolute values} = |e_1| + |e_2| + ... + |e_n|$\n",
    "    1. $\\text{Sum of squares} = e_1^2 + e_2^2 + ... + e_n^2$\n",
    "- There are two corresponding types of regression methods:\n",
    "    1. **Least Absolute Value (LAV) Regression**---called L1 regression.  Finding regression line by minimizing sum of absolute values.  Places equal weight on all error.  A robust statistic.  Actually harder to find mathematically with calculus and harder to use in hypothesis testing.  For these reasons it is less used.  \n",
    "    1. **Least Squares (LS) Regression**---called L2 regression or **ordinary least squares** (**OLS**) regression.  Finding regression line by minimizing sum of squares value.  The squaring function gives less weight to smaller residuals (think squaring numbers < 1) and more weight to large residuals.  It is said that in many applications, a residual twice as large as another residual is more than twice as bad.  Actually easier to find mathematically with calculus and easier to use with hypothesis testing.  If not explicitly stated as being something else, linear models should be assumed to be OLS regression models.\n",
    "- I think this \"more than twice as bad\" is a strange assumption to use without giving concrete examples for various fields of study.  When using LS we are essentially saying, \"I want my model to have a worse fit overall, but I want it perform better for more extreme values and outliers\".  If it were me, I would weight all error equally by default and only use squared residuals if it seemed logical for a specific application.\n",
    "- In the image below, the solid line is the LS regression line and the dotted line is the LAV regression line:\n",
    "\n",
    "![](pictures/least_squares_line.jpg)"
   ]
  },
  {
   "cell_type": "markdown",
   "id": "6cccaded-823b-459d-bb87-f0752ec53154",
   "metadata": {},
   "source": [
    "---"
   ]
  },
  {
   "cell_type": "markdown",
   "id": "1889f524-02fe-41a8-966d-8a0c32e76b11",
   "metadata": {},
   "source": [
    "## RMSE and R-squared\n",
    "- **RMSE**---root mean squared error. Standard deviation of the unexplained variance.  The average (roughly) residual (the average (roughly) distance between the actual outcome and the predicted outcome).  Same units as the response variable. Lower values of RMSE indicate better fit.\n",
    "- **MAE**---mean absolute error.  A less used, but more robust version of RMSE for use with LAV regression.  This is the average residual (not roughly).\n",
    "- **R-squared**---correlation squared.  Amount of variation  in the response variable explained by the linear model.  Between 0 and 1.  A proportion.  Values closer to 1 are better.  Like correlation on which it is based, this number is unit-less.\n",
    "- Both RMSE and R-squared tell us how well a model fits data.  If we ranked models, then both statistics would give us the same ranking order of models.  The main difference is that RMSE gives units that are the same as the response variable while R-squared gives a proportion.  R-squared is more easily interpreted than RMSE."
   ]
  },
  {
   "cell_type": "markdown",
   "id": "865b0d98-182f-4655-933b-6920fd843de2",
   "metadata": {},
   "source": [
    "---"
   ]
  },
  {
   "cell_type": "markdown",
   "id": "f84ddf9b-d0d4-431f-9237-6aaca019b0e0",
   "metadata": {},
   "source": [
    "## Simple Linear Regression\n",
    "- The line function for simple linear regression is: \n",
    "  - $y = \\beta_0 + \\beta_1x_1 + \\epsilon$ \n",
    "- The line function for simple linear regression is estimated using sample data and the formula:\n",
    "  - $\\hat{y} = b_0 + b_1x$"
   ]
  },
  {
   "cell_type": "markdown",
   "id": "a87fab33-a59d-4245-b849-fc00fdcbdc61",
   "metadata": {},
   "source": [
    "---"
   ]
  },
  {
   "cell_type": "markdown",
   "id": "0da4d1ae-e041-4a82-9462-294d96ec7c5a",
   "metadata": {
    "tags": []
   },
   "source": [
    "### Interpret\n",
    "- We can interpret the slope and y-intercept in a similar way to other slopes and y-intercepts:\n",
    "\n",
    "![](pictures/least_squares_interp.jpg)\n",
    "\n",
    "- **Slope**--\"All else held constant, for each 1 unit increase in x, we would expect y to be higher/lower on average by $b_1$.\"\n",
    "    - This assumes we are using sample data.\n",
    "- **Extrapolation**---estimating response variables using explanatory variables outside the realm of the original data on which the model is based.  Extrapolation is bad.\n",
    "    - E.g. a model has age as an explanatory variable and weight as a response variable.  Model was created with data from adults aged 18+. If we tried to use this model to predict the weight of people <18 years old it would be extrapolation.\n",
    "- **Interpolation**--estimating response variables using explanatory variables inside the realm of the original data on which the model is based.  Extrapolation is bad.\n",
    "    - E.g. if we had the same model as above, but used it to predict the weight of adults, it would be interpolation\n",
    "- We can see R-squared in the regression table results below.  The \"Estimate\" column has the y-intercept and the slope below that.  Poverty % in this example is the x variable (predictor).  Because the slope is the coefficient of x, it is labeled with the name of the x variable.\n",
    "\n",
    "![](pictures/regression_table.jpg)\n",
    "\n",
    "a) $\\hat{y} = -29.901 + 2.559x$\n",
    "\n",
    "b) The y-intercept does not have a literal meaning in this case and is just used to adjust the height of the regression line\n",
    "\n",
    "c) The slope says that for each 1% rise in poverty, there are, on average, 2.559 more annual murders per million\n",
    "\n",
    "d) The regression line accounts for 70.52% of the variance in the annual murders per million\n",
    "\n",
    "e) Correlation coefficient = $R = \\sqrt{R^2} = \\sqrt{0.7052}$"
   ]
  },
  {
   "cell_type": "markdown",
   "id": "fd590c18-a5f5-4bf5-85ec-93a1c96dcd6c",
   "metadata": {},
   "source": [
    "---"
   ]
  },
  {
   "cell_type": "markdown",
   "id": "9b6560ea-5dfc-4a8b-bc08-0c5f006aeabc",
   "metadata": {},
   "source": [
    "### Outliers\n",
    "- Outliers can have a strong influence on regression lines.  This is especially true in LS regression because of the squaring of residuals.\n",
    "- Outliers should NOT be removed, unless there is a good reason\n",
    "- **Leverage**---points that fall horizontally away from the center of the point cloud tend to pull harder on the line so we call them points with high leverage\n",
    "- **Influential Point**---point with high leverage that influences the shape of the graph a disproportionate amount.  We can see if a point is influential by fitting a regression line with and without that point.\n",
    "- The image below shows the importance of leverage on shaping regression lines:\n",
    "\n",
    "![](pictures/regression_leverage.jpg)"
   ]
  },
  {
   "cell_type": "markdown",
   "id": "9e413c95-7493-477a-880d-c5f2adf902a2",
   "metadata": {},
   "source": [
    "---"
   ]
  },
  {
   "cell_type": "markdown",
   "id": "b0cd5595-93bf-401e-8a66-79fdb23bd63f",
   "metadata": {},
   "source": [
    "### Conditions\n",
    "- Certain conditions must be met to use statistical methods and return valid results\n",
    "\n",
    "1. Linearity.  Variables must show linear relationship.\n",
    "    1. Checked using scatterplots of y vs x and residual plots\n",
    "1. Nearly normal residuals with mean 0\n",
    "    1. Checked with a histogram of residuals and/or Q-Q plot\n",
    "1. Constant variability (**homoscedasticity**). Variability of points around the regression line remains roughly constant.\n",
    "    1. Checked with residuals plot\n",
    "1. Independent observations.  Be cautious about applying regression to time series data, which are sequential observations in time.\n",
    "    1. Checked with scatterplot of residuals vs order of data collection (will reveal non-independence if data have time series structure)\n",
    "\n",
    "![](pictures/residuals_conditions.jpg)\n",
    "\n",
    "- *Note that linear models can be created using sample data or population data.  If using sample data, we need to confirm independence and sample size/skew like we do for any other inference.  We also must account for any design effects that may be present.  Otherwise we may get incorrect results.*"
   ]
  },
  {
   "cell_type": "markdown",
   "id": "cfe0b9cb-19c7-4d2f-b63e-0419cfbca796",
   "metadata": {},
   "source": [
    "---"
   ]
  },
  {
   "cell_type": "markdown",
   "id": "5bb299fa-330e-4027-9abf-e89db89759f3",
   "metadata": {},
   "source": [
    "### Transformation"
   ]
  },
  {
   "cell_type": "markdown",
   "id": "b93723da-40da-4a51-a903-6d1b7227fda2",
   "metadata": {},
   "source": [
    "- **Transformation**--apply a function to all elements of a variable.  The variable could be an explanatory or response variable.\n",
    "    - **Linear transformation**--linear transformation preserves linear relationships between variables. Therefore, the correlation between x and y would be unchanged after a linear transformation.  Addition, subtraction, multiplication, and division are examples of linear transformations.\n",
    "        - E.g. take all the elements of the dependent variable and multiply them by 2\n",
    "    - **Nonlinear transformation**--nonlinear transformation changes (increases or decreases) linear relationships between variables and, thus, changes the correlation between variables.  Reciprocals, exponential functions, square roots, and logarithms are examples of nonlinear transformations.\n",
    "        - E.g. square root all elements of the independent variable\n",
    "- Linear regression assumes a linear relationship between the response and the explanatory variable.  If this is not the case, then a line is a poor predictor of the relationship.  \n",
    "- We can try a nonlinear transformation of a variable in the hopes that the new relationship between the response and the explanatory variable becomes linear.\n",
    "\n",
    "![](pictures/untransformed.png)\n",
    "\n",
    "![](pictures/transformed.png)\n",
    "\n",
    "- *Note that transformation changes the interpretation of the model and model assumptions.  While transformations are common, some statisticians believe it is preferable to choose a non-linear model (like a polynomial model) instead of transforming variables and using a linear model.*"
   ]
  },
  {
   "cell_type": "markdown",
   "id": "4ea5b39a-f218-477c-892b-4a95b798004e",
   "metadata": {},
   "source": [
    "---"
   ]
  },
  {
   "cell_type": "markdown",
   "id": "6d1df246-d76a-407f-ad2a-64842d95915b",
   "metadata": {},
   "source": [
    "### Frequentist Inference\n",
    "- In regression, the population parameters we are mostly concerned with are:\n",
    "    1. Slopes (rarely concerned with y-intercept) of the regression model from a regression model created with population (not sample) data\n",
    "    1. Predicted y-value at an observed x-value(s) of the regression model from a regression model created with population (not sample) data\n",
    "- However, most regression models are built with sample data.  Sample data can be used to estimate these population parameters.  Frequentist inference concepts like standard error, confidence intervals, and null hypothesis testing are used to quantify the uncertainty in our population estimates."
   ]
  },
  {
   "cell_type": "markdown",
   "id": "c6944139-3795-476b-8bcb-26d2798e8305",
   "metadata": {},
   "source": [
    "---"
   ]
  },
  {
   "cell_type": "markdown",
   "id": "fef144e8-7fc4-4924-b35d-adf90591a709",
   "metadata": {},
   "source": [
    "#### Slope Confidence Interval\n",
    "- When created with sample data, slope is a sample statistic, $b_1$\n",
    "- Given one sample, we can use parametric or simulation based methods to construct a sampling distribution of sample statistics.  Most regression functions use parametric methods.  Because slope is a continuous variable, these parametric functions use the t-distribution.\n",
    "- **Slope confidence interval is also called a t-interval for the slope of the regression line**\n",
    "- Slope confidence interval is built like a one mean confidence interval.  Changes include:\n",
    "    1. $dof = n - 2$.  This is used to find the t critical value.  Degrees of freedom is n - 2 because we lose 1 dof for each parameter estimated, and in linear regression we estimate 2 parameters, $\\beta_0$ and $\\beta_1$.\n",
    "    1. $SE_{b_i}$ is not calculated, but instead found in the results table by looking in the SE column for the row with the x-variable (slope)\n",
    "- The image below shows where we can find the SE.  For runs, it is 0.02091.\n",
    "\n",
    "![](pictures/regression_slr_results.jpg)\n",
    "\n",
    "- While slope confidence interval can be calculated manually like we do for one sample means, it is often returned along with other regression results.  In the above results it is not and we  would have to calculate it manually or choose a different regression function that shows us the confidence interval.\n",
    "- The slope confidence interval is interpreted as: \"We are `<CONFIDENCE_LEVEL>`% confident that as the x-variable increases by one `<UNIT>`, the y-variable `<INCREASES OR DECREASES>` by `<LOWER_BOUND>, <UPPER_BOUND>` amount.\""
   ]
  },
  {
   "cell_type": "markdown",
   "id": "95991a80-f253-4e2b-8e5a-599148a9bf84",
   "metadata": {},
   "source": [
    "---"
   ]
  },
  {
   "cell_type": "markdown",
   "id": "1a56a52b-4230-47e8-ae7d-4e5cfa0a2c6c",
   "metadata": {},
   "source": [
    "#### Slope Hypothesis Testing\n",
    "- When created with sample data, slope is a sample statistic, $b_1$\n",
    "- The slope can be used in hypothesis testing.  It is similar to hypothesis testing with one mean.\n",
    "- Hypotheses are:\n",
    "    1. H~0~: $\\beta_1 = 0$. True slope coefficient of regression line is 0.  There is no correlation between explanatory and response variable.\n",
    "    1. H~A~: $\\beta_1 \\neq 0$. True slope coefficient of regression line $\\neq$ 0. There is a correlation between the explanatory and response variable.\n",
    "- Note that just like in other hypotheses, we use the true population parameter in hypotheses instead of the sample statistics (which we already know)\n",
    "- The p-value can actually be found within the regression results table by looking in the \"Pr(>|t|)\" column for the row with the x variable (slope).  This p-value is for a *two-sided* test with a null value of 0.\n",
    "- We may want to perform this calculation manually and not use the p-value in the table if our hypotheses are different from the ones above and/or we are using a one-sided test.\n",
    "- The image below shows a p-value for runs, which is 0.000447.\n",
    "\n",
    "![](pictures/regression_slr_results.jpg)\n",
    "\n",
    "- In this example, with an alpha of 0.05, we would reject the null hypothesis that the true slope of runs is 0 (there is no correlation between runs and team wins).  The data provide strong evidence in favor of H~A~, which states that there is a correlation between runs and team wins (this is using baseball data)."
   ]
  },
  {
   "cell_type": "markdown",
   "id": "e9cc7742-1228-446d-b1ca-b4b6066eb401",
   "metadata": {},
   "source": [
    "---"
   ]
  },
  {
   "cell_type": "markdown",
   "id": "69fe47e5-ad2d-4e05-a65f-cc33766cae2e",
   "metadata": {},
   "source": [
    "#### Variability Partitioning\n",
    "- In the hypothesis test above, we used the T-test\n",
    "- Hypothesis testing for linear regression can also be done by considering the variability in y explained by x, compared to the unexplained variability (residuals).  This is called **variability partitioning**.\n",
    "- Partitioning the variability in y into explained variability and into unexplained variability requires analysis of variance (ANOVA) and its F-test\n",
    "- In the *Comparing Many Means* section, ANOVA compares the variability between groups to the variability within groups.  If there is a lot variability between groups compared to variability within groups, than there is likely a difference in means.\n",
    "- Here, if there is a lot of variability in y explained by x, compared to unexplained variability (residuals), then there is likely a relationship between x and y\n",
    "- The following image shows an ANOVA table.  It uses the same definitions of errors, and F-statistic as before.\n",
    "  - $\\text{F-statistic} = \\frac{MSG}{MSE} = \\frac{5231.13}{59.74} = 87.56$\n",
    "\n",
    "![](pictures/regression_ANOVA.jpg)\n",
    "\n",
    "- We can also use these concepts to find R-squared in a second way.  Originally, we found it by squaring the correlation.  \n",
    "- R-squared is by definition the ratio of variation in y explained by the regression line. The following image shows both ways to compute R-squared.\n",
    "\n",
    "![](pictures/regression_ANOVA_r_square.jpg)"
   ]
  },
  {
   "cell_type": "markdown",
   "id": "76d57bc2-ac35-4197-9717-ad7b913871ac",
   "metadata": {},
   "source": [
    "---"
   ]
  },
  {
   "cell_type": "markdown",
   "id": "1265cdbe-0c46-4e1b-8ab7-b75b6ed24199",
   "metadata": {},
   "source": [
    "#### Fitted Value Intervals\n",
    "- Above we were interested in slopes.  Here, we are interested in fitted values\n",
    "- **Fitted Value**---predicted value, y-hat ($\\hat{y}$).  Predicted response value for each explanatory value ($\\hat{x}$).  This is opposed to our observed y values found in our data set.\n",
    "- A single predicted value is almost guaranteed to be wrong, like how a single estimate of the population parameter is almost always wrong.  We can improve this estimation by using:\n",
    "    1. Fitted value confidence interval\n",
    "    1. Fitted value prediction interval\n",
    "- These concepts are different:\n",
    "    - A confidence interval provides an interval around the mean of many predicted values at a single x-value\n",
    "    - A prediction interval provides an interval around a single predicted value at a single x-value\n",
    "    - Confidence intervals are narrower than prediction intervals.  This is similar to how the SE is always less than the sample standard deviation.\n",
    "    - Prediction intervals are more sensitive to violations in model diagnostics/conditions\n",
    "- The following shows a linear regression model.  Fitted values have been calculated for all values along the x-axis.   This is the dark red line.  The dashed green line is a 95% confidence interval for the mean of the the fitted values.  The dashed purple line is a 95% prediction interval for the fitted values.\n",
    "\n",
    "![](pictures/pred_interval.jpg)\n",
    "\n",
    "- **Prediction Level**--if we repeat the study of obtaining a regression data set many times, each time forming a `<PREDICTION_LEVEL>`% prediction interval at $\\hat{x}$, and wait to see what the future value of y is at $\\hat{x}$, then roughly `<PREDICTION_LEVEL>`% of the prediction intervals will contain the corresponding actual value of y.\n",
    "- **Prediction Interval**--we are `<PREDICTION_LEVEL>`% confident that the predicted value for a given explanatory value will be within the interval."
   ]
  },
  {
   "cell_type": "markdown",
   "id": "c0ddeb5d-5b86-4f68-962b-42b9e8ab0d59",
   "metadata": {},
   "source": [
    "---"
   ]
  },
  {
   "cell_type": "markdown",
   "id": "97cd00d2-f003-42a3-9460-e1cbe7e1905d",
   "metadata": {},
   "source": [
    "### SLR Example"
   ]
  },
  {
   "cell_type": "markdown",
   "id": "ac03c61c-9e67-4be5-a4e2-9f5fdfb213a4",
   "metadata": {},
   "source": [
    "- Up until now we have interpreted example graphs and tables.  Now we'll make our own using.  \n",
    "\n",
    "Code | Use\n",
    "--- | ---\n",
    "`sm.OLS.from_formula(\"<COLUMN>\" ~ \"<COLUMN>\", data=<DATA_FRAME>)` | Create OLS linear model object.  The response variable is written first and the explanatory variable come second.\n",
    "`.fit()` | OLS linear model object method.  Create regression results object.\n",
    "`.summary()` | Regression results object method.  Returns statistics for regression model results.\n",
    "`.fittedvalues` | Regression results object attribute.  Returns series with fitted values.  Fitted values retain the same index name and order as the original data frame.\n",
    "`.resid` | Regression results object attribute.  Returns series with residuals.  Fitted values retain the same index name and order as the original data frame.\n",
    "\n",
    "- **Formula**---the R function `lm()` uses \"formulas\" with the `~` symbol.  The statsmodels library uses the same parameter format as R in many places to make it easier for users to transfer between R and Python.  This \"formula\" is different from the mathematical definition of formula.  The notation `y ~ x` can be read as \"y is modeled as a function of x\".  This is an example of Wilkinson-Rogers Notation.\n",
    "- **Wilkinson-Rogers Notation**, which is a shorthand notation used to write out the structure of models.\n",
    "\n",
    "- We'll take the following steps\n",
    "    1. Acknowledge assumptions for sample data\n",
    "    1. Check linear relationship with scatterplot\n",
    "    1. Quantify strength of linear relationship with correlation\n",
    "    1. Find best fitting linear model\n",
    "    1. Check if residuals are normally distributed with histogram and Q-Q plot\n",
    "    1. Check homoscedasticity with residuals plot\n",
    "    1. Interpret results"
   ]
  },
  {
   "cell_type": "markdown",
   "id": "43148571-f370-4e1f-b4a5-efafabdfac15",
   "metadata": {},
   "source": [
    "**1. Acknowledge assumptions for sample data**\n",
    "\n",
    "- This data is sample data, not data on an entire population.  We are assuming it has been collected with best practices outlined in *Statistical Studies* section and the *Frequentist Inference* section.  In short, we assume IID data.\n",
    "- We have removed all records with null values at the beginning of this notebook.  If a confounding factor affected which records had nulls this would skew results.\n",
    "- This is not an experimental study so it can not establish causation.  It can only assess correlation."
   ]
  },
  {
   "cell_type": "code",
   "execution_count": 72,
   "id": "65fb6882-b45a-41f6-b22a-f31ff8e80039",
   "metadata": {},
   "outputs": [
    {
     "name": "stdout",
     "output_type": "stream",
     "text": [
      "Here is the sample data.  Note that there are 333 records. There were 344 records before we removed any records with null values.  This was done at the beginning of the notebook. This is why the integer indices go from 0 to 343.\n",
      "     flipper_length_mm  body_mass_g\n",
      "0                181.0       3750.0\n",
      "1                186.0       3800.0\n",
      "2                195.0       3250.0\n",
      "4                193.0       3450.0\n",
      "5                190.0       3650.0\n",
      "..                 ...          ...\n",
      "338              214.0       4925.0\n",
      "340              215.0       4850.0\n",
      "341              222.0       5750.0\n",
      "342              212.0       5200.0\n",
      "343              213.0       5400.0\n",
      "\n",
      "[333 rows x 2 columns]\n"
     ]
    }
   ],
   "source": [
    "print(\n",
    "    'Here is the sample data.  Note that there are 333 records. There were 344 records before we removed '\n",
    "    'any records with null values.  This was done at the beginning of the notebook. '\n",
    "    'This is why the integer indices go from 0 to 343.'\n",
    ")\n",
    "penguins_new = penguins[[\"flipper_length_mm\", \"body_mass_g\"]]\n",
    "print(penguins_new)"
   ]
  },
  {
   "cell_type": "markdown",
   "id": "291fb95b-3ef9-4c25-8bb2-753c1ef8e753",
   "metadata": {},
   "source": [
    "2. Check linear relationship with scatterplot\n",
    "\n",
    "- Based on the following plot, there appears to be a strong, positive, linear relationship\n",
    "- Because there is already a strong linear relationship, we decide not to try to transform any variables"
   ]
  },
  {
   "cell_type": "code",
   "execution_count": 73,
   "id": "7b700b04-27fc-4f4e-9929-182adf3585cb",
   "metadata": {},
   "outputs": [
    {
     "data": {
      "image/png": "[encoded data removed]",
      "text/plain": [
       "<Figure size 360x360 with 1 Axes>"
      ]
     },
     "metadata": {},
     "output_type": "display_data"
    }
   ],
   "source": [
    "sns.relplot(kind=\"scatter\", data=penguins_new, x=\"flipper_length_mm\", y=\"body_mass_g\")\n",
    "plt.show()"
   ]
  },
  {
   "cell_type": "markdown",
   "id": "445a0c1a-79e0-47d0-98c9-6664349c513a",
   "metadata": {},
   "source": [
    "- The plot below uses Seaborn's `regplot()` function to overlay a linear regression model on top of a scatter plot.  This is possibly (not guaranteed with reading documentation) the same linear model we will create later on.  It includes a \"95% confidence interval for that regression\".  Based on this wording and the narrowness of the light blue shading, I assume this is a 95% confidence interval for the mean of the fitted values."
   ]
  },
  {
   "cell_type": "code",
   "execution_count": 74,
   "id": "4ffde883-1d88-4213-8027-fde9e520954f",
   "metadata": {},
   "outputs": [
    {
     "data": {
      "image/png": "[encoded data removed]",
      "text/plain": [
       "<Figure size 432x288 with 1 Axes>"
      ]
     },
     "metadata": {},
     "output_type": "display_data"
    }
   ],
   "source": [
    "sns.regplot(data=penguins_new, x=\"flipper_length_mm\", y=\"body_mass_g\")\n",
    "plt.show()"
   ]
  },
  {
   "cell_type": "markdown",
   "id": "6d63cb8d-51a7-4075-9bb5-6b9157b56baa",
   "metadata": {},
   "source": [
    "**3. Quantify strength of linear relationship by finding correlation**\n",
    "\n",
    "- Based on the following statistic, we can say there is a high correlation\n",
    "- We'll also square the correlation to calculate the R-squared.  For a simple linear model it should match the R-squared returned by the simple linear model later on."
   ]
  },
  {
   "cell_type": "code",
   "execution_count": 75,
   "id": "004c775a-de3e-4efc-ae89-7262bccb3623",
   "metadata": {},
   "outputs": [
    {
     "name": "stdout",
     "output_type": "stream",
     "text": [
      "The correlation is 0.8729788985653613.\n"
     ]
    }
   ],
   "source": [
    "correlation = penguins_new[\"flipper_length_mm\"].corr(penguins_new[\"body_mass_g\"])  # method=\"pearson\" by default\n",
    "print(f'The correlation is {correlation}.')"
   ]
  },
  {
   "cell_type": "code",
   "execution_count": 76,
   "id": "55466959-03a2-4107-a3ea-be3f565a9ed9",
   "metadata": {},
   "outputs": [
    {
     "name": "stdout",
     "output_type": "stream",
     "text": [
      "The R-squared is 0.7620921573403913.\n"
     ]
    }
   ],
   "source": [
    "r_squared = correlation**2\n",
    "print(f'The R-squared is {r_squared}.')"
   ]
  },
  {
   "cell_type": "markdown",
   "id": "eba9bf0b-3b8b-4269-9e9e-0203ab8430e8",
   "metadata": {},
   "source": [
    "**4. Find best fitting OLS linear model**"
   ]
  },
  {
   "cell_type": "code",
   "execution_count": 77,
   "id": "be722a0a-772a-4869-b755-868c7c379a82",
   "metadata": {},
   "outputs": [],
   "source": [
    "model = sm.OLS.from_formula(\"body_mass_g ~ flipper_length_mm\", data=penguins_new)\n",
    "results = model.fit()"
   ]
  },
  {
   "cell_type": "markdown",
   "id": "fec537c6-2b21-4442-9e3d-a9fae3e849fb",
   "metadata": {},
   "source": [
    "**5. Check if residuals are normally distributed with histogram and Q-Q plot**\n",
    "\n",
    "- Based on the following plots, it appears that results are normally distributed"
   ]
  },
  {
   "cell_type": "code",
   "execution_count": 78,
   "id": "dbadbe99-229d-4165-a2af-666a35fc6fe0",
   "metadata": {},
   "outputs": [],
   "source": [
    "penguins_new.insert(2, \"fitted_values\", results.fittedvalues)  "
   ]
  },
  {
   "cell_type": "code",
   "execution_count": 79,
   "id": "a0a8b386-da7b-424a-a0a6-ac6e0070fe95",
   "metadata": {},
   "outputs": [],
   "source": [
    "penguins_new.insert(3, \"residuals\", results.resid)"
   ]
  },
  {
   "cell_type": "code",
   "execution_count": 80,
   "id": "c4e12805-6a6f-4ee6-becd-cc98416e7839",
   "metadata": {},
   "outputs": [
    {
     "name": "stdout",
     "output_type": "stream",
     "text": [
      "     flipper_length_mm  body_mass_g  fitted_values   residuals\n",
      "0                181.0       3750.0    3205.648453  544.351547\n",
      "1                186.0       3800.0    3456.414782  343.585218\n",
      "2                195.0       3250.0    3907.794176 -657.794176\n",
      "4                193.0       3450.0    3807.487644 -357.487644\n",
      "5                190.0       3650.0    3657.027846   -7.027846\n",
      "..                 ...          ...            ...         ...\n",
      "338              214.0       4925.0    4860.706229   64.293771\n",
      "340              215.0       4850.0    4910.859495  -60.859495\n",
      "341              222.0       5750.0    5261.932356  488.067644\n",
      "342              212.0       5200.0    4760.399697  439.600303\n",
      "343              213.0       5400.0    4810.552963  589.447037\n",
      "\n",
      "[333 rows x 4 columns]\n"
     ]
    }
   ],
   "source": [
    "print(penguins_new)"
   ]
  },
  {
   "cell_type": "code",
   "execution_count": 81,
   "id": "4520ba18-66de-476a-9f2e-9cf6d7a36007",
   "metadata": {},
   "outputs": [
    {
     "data": {
      "image/png": "[encoded data removed]",
      "text/plain": [
       "<Figure size 432x288 with 1 Axes>"
      ]
     },
     "metadata": {},
     "output_type": "display_data"
    },
    {
     "data": {
      "image/png": "[encoded data removed]",
      "text/plain": [
       "<Figure size 360x360 with 1 Axes>"
      ]
     },
     "metadata": {},
     "output_type": "display_data"
    }
   ],
   "source": [
    "sm.qqplot(penguins_new[\"residuals\"], fit=True, line=\"45\")\n",
    "sns.displot(kind=\"hist\", data=penguins_new, x=\"residuals\", bins=25, kde=True)\n",
    "plt.show()"
   ]
  },
  {
   "cell_type": "markdown",
   "id": "418cf84d-f0c2-49dc-934e-180b90baddd9",
   "metadata": {},
   "source": [
    "**6. Check homoscedasticity with residuals plot**\n",
    "\n",
    "- The distribution of the residuals appears to be fairly heteroscedastic.  There may be a trend where flipper length around the mean tends to create more negative residuals than flipper lengths closer to the minimum and maximum."
   ]
  },
  {
   "cell_type": "code",
   "execution_count": 82,
   "id": "c6e8ddf6-0534-44cf-a7e8-acd1e1a7dd6f",
   "metadata": {},
   "outputs": [
    {
     "data": {
      "image/png": "[encoded data removed]",
      "text/plain": [
       "<Figure size 360x360 with 1 Axes>"
      ]
     },
     "metadata": {},
     "output_type": "display_data"
    }
   ],
   "source": [
    "sns.relplot(kind=\"scatter\", data=penguins_new, x=\"flipper_length_mm\", y=\"residuals\")\n",
    "plt.axhline(color='red', ls='--')\n",
    "plt.show()"
   ]
  },
  {
   "cell_type": "markdown",
   "id": "2d862195-5213-4000-80f4-2b53db0bc003",
   "metadata": {},
   "source": [
    "**6. Interpret results**\n",
    "\n",
    "- We've assumed IID data, checked conditions for using linear models, and created the linear model.  Let's interpret a few statistics in context.\n",
    "- Slope\n",
    "    - Sample statistic.  For every additional mm of flipper length there is, on average, a + 50.1533 g increase in penguin mass.  \n",
    "    - Confidence interval.  We are 95% confident the slope is between 47.123 and 53.183.\n",
    "    - Hypothesis test.  The slope has a two-sided p-value of 0.00.  At an alpha of 0.05 we reject the null that the slope is 0 (no correlation between variables) in favor of the alternative.  We are confident there is a correlation between penguin mass and flipper length.\n",
    "- y-intercept of -5872.0927.  This y-intercept could be interpreted as, \"A penguin with a flipper length of zero has a body mass of -5872\". This is obviously ridiculous.  It also relies on extrapolation.  Here, the y-value has no biological meaning and simply adjusts the height of the regression line.\n",
    "- R-squared of 0.762.  This is the same as the R-squared found above.  76.2% of the variation of penguin mass is explained by the linear model (by flipper length)."
   ]
  },
  {
   "cell_type": "code",
   "execution_count": 83,
   "id": "c599021e-35de-4ecb-a9fd-0c845d640775",
   "metadata": {},
   "outputs": [
    {
     "name": "stdout",
     "output_type": "stream",
     "text": [
      "                            OLS Regression Results                            \n",
      "==============================================================================\n",
      "Dep. Variable:            body_mass_g   R-squared:                       0.762\n",
      "Model:                            OLS   Adj. R-squared:                  0.761\n",
      "Method:                 Least Squares   F-statistic:                     1060.\n",
      "Date:                Mon, 20 Dec 2021   Prob (F-statistic):          3.13e-105\n",
      "Time:                        16:58:41   Log-Likelihood:                -2461.1\n",
      "No. Observations:                 333   AIC:                             4926.\n",
      "Df Residuals:                     331   BIC:                             4934.\n",
      "Df Model:                           1                                         \n",
      "Covariance Type:            nonrobust                                         \n",
      "=====================================================================================\n",
      "                        coef    std err          t      P>|t|      [0.025      0.975]\n",
      "-------------------------------------------------------------------------------------\n",
      "Intercept         -5872.0927    310.285    -18.925      0.000   -6482.472   -5261.713\n",
      "flipper_length_mm    50.1533      1.540     32.562      0.000      47.123      53.183\n",
      "==============================================================================\n",
      "Omnibus:                        5.922   Durbin-Watson:                   2.102\n",
      "Prob(Omnibus):                  0.052   Jarque-Bera (JB):                5.876\n",
      "Skew:                           0.325   Prob(JB):                       0.0530\n",
      "Kurtosis:                       3.025   Cond. No.                     2.90e+03\n",
      "==============================================================================\n",
      "\n",
      "Notes:\n",
      "[1] Standard Errors assume that the covariance matrix of the errors is correctly specified.\n",
      "[2] The condition number is large, 2.9e+03. This might indicate that there are\n",
      "strong multicollinearity or other numerical problems.\n"
     ]
    }
   ],
   "source": [
    "results_summary = results.summary()\n",
    "print(results_summary)"
   ]
  },
  {
   "cell_type": "markdown",
   "id": "dcf24f73-c3a5-4cde-b8a5-ef2d65f48774",
   "metadata": {},
   "source": [
    "---"
   ]
  },
  {
   "cell_type": "markdown",
   "id": "db96cd70-0199-4e3a-96b3-eac66d2af346",
   "metadata": {},
   "source": [
    "## Multiple Regression\n",
    "- **Multiple (Linear) Regression**---*multiple* refers to there being multiple *predictor* variables\n",
    "- The line function for multiple linear regression is: \n",
    "  - $y = \\beta_0 + \\beta_1x_1 + \\beta_2x_2 + ... + \\beta_nx_n$\n",
    "- The line function for multiple linear regression is estimated using sample data and the formula:\n",
    "  - $\\hat{y} = b_0 + b_1x_1 + b_2x_2 +...+b_nx_n$"
   ]
  },
  {
   "cell_type": "markdown",
   "id": "53f5b5c4-11ae-494c-aeb8-889fdb0a64c0",
   "metadata": {},
   "source": [
    "---"
   ]
  },
  {
   "cell_type": "markdown",
   "id": "f08d1ac0-01d9-468a-941b-d4f29a9c05cc",
   "metadata": {
    "tags": []
   },
   "source": [
    "### Changes from SLR\n",
    "\n",
    "Multiple regression is very similar to simple linear regression. Smaller changes include:\n",
    "\n",
    "1. Conditions must be checked for each explanatory variable.\n",
    "    - Residual plots can be created for each explanatory variable. There are also other flavors of residual plots commonly used for multiple regression such as residuals vs fitted values.\n",
    "1. Slight changes to interpretation of slope and y-intercept\n",
    "    - **y-intercept**--value of y when all predictors are equal to 0, on average.\n",
    "    - **Slope**--\"*All else held constant*, for each 1 unit increase in x, we would expect y to be higher/lower on average by $b_1$\".\n",
    "1. Slight changes to confidence interval calculation and interpretation\n",
    "    1. We do so for each slope, $b_i$\n",
    "    1. We use dof = n - k - 1 to calculate the critical T-score \n",
    "    1. Slight difference in interpretation.  \"We are `<CONFIDENCE_LEVEL>`% confident that, *all else being equal*, as the x-variable increases by one `<UNIT>`, the y-variable `<INCREASES OR DECREASES>` by `<LOWER_BOUND>, <UPPER_BOUND>` amount.\"\n",
    "1. Slight changes to hypothesis testing calculation and interpretation\n",
    "    1. We do so for each slope, $b_i$\n",
    "    1. We use dof = n - k - 1\n",
    "    1. The hypotheses for a single slope are:\n",
    "        1. H~0~: $\\beta_i = 0$ *when all other variables are included in the model*\n",
    "        1. H~A~: $\\beta_i \\neq 0$ *when all other variables are included in the model*\n",
    "1. When predicting fitted values we specify all the explanatory variables as inputs\n",
    "- There are also some larger changes that we'll cover below:\n",
    "    1. Idea of model hypothesis testing\n",
    "    1. Possible inclusion of categorical variables\n",
    "    1. Model selection if we do not "
   ]
  },
  {
   "cell_type": "markdown",
   "id": "f8406cab-d24d-4332-9be7-8e7b0f3f888f",
   "metadata": {},
   "source": [
    "---"
   ]
  },
  {
   "cell_type": "markdown",
   "id": "3247e605-0ea6-49ac-991f-9850590ebdf4",
   "metadata": {
    "tags": []
   },
   "source": [
    "### Model Hypothesis Testing\n",
    "- In simple linear regression we did not look at hypothesis testing for the model on the whole.  Instead, we only looked at confidence intervals and hypotheses for the single slope.  With multiple slopes, we may want to perform hypothesis testing for the model on the whole.\n",
    "- The hypotheses are:\n",
    "    1. $H_0: \\beta_1 = \\beta_2 = ... \\beta_k = 0$. All true slopes are equal to 0.  There is no correlation between any explanatory variable and the response variable.\n",
    "    1. $H_A: \\text{at least one } \\beta_i \\neq 0$.  At least one true slope is not 0. There is correlation between at least one explanatory variable and the response variable.\n",
    "- When created with sample data, slope is a sample statistic, $b_1$\n",
    "- It is similar to hypothesis testing with 3 or more means. P-values are calculated using an F-distribution like ANOVA tests.\n",
    "- The F-test NOT yielding a significant result doesn't mean the individual variables included in the model are not good predictors of y, it just means that the combination of these variables doesn't yield a good model.\n",
    "- The F-test yielding a significant result doesn't mean the model fits the data well, it just means at least one of the slopes is non-zero.  If we find that the p-value for the F-statistic is significant, we can continue on with confidence intervals and hypothesis tests for individual slopes.\n",
    "- In the following example results table, we can see the F-statistic on the last row and the p-value at the bottom right\n",
    "\n",
    "![](pictures/regression_multiple_results.jpg)"
   ]
  },
  {
   "cell_type": "markdown",
   "id": "d6ef4157-fc7c-4c7b-a0d0-50d67e425508",
   "metadata": {},
   "source": [
    "---"
   ]
  },
  {
   "cell_type": "markdown",
   "id": "ee3d0c03-6faf-495d-8c95-42040d7e510c",
   "metadata": {},
   "source": [
    "### Categorical Variables\n",
    "- Categorical variables can be used as predictor variables\n",
    "- A categorical variable can have 2 or more levels, but we'll look at an example with only 2\n",
    "- **Indicator variable**--each level in this context is termed and \"indicator variable\"\n",
    "- A categorical variable  with 2 levels will be labeled by us as 0 or 1\n",
    "    - If x = 0, then $b_i * x_i$ is 0.  This level is not named in regression tables.  It is called the **reference level**.\n",
    "    - If x = 1, then $b_i * x_i$ is $b_i$.  This $b_i$ is combined with the y-intercept.  So when x = 1, it moves the entire line up or down.  This level is named in regression tables.\n",
    "    - Either way, the slope calculated from other continuous predictor variables is not affected.  Only the y-intercept is affected.\n",
    "- The following image shows regression results for a model with four predictor variables.  *mom_iq* and *mom_age* are continuous.  *mom_hs:yes* and *mom_work:yes* are categorical.  Presumably, *mom_hs:no* and *mom_work:no* are the reference levels.  Reference levels are not shown.  These categorical coefficients would only change the y-intercept.\n",
    "\n",
    "![](pictures/regression_multiple_results.jpg)\n",
    "\n",
    "- The following chart shows two regression lines.  The response variable is book weight and the continuous explanatory variable is book volume.  These is also a categorical predictor variable with two levels, hardcover and paperback.  The levels move the line up or down.  It is reasonable to assume that paperback and hardcover books increase in weight at the same rate as volume increase after account for the volume of the covers.  It is reasonable to assume the lines have the same slope.\n",
    "\n",
    "![](pictures/regression_categorical_interaction.jpg)\n",
    "\n",
    "- **However, it is not always reasonable to assume that lines created with different levels would have the same slope.**\n",
    "    - E.g. if our response variable was income, a continuous predictor was education, and a categorical predictor was gender with levels M and F.  As education increases income increases.  However, this rate may be lower for females than for males due to discriminatory workplace practices. The line slopes will be different for the different levels.\n",
    "- In the image below a categorical variable with two levels (0 and 1) changes the relationship (slope) between the continuous variables x and y.\n",
    "\n",
    "![](pictures/interaction_variable.png)\n",
    "\n",
    "- **Interaction variable**--additional variables added to regression model to account for unequal slopes created by reference levels.  To correctly use categorical variables in regression models one must check to see if and interaction variable is needed.\n",
    "- Lastly note that libraries that create regression models have default settings that control how they use different data types.  We may need to change our data type to ensure it is treated correctly in the model.\n",
    "    - E.g. if one of the predictor variables was month of the year and the months were written as integers, the model may treat this data as numerical instead of categorical.  In R this means converting to factor data.  In Python this may mean converting to Pandas categorical data or it may entail adjusting parameters within regression functions."
   ]
  },
  {
   "cell_type": "markdown",
   "id": "06d4bc68-4c3f-41d6-a5d2-fa46e4d38f18",
   "metadata": {},
   "source": [
    "---"
   ]
  },
  {
   "cell_type": "markdown",
   "id": "e81d4e5e-037c-4547-ae6a-40c0e08ffb6a",
   "metadata": {},
   "source": [
    "## Model Selection\n",
    "- While we have spent the most time on simple linear regression, most models have multiple predictor variables\n",
    "- **Model selection**---identifying the best model for predicting a given response variable.  Model selection involves chooses which predictor variables to include in the model and the values of the predictor variable coefficients.\n",
    "- **Full model**---the model with all possible predictor variables included\n",
    "- **Parsimonious model**---a simpler model with fewer predictor variables included\n",
    "- **Overfitting**--the more variables we add the better our model will fit the training data. However, if given new test data, this model may perform poorly.  Choosing parsimonious models reduces the chance of overfitting.   \n",
    "    - E.g. if we added enough explanatory variables to a curvilinear model we could curve it to every data point in our training data.  Perfect fit!  Unfortunately, this model would do poorly when given new test data.  \n",
    "- **Colinearity/multicolinearity**---high correlation between two predictor variables such that the two variables contribute redundant information to the model. Not good. Choosing parsimonious models reduce the chance of predictors being colinear.\n",
    "- There are different methods used to choose the \"best\" number of predictor variables and the \"best\" fitting model.  Two considerations are:\n",
    "    1. Criterion\n",
    "    1. Algorithm"
   ]
  },
  {
   "cell_type": "markdown",
   "id": "c2f3b8d7-4ddd-4d0e-8ec5-04e4e05f6a8b",
   "metadata": {},
   "source": [
    "---"
   ]
  },
  {
   "cell_type": "markdown",
   "id": "ecdc59ae-e740-4dcc-89b3-3804957ec7b2",
   "metadata": {},
   "source": [
    "### Criterion\n",
    "\n",
    "- **Criterion**---statistic of fit that measures the \"best\" model\n",
    "- The criterion chosen may be determined by the type of regression one is performing\n",
    "- There are various criterion that can be chosen, including:\n",
    "    1. p-value (not really a good measure of fit)\n",
    "    1. **Adjusted R-squared**---the standard R-squared statistic will increase with each explanatory variable added to the model, regardless of whether or not the added variable is a meaningful predictor of the response variable.  Adjusted R-squared applies a penalty for the number of predictors included in the model. Adjusted R-squared will only increase if the gains from adding the variable exceeds the penalty.  Adjusted R-squared leads to a more parsimonious model that reduces overfitting.\n",
    "    1. **AIC (Akaike Information Criterion)**--applies a penalty for each additional variable like adjusted R-squared.  $AIC = -2*ln(likelihood) + 2*k$ where k=model dof and N is number of observations.\n",
    "    1. **BIC (Bayes Information Criterion)**--applies a penalty for each additional variable like adjusted R-squared. $BIC = -2*ln(likelihood) + ln(N)*k$\n",
    "    1. And more!"
   ]
  },
  {
   "cell_type": "markdown",
   "id": "6f5fbe6c-84e5-4ae8-bac1-a281c7f42f44",
   "metadata": {},
   "source": [
    "---"
   ]
  },
  {
   "cell_type": "markdown",
   "id": "3e475bb1-44ec-4787-87e7-431b90eb8e6a",
   "metadata": {},
   "source": [
    "### Model Selection Algorithms\n",
    "\n",
    "- Model selection algorithms include:\n",
    "    1. **All Subset**---fit a separate least squares regression for each possible combination of predictors before choosing best model.  This is the simplest and is also guaranteed to find the best model fitting model as defined by the criterion.  Unfortunately, this does not work with a ton of predictors as this can become computationally intensive.  This is because the number of possible models = 2^(number of predictor variables).  E.g. 2^1 = 2...2^4 = 16...2^20 = 1,048,576.  For this reason we often must choose a different selection algorithm.  All the other algorithms employ strategies to find the best fitting model while not testing every combination.\n",
    "    1. Stepwise methods\n",
    "        1. **Forward Selection**---begins with no predictor variables and adds them in one at a time\n",
    "        1. **Backwards Elimination**---begins with full model and removes predictor variables one at a time\n",
    "        1. **Stepwise**---combination of forward selection and backwards elimination, which allows for the same predictor variable to be added or removed multiple times in the selection process\n",
    "    1. Shrinkage\n",
    "        1. Ridge Regression\n",
    "        1. LASSO\n",
    "        1. Elastic Net\n",
    "    1. Dimensional Reduction\n",
    "        1. PCA (Principal Components Analysis)\n",
    "        1. PLS (Partial Least Squares)\n",
    "    1. And many more!\n",
    "- **Model averaging**--after defining a criterion and using a model selection algorithm to find the best fitting models we can combine a few of the better fitting models.  If all models included the same explanatory variables, this could be as simple as averaging the explanatory variable coefficients.\n",
    "- Choosing the best criterion and model selection algorithm is a hot research topic.  It gets into mathematical theory and machine learning.  This is most important when we have many possible predictor variables and big data.\n",
    "- Though commonly not the best performing, we'll go over two of the oldest and simplest model selection algorithms to get an idea of how it works.  We'll cover:\n",
    "    1. Forward selection\n",
    "    1. Backwards elimination"
   ]
  },
  {
   "cell_type": "markdown",
   "id": "b940ed57-5f87-444c-9f77-6b9d33debd35",
   "metadata": {},
   "source": [
    "**Forward Selection**\n",
    "\n",
    "- The general idea behind forward-selection is to start with only one predictor/explanatory variable and add one variable at a time until the ideal model is reached.   We'll use the adjusted R-squared criterion below.\n",
    "    1. Try all possible simple linear regression models predicting y using one predictor variable at a time\n",
    "    1. Keep the model with the highest adjusted R-squared\n",
    "    1. Try all possible models adding one more explanatory variable at a time\n",
    "    1. Keep the model with the highest adjusted R-squared\n",
    "    1. Repeat until maximum possible adjusted R-squared is reached.  Stop when adding predictor variables decreases the adjusted R-squared."
   ]
  },
  {
   "cell_type": "markdown",
   "id": "2c1a604a-9f3d-4b2c-81a9-6f30037144da",
   "metadata": {},
   "source": [
    "**Backwards Elimination**\n",
    "\n",
    "- The general idea behind backward-selection is to start with the full model and eliminate one predictor/explanatory variable at a time until the ideal model is reached.  We'll use the adjusted R-squared criterion below.\n",
    "    1. Start with the full model\n",
    "    1. Try all possible models omitting one explanatory variable at a time\n",
    "    1. Keep the model with the highest adjusted R-squared\n",
    "    1. Repeat until maximum possible adjusted R-squared is reached.  Stop when removing predictor variables decreases adjusted R-squared."
   ]
  },
  {
   "cell_type": "markdown",
   "id": "6652f6fc-5ceb-4c3c-83c6-d7c8675060ab",
   "metadata": {},
   "source": [
    "---"
   ]
  },
  {
   "cell_type": "markdown",
   "id": "ac62d49d-26db-4e56-aad3-0214686f69c1",
   "metadata": {},
   "source": [
    "## Training and Testing\n",
    "\n",
    "- **Model training**--use computer algorithm to build (define) model.  For simple linear models, creation actually occurs in one step.  However, most models building occurs iteratively.  A computer algorithm tries a function, calculates error, adjusts function, calculates error, etc., until the function with the least error is found for the given data set.  The model gets better over time.\n",
    "- **Training dataset**--the dataset a computer algorithm uses to build a model.  Datasets made of observations/records/rows.\n",
    "- If we only want to describe the historical relationship between the response variable and the predictor variable we  could use all our observations in training. This would give us the most accurate model to describe our dataset.\n",
    "- However, most of the time we want to be able to predict the response variable from the explanatory variable in the future. \n",
    "- **Testing** is the statistical assessment of a models accuracy with new input data.\n",
    "- **Testing dataset**--observations set aside for testing.  These are not used in training\n",
    "- There are two rules for testing and training:\n",
    "    1. Each observation can either be used to train the model or test the accuracy of model, but NOT both\n",
    "    1. We can use an observation as many times as you like for training, but can only use it once when testing the model. As soon as we start using an observation multiple times for “testing” (after which we adjust model) we are essentially using it for “training”.\n",
    "- For these reasons often times about 60% of data goes into training, 20% goes into a query set for manual human data exploration/model tweaking, and 20% is held back for testing the model(s) generated.  This is a rough guideline and percentages vary dramatically based on dataset size."
   ]
  },
  {
   "cell_type": "markdown",
   "id": "e964e301-3a7c-4ad6-a3a0-3b4a74c6e96d",
   "metadata": {},
   "source": [
    "---"
   ]
  },
  {
   "cell_type": "markdown",
   "id": "496eadcc-ceef-4dd6-9e43-67527557edb3",
   "metadata": {},
   "source": [
    "### Coverage probability\n",
    "- **Coverage probability**--proportion of times that an interval contains the true value of interest\n",
    "- When confidence or prediction intervals are constructed, we set a confidence level.  This confidence level is theoretical coverage probability, sometimes called the \"nominal coverage probability\".\n",
    "- Steps to test models with coverage probability include:\n",
    "    1. Divide data into training dataset and testing dataset\n",
    "    1. Train model with training dataset\n",
    "    1. Calculate prediction interval\n",
    "    1. Use training dataset to calculate proportion of observed (actual) y-values that fall within the prediction interval. This is the coverage probability.  For a 95% prediction interval this should be about 0.95.\n",
    "    1. Use testing dataset with the original model to calculate coverage probability.  If it is still around the prediction level, e.g. 0.95,  our original model is performing well with the new test data.  We have avoided overfitting our model.  "
   ]
  },
  {
   "cell_type": "markdown",
   "id": "c7965354-c6a8-48b8-9250-db2338d4cce7",
   "metadata": {},
   "source": [
    "---"
   ]
  },
  {
   "cell_type": "markdown",
   "id": "d80434ef-be03-441c-8bdd-e54ee0456c01",
   "metadata": {},
   "source": [
    "# Bayesian Inference"
   ]
  },
  {
   "cell_type": "markdown",
   "id": "c850ed00-2531-4c3b-8e77-0fb6fee6aa1c",
   "metadata": {},
   "source": [
    "---"
   ]
  },
  {
   "cell_type": "markdown",
   "id": "050b497a-fb3c-4678-aa50-218a0bef2df8",
   "metadata": {},
   "source": [
    "## Introduction\n",
    "- **Inference**---randomly sample population, estimate population parameters, calculate uncertainty in population parameter estimates, and answer hypotheses.  Used when we do NOT already know population parameters.\n",
    "- **Bayesian**---school of statistical inference that defines probability as a subjective degree of belief"
   ]
  },
  {
   "cell_type": "markdown",
   "id": "ec75d84c-da5a-44e4-ac60-9efe2af4db42",
   "metadata": {},
   "source": [
    "---"
   ]
  },
  {
   "cell_type": "markdown",
   "id": "8d840442-4fc5-431a-a980-aaea561551fc",
   "metadata": {},
   "source": [
    "## Conditions\n",
    "\n",
    "- Bayesian inference relies on the same conditions as frequentist inference for study design and sample collection"
   ]
  },
  {
   "cell_type": "markdown",
   "id": "dbdf3d2b-3018-41c9-95d1-0833581612f2",
   "metadata": {},
   "source": [
    "---"
   ]
  },
  {
   "cell_type": "markdown",
   "id": "68f300fa-6475-4c65-8cf6-6f491d33e926",
   "metadata": {},
   "source": [
    "## Frequentist vs Bayesian"
   ]
  },
  {
   "cell_type": "markdown",
   "id": "d09b28a5-55ee-4182-8086-c4fe45f8a5d8",
   "metadata": {},
   "source": [
    "---"
   ]
  },
  {
   "cell_type": "markdown",
   "id": "797c406d-f3da-4a15-8805-2c8970134919",
   "metadata": {},
   "source": [
    "### Frequentist\n",
    "- Characteristics:\n",
    "    1. Construct *confidence* intervals\n",
    "    1. Uses null hypothesis, alternative hypothesis, and p-value\n",
    "    1. Interpret *confidence* intervals and p-value using concept of repeated experiments\n",
    "    1. Dominated statistical practice *during* the 20th century\n",
    "    1. Tends to be less computationally intense\n",
    "- Cons:\n",
    "    1. *Confidence* intervals NOT interpreted as probability of true population parameter being in constructed *confidence* interval\n",
    "    1. p-value NOT interpreted as the probability that a hypothesis is true.  Frequent misinterpretation of p-values.\n",
    "    1. Experiments must be fully specified before analysis\n",
    "- Pros:\n",
    "    1. *Confidence* intervals are objective and simple to calculate\n",
    "    1. All statisticians will calculate the same p-value for a given data set.  By first deciding on acceptable Type 1 and Type 2 errors researchers can decide to objectively accept or reject the null hypothesis based on the p-value.\n",
    "    1. Simpler mathematics and more commonly taught in the U.S. education system"
   ]
  },
  {
   "cell_type": "markdown",
   "id": "0e7089c2-4827-4775-8f12-0469801a764a",
   "metadata": {},
   "source": [
    "---"
   ]
  },
  {
   "cell_type": "markdown",
   "id": "f7dc921e-2c18-4337-a1ca-30ae1fc8ea0a",
   "metadata": {},
   "source": [
    "### Bayesian\n",
    "- Characteristics:\n",
    "    1. Use prior probabilities and likelihood of observed data\n",
    "    1. Construct *credible* intervals\n",
    "    1. Can have many hypotheses\n",
    "    1. Interpret *credible* intervals and hypotheses using concept of probability\n",
    "    1. Dominated statistical practice *before* the 20th century\n",
    "    1. May be computationally intense\n",
    "- Cons:\n",
    "    1. Priors are subjective.  Different statisticians will use different methods to pick priors.  This will affect posterior probabilities unless there is larger sample size.\n",
    "    1. More complicated mathematics and less commonly taught in U.S. education system\n",
    "    1. Some have a philosophical objection to assigning a probability to a hypothesis.  They argue a hypothesis should either be true or false. 1 or 0.\n",
    "- Pros:\n",
    "    1. *Credible* intervals interpreted as probability of true population parameter being in constructed *credible* interval\n",
    "    1. Posterior probabilities interpreted as probability that hypothesis is true.  This may be the most important interpretation for decision making.\n",
    "    1. As data comes in, able to update priors and in turn update posterior probabilities"
   ]
  },
  {
   "cell_type": "markdown",
   "id": "ee47ca21-9e47-4320-a2ec-f11e6813b993",
   "metadata": {},
   "source": [
    "---"
   ]
  },
  {
   "cell_type": "markdown",
   "id": "a46f1455-bbac-45b6-900c-046deb6b42db",
   "metadata": {},
   "source": [
    "## Big Picture Workflow\n",
    "- The big picture workflow is:\n",
    "    1. **Prior probability**: guess what the true population parameter is before seeing sample data.  Subjectively give guesses a probability of being correct.\n",
    "    1. **Likelihood**: calculate likelihood of observing our sample data given our guesses of the population parameter\n",
    "    1. **Posterior probability**: calculate probability of guesses being correct by combining the prior and the likelihood.\n",
    "    1. **Update**: when new data is collected, repeating previous steps\n",
    "    \n",
    "![](pictures/bayesian_statistics.png)\n",
    "\n",
    "- The Bayesian inference workflow differs depending on whether we use a discrete prior or a continuous prior.\n",
    "    1. **Discrete prior**--state multiple hypotheses which each guess the true population parameter.  Then, subjectively assign probability of hypothesis being true.  Do this for each hypothesis.  These probabilities are our prior probabilities.\n",
    "        - E.g. population parameter is proportion of country vaccinated.  H_1: population proportion = 0.3. H_2: population proportion = 0.5.  H_3: population proportion = 0.9. We subjectively assign prior probabilities as such: P(H_1) = 0.333, P(H_2) = 0.333, and P(H_3) = 0.333. I.e. before seeing data we think it is equally probable that the population proportion could be 0.3, 0.5, or 0.9.\n",
    "    1. **Continuous prior**--our single hypothesis is that the true population parameter could be any value along a number line.  Our prior is in the form of a probability density function.  The x-axis contains potential values of the population parameter and the y-axis contains probability density of those values actually being the true population parameter.  These probabilities densities are subjective.\n",
    "        - E.g. population parameter is country mean height in inches.  Our hypothesis is that is could take any value along the x-axis.  Our prior is $N(\\mu=7'10\", \\sigma=5\")$, indicating that we think it is most probable that our mean population height is 7'10\".  We do think it could be other heights as well, but as they get further from 7'10\" we think it is less probable.\n",
    "        \n",
    "- The image below shows how a continuous prior and the likelihood are combined to form a continuous posterior:\n",
    "\n",
    "![](pictures/bayesian_example.png)\n"
   ]
  },
  {
   "cell_type": "markdown",
   "id": "b3bdd853-4b55-4199-8494-3fab4e24cb62",
   "metadata": {},
   "source": [
    "---"
   ]
  },
  {
   "cell_type": "markdown",
   "id": "9b4f34d0-eb4e-4eaf-b539-46038576bc89",
   "metadata": {},
   "source": [
    "## Discrete Prior"
   ]
  },
  {
   "cell_type": "markdown",
   "id": "3db45ac7-02fa-47f8-bb93-4710bbc43957",
   "metadata": {},
   "source": [
    "---"
   ]
  },
  {
   "cell_type": "markdown",
   "id": "ede97827-fdbc-428f-8514-491502f82286",
   "metadata": {},
   "source": [
    "### Discrete Workflow\n",
    "\n",
    "1. Set hypotheses. Hypotheses are statements involving the population parameter.\n",
    "1. **Prior**---P(hypothesis).  Subjectively assign probability of hypothesis being true to each hypothesis.  Prior probabilities add up to 1. Take into account past studies and subjective opinion. We may have no clue and decide to give each hypothesis an equal probability of being true to start with.\n",
    "1. **Likelihood**---P(data|hypothesis).  Take the population parameter in a hypothesis.  Use this parameter to create a theoretical probability distribution.  Calculate the probability of observing the sample statistic.  This is the probability density, which is the height of the probability distribution at a specified value. Because the probability density at our sample statistic depends on the probability distribution created by the parameter in the hypothesis, we can define likelihood as P(data|hypothesis). Repeat for each hypothesis.\n",
    "1. **Posterior**---P(hypothesis|data).  Use Bayes's rule to calculate the probability of hypothesis being true given our observed sample data. Repeat for each hypothesis.  Posterior probabilities add up to 1.  In a nutshell, we mash together our prior and our likelihood to get a posterior.\n",
    "1. Update.  When new data is collected, repeat previous steps"
   ]
  },
  {
   "cell_type": "markdown",
   "id": "07776200-a0b3-4011-861b-eedc753b726c",
   "metadata": {},
   "source": [
    "---"
   ]
  },
  {
   "cell_type": "markdown",
   "id": "8d046b6d-5f45-4be0-bfdf-15b3faad80b9",
   "metadata": {},
   "source": [
    "### Elicitation\n",
    "- **Elicitation**---choosing a prior for hypotheses.  There are two easy rules for elicitation:\n",
    "  1.  Don't set the prior for a hypothesis to 0.  If the prior is 0, the posterior is always 0.  This means that the data have no influence on the answer we get.\n",
    "  1. Don't set the prior for a hypothesis to 1.  If the prior is 1, the posterior is always 1.  This means that the data have no influence on the answer we get."
   ]
  },
  {
   "cell_type": "markdown",
   "id": "826c8534-b221-461c-8934-939f859c8471",
   "metadata": {},
   "source": [
    "---"
   ]
  },
  {
   "cell_type": "markdown",
   "id": "20e5f581-ce69-406e-8e40-acc7be3b9dd5",
   "metadata": {},
   "source": [
    "### Bayes's Rule\n",
    "- Also called Bayes's theorem\n",
    "- In the *Probabilities* section we showed the General Multiplication Rule, Marginal Probabilities, Conditional Probabilities, and Joint Probabilities.  Bayes's rule ties these concepts together.  For a categorical variable with two discrete events, Bayes's rule can be rearranged with algebra and written in multiple ways.\n",
    "    1. $\\text{Bayes's theorem} = P(A|B) = \\frac{\\text{P(A  AND  B)}}{P(B)}$\n",
    "    1. $\\text{Bayes's theorem} = P(A|B) = \\frac{\\text{P(B|A) x P(A)}}{P(B)}$\n",
    "    1. $\\text{Bayes's theorem} = P(A|B) = \\frac{\\text{P(B|A) x P(A)}}{\\text{P(B|A) x P(A)  +  }P(B|A^c) \\text{ x }P(A^c)}$\n",
    "- We usually use the longest formula because we often don't know the P(B)\n",
    "- When we apply Bayes's rule to hypothesis testing with two discrete hypotheses:\n",
    "    - A = hypothesis = H\n",
    "    - A^c = complement hypothesis = H^c.  When there are two discrete hypotheses, the complement hypothesis is just the other hypothesis.\n",
    "    - B = data = D\n",
    "    - $P(H|D) = \\frac{P(D|H)P(H)}{P(D|H)P(H)  +  P(D|H^c)P(H^c)}$\n",
    "- Bayes rule can be used with three discrete events, event A~1~, event A~2~, and event A~3~:\n",
    "    - $\\text{Bayes's theorem} = P(A_1|B) = \\frac{P(B|A_1)P(A_1)}{P(B|A_1)P(A_1)  +  P(B|A_2)P(A_2) + P(B|A_3)P(A_3)}$\n",
    "- When we apply Bayes's rule to hypothesis testing with three discrete hypotheses:\n",
    "    - A~1~ = hypothesis~1~ = H~1~\n",
    "    - A~2~ = hypothesis~2~ = H~2~\n",
    "    - A~3~ = hypothesis~3~ = H~3~\n",
    "    - B = Data = D\n",
    "    - $\\text{Bayes's theorem} = P(H_1|B) = \\frac{{P(B|H_1)P(H_1)}}{P(B|H_1)P(H_1)  +  P(B|H_2)P(H_2) + P(B|H_3)P(H_3)}$\n",
    "- We can see how this could be adapted to four or more discrete events by adding terms in the sum in the denominator\n",
    "- For continuous hypotheses, the sum in the denominator actually gets replaced with an integral\n",
    "- Either way, the denominator is said to be a \"normalizing\" value that makes every P(H|D) between 0 and 1.  It also ensures that if we calculate P(H|D) for each hypothesis and sum the answers, then this totals 1.\n",
    "- We can now define key terms in the context of Bayes's rule:\n",
    "    1. **Prior probability**---P(A) = P(hypothesis) = P(H)\n",
    "    1. **Likelihood of the data**---P(B|A) = P(data|hypothesis) = P(D|H)\n",
    "    1. **Posterior probability**---P(A|B) = P(hypothesis|data) = P(H|D)"
   ]
  },
  {
   "cell_type": "markdown",
   "id": "f5c5889d-0340-401a-8249-3d858c9ef36d",
   "metadata": {},
   "source": [
    "---"
   ]
  },
  {
   "cell_type": "markdown",
   "id": "9a2e0d56-7383-4e50-9762-bc6aaf0206fc",
   "metadata": {},
   "source": [
    "### Frequentist Example\n",
    "- In the frequentist inference section above we noted that we could have used an \"exact\" method to create the null sampling distribution for proportions.  This is done with the binomial distribution.  The binomial distribution can use a population proportion (here we use p~0~), the number of trials (here we use sample size), and the number of successes.  By carefully selecting  the number of successes we can actually calculate the probability of getting results at least as extreme as our observed sample statistic.  This is the p-value.\n",
    "  - Note that in many binomial examples they use one-sided hypothesis tests.  This is because two-sided tests are more complicated.  Because the binomial distribution is not symmetrical, we can not just double a one-tail proportion.  There are actually a few ways to go from a one-sided to a two-sided p-value with the binomial distribution.\n",
    "- **Prompt**--We have a population of M&Ms, and in this population the percentage of yellow M&M’s is either 10% or 20%. We have been hired as a statistical consultant to decide whether the true percentage of yellow M&Ms is 10% or 20%.  \n",
    "- In frequentist inference we must set one of these as H~0~.  We'll choose H~0~ = 10%.   We know the M&M population proportion of yellow will not be less than 10%, so we'll choose a one-sided hypothesis.\n",
    "    1. H~0~: p = 10% yellow M&Ms\n",
    "    1. H~A~: p > 10% yellow M&Ms\n",
    "- Significance level = $\\alpha$ = 0.05\n",
    "- Observed sample data has 1 yellow out of 5 M&Ms.  Using binomial distribution symbology, k = 1 and n = 5.\n",
    "- The p-value is by definition the probability of getting data at least as favorable to the alternative hypothesis as the observed sample data.  Getting  1 or more yellows when choosing 5, lines up with the alternative hypothesis of p > 10% yellow.\n",
    "- p-value: P(k >= 1| n = 5, p = 0.10)."
   ]
  },
  {
   "cell_type": "code",
   "execution_count": 84,
   "id": "93d7f1ed-5a3b-44e0-81b8-b7864d4a1b9b",
   "metadata": {},
   "outputs": [
    {
     "name": "stdout",
     "output_type": "stream",
     "text": [
      "The p-value is 0.40951.  We do not need to double anything as this is a one-tailed hypothesis.\n"
     ]
    }
   ],
   "source": [
    "# Input parameters\n",
    "k_start = 1\n",
    "k_end = 5\n",
    "my_n = 5\n",
    "my_p = 0.10\n",
    "\n",
    "binomial_object = stats.binom(n=my_n, p=my_p)\n",
    "\n",
    "# Calculate probability with for loop and PMF\n",
    "probability = 0\n",
    "for k in range(k_start, k_end + 1):\n",
    "    probability += binomial_object.pmf(k)\n",
    "\n",
    "print(\n",
    "    f\"The p-value is {probability}.  We do not need to double anything as this is a one-tailed hypothesis.\"\n",
    ")"
   ]
  },
  {
   "cell_type": "markdown",
   "id": "20f0a21d-da0c-461e-b7f2-7e546caad034",
   "metadata": {},
   "source": [
    "- With a p-value of 0.41, we fail to reject the null hypothesis.  We stick with the belief yellow M&Ms are 10% of the population."
   ]
  },
  {
   "cell_type": "markdown",
   "id": "6be15fc1-4589-4875-aec5-16616a568a9d",
   "metadata": {},
   "source": [
    "---"
   ]
  },
  {
   "cell_type": "markdown",
   "id": "c4a6ca00-49cf-4d5e-93ef-193da39806fa",
   "metadata": {},
   "source": [
    "### Bayesian Example\n",
    "- **Prompt**--same as above\n",
    "- In Bayesian inference we do NOT have a H~0~.  We can consider multiple hypotheses at once.\n",
    "    1. H~1~: p = 10% yellow M&Ms\n",
    "    1. H~2~: p = 20% yellow M&Ms\n",
    "\n",
    "**Prior**\n",
    "\n",
    "- Prior: P(H~1~) = 0.50, P(H~2~) = 0.50.  We initially don't have any idea if one hypothesis is better than the other so we give each 50% probability.\n",
    "- Observed sample data has 1 yellow out of 5 M&Ms.  Using binomial distribution symbology, k = 1 and n = 5.\n",
    "\n",
    "**Likelihood**\n",
    "\n",
    "- Likelihood is calculated using the binomial distribution\n",
    "- For H~1~: p = 10% yellow M&Ms\n",
    "- For H~2~: p = 20% yellow M&Ms\n",
    "\n",
    "- Likelihood\n",
    "    1. H~1~ = 0.33\n",
    "    1. H~2~ = 0.41"
   ]
  },
  {
   "cell_type": "code",
   "execution_count": 85,
   "id": "09db7b04-734b-41a3-96bb-605c326f93b6",
   "metadata": {},
   "outputs": [
    {
     "name": "stdout",
     "output_type": "stream",
     "text": [
      "Using the binomial distribution, we can calulate the likelihood of P(k = 1 | H1) = 0.33.\n"
     ]
    }
   ],
   "source": [
    "# Input parameters\n",
    "my_k = 1\n",
    "my_n = 5\n",
    "my_p = 0.1\n",
    "\n",
    "binomial_object = stats.binom(n=my_n, p=my_p)\n",
    "my_prob = binomial_object.pmf(my_k)\n",
    "\n",
    "\n",
    "print(f\"Using the binomial distribution, we can calulate the likelihood of P(k = 1 | H1) = {round(my_prob, 2)}.\")"
   ]
  },
  {
   "cell_type": "code",
   "execution_count": 86,
   "id": "b80b325b-5778-41d1-87ad-e142656b8552",
   "metadata": {},
   "outputs": [
    {
     "name": "stdout",
     "output_type": "stream",
     "text": [
      "Using the binomial distribution, we can calulate the likelihood of P(k = 1 | H2) = 0.41.\n"
     ]
    }
   ],
   "source": [
    "# Input parameters\n",
    "my_k = 1\n",
    "my_n = 5\n",
    "my_p = 0.2\n",
    "\n",
    "binomial_object = stats.binom(n=my_n, p=my_p)\n",
    "my_prob = binomial_object.pmf(my_k)\n",
    "\n",
    "print(f\"Using the binomial distribution, we can calulate the likelihood of P(k = 1 | H2) = {round(my_prob, 2)}.\")"
   ]
  },
  {
   "cell_type": "markdown",
   "id": "0da79e91-56fa-46bd-a4fe-36046a484883",
   "metadata": {},
   "source": [
    "**Posterior Probability**\n",
    "\n",
    "- Posterior probability is calculated using Bayes's rule\n",
    "- $\\text{P(hypothesis|data)} = \\frac{\\text{P(data|hypothesis) x P(hypothesis)}}{\\text{P(data|hypothesis) x P(hypothesis)  +  P(data|complement hypothesis) x P(complement hypothesis)}}$\n",
    "- For H~1~\n",
    "  - P(hypothesis) = P(H~1~) = prior = 0.5\n",
    "  - P(data|hypothesis) = likelihood = 0.33\n",
    "  - P(complement hypothesis) = P(H~2~) = 0.5\n",
    "  - P(data|complement hypothesis) = likelihood of H~2~ = 0.41\n",
    "- For H~2~\n",
    "  - P(hypothesis) = P(H~2~) = prior = 0.5\n",
    "  - P(data|hypothesis) = likelihood = 0.41\n",
    "  - P(complement hypothesis) = P(H~1~) 0.5\n",
    "  - P(data|complement hypothesis) = likelihood of H~1~ = 0.33"
   ]
  },
  {
   "cell_type": "code",
   "execution_count": 87,
   "id": "3efcc973-ef07-4fd0-8acd-8a3e3c1c94f9",
   "metadata": {},
   "outputs": [
    {
     "name": "stdout",
     "output_type": "stream",
     "text": [
      "The posterior probabilitiy for H~1~ is 0.45\n"
     ]
    }
   ],
   "source": [
    "prior = 0.5\n",
    "like = 0.33\n",
    "prior_comp = 0.5\n",
    "like_comp = 0.41\n",
    "\n",
    "posterior_prob = (like * prior) / (like * prior + like_comp * prior_comp)\n",
    "\n",
    "print(f\"The posterior probabilitiy for H~1~ is {round(posterior_prob,2)}\")"
   ]
  },
  {
   "cell_type": "code",
   "execution_count": 88,
   "id": "1e58d2e3-6dfe-461c-816e-4372d43e6abe",
   "metadata": {},
   "outputs": [
    {
     "name": "stdout",
     "output_type": "stream",
     "text": [
      "The posterior probabilitiy for H~2~ is 0.55\n"
     ]
    }
   ],
   "source": [
    "prior = 0.5\n",
    "like = 0.41\n",
    "prior_comp = 0.5\n",
    "like_comp = 0.33\n",
    "\n",
    "posterior_prob = (like * prior) / (like * prior + like_comp * prior_comp)\n",
    "print(f\"The posterior probabilitiy for H~2~ is {round(posterior_prob,2)}\")"
   ]
  },
  {
   "cell_type": "markdown",
   "id": "c014db1d-678d-4ed4-af0f-808209e06902",
   "metadata": {},
   "source": [
    "- Posterior probabilities\n",
    "  - H~1~ = 0.45.  There is a 45% probability that the true population parameter is 10% yellow M&Ms.\n",
    "  - H~2~ = 0.55.  There is a 55% probability that the true population parameter is 20% yellow M&Ms.\n",
    "- Using Bayesian inference we would choose the higher probability hypothesis.  This is H~2~, P(yellow = 20%).\n",
    "- Using frequentist inference we failed to reject the H~0~,  P(yellow = 10%).  However if we switched 10% and 20% yellow between H~0~ and H~A~, we would come to the opposite conclusions.  This shows that **frequentist method is highly sensitive to the null hypothesis**.\n",
    "- We can also look at what would happen if we use the same sample proportion of yellows, 20%, but used a larger sample size.  **As sample size increases, the likelihood becomes more important and the prior becomes less important (as long as no priors are 0 or 1)**.\n",
    "\n",
    "![](pictures/bayesian_prop_ex.jpg)"
   ]
  },
  {
   "cell_type": "markdown",
   "id": "09d0249e-38bb-4a26-9a97-a131cceb1c64",
   "metadata": {},
   "source": [
    "---"
   ]
  },
  {
   "cell_type": "markdown",
   "id": "c6792f23-efa1-4813-8d56-e068db3c961d",
   "metadata": {},
   "source": [
    "### Updating Priors Example\n",
    "- We'll show a probability tree similar to the one first introduced in *Probability*.  The difference is that the first one used HIV data from Botswana while this one will use HIV data from the U.S. in the early 1980s.  The goal is to find the probability of truly having HIV given a positive HIV test result. P(Truly having HIV | + test result).  We'll shorten this to P(HIV | +).  We'll then repeat this process after updating our prior.  Updating our prior after learning new information is unique to Bayesian inference.\n",
    "\n",
    "1. Prior Probability\n",
    "    - P(A).  P(hypothesis). P(HIV).\n",
    "    - The tree first splits based on whether or not an individual has HIV.  This true rate for the U.S. population at the time was estimated to be 0.00148.  Without any further data, this would be our best guess for the probability that an adult truly has HIV. \n",
    "    - P(HIV) =  0.00148\n",
    "1. Likelihood\n",
    "    - P(B|A).  P(data | hypothesis). P(+ | HIV).\n",
    "    - The tree then splits based on whether an HIV test would return a positive or negative result given an individual truly has HIV or not.  These are rates of true positives (sensitivity), true negatives (specificity), false negatives, and false positives. \n",
    "    - P(+ | HIV) =  0.93\n",
    "1. Posterior Probability\n",
    "    - P(A|B).  P(Hypothesis | Data).  P(HIV | +).\n",
    "    - In the *Probabilities* section we mostly focused on calculating joint probabilities,  P(A AND B), by multiplying the prior and the likelihood together.  This is the general multiplication rule.  We now use Bayes's rule to find P(A|B).\n",
    "    - The numerator is the joint probability, P(HIV AND + ), which can be written as:\n",
    "      - P(+ | HIV) x P(HIV) = (0.93) x (0.00148) = 0.0013764 \n",
    "    - The denominator is P(B).  This is the probability of a + test result, which could be from someone who truly has HIV (Hypothesis) or be a false positive from someone who does not truly have HIV.  Not having HIV is our \"complement hypothesis\".  It could also just be written H~2~.  Regardless, the denominator is the sum of these joint probabilities.  This can be written as: \n",
    "      - P(+ | HIV) x P(HIV) + P(+ | HIV^c^) x  P(HIV^c^) = (0.93) x (0.00148) + (0.01) x (0.99852) = 0.01136.\n",
    "    - P(HIV | +) = 0.0013764/0.01136 = 0.12.  There is a 12% probability of truly having HIV give the data.  This is after 1 positive test result.  But what if we test again?\n",
    "\n",
    "![](pictures/prob_tree_hiv_2.jpg)\n",
    "\n",
    "4. Updating Prior\n",
    "    -  Let's test a second time.  Now our best guess (prior) for whether they have HIV is 0.12.  This is called *updating the prior*.  We'll use this prior and data from the second test to calculate a new posterior probability.\n",
    "    - After updating we repeat the tree process.  The HIV test has not changed so we use the  same likelihoods.  Next we multiply across to find joint probabilities.  Lastly we use the joint probabilities in  Bayes's rule to calculate our posterior probability.\n",
    "    - Below we see that the P(Truly having HIV | + HIV test) is now 0.93.  This is after incorporating data for 2 positive test results.\n",
    "    \n",
    "![](pictures/prob_tree_hiv_3.jpg)"
   ]
  },
  {
   "cell_type": "markdown",
   "id": "a807c90c-8add-4ddf-99ee-05868bf82260",
   "metadata": {},
   "source": [
    "---"
   ]
  },
  {
   "cell_type": "markdown",
   "id": "b5fe5fd5-7be5-4a3a-928e-18e933d1b83f",
   "metadata": {},
   "source": [
    "### Bayes Factor\n",
    "- When deciding between hypotheses we often simply choose the hypothesis with the highest probability.  However, we can also incorporate the idea of Bayes factor into our choice of hypotheses.\n",
    "- **Prior odds**---ratio of the prior of one hypothesis to another\n",
    "  - O[H~1~ : H~2~] = $\\frac{P(H_1)}{P(H_2)}$\n",
    "- **Posterior odds**---ratio of the posterior of one hypothesis to another\n",
    "  - O[H~1~ : H~2~] = $\\frac{P(H_1|D)}{P(H_2|D)}$\n",
    "- **Likelihood odds**---ratio of likelihood of one hypothesis to another.  This is the **Bayes factor**.\n",
    "\n",
    "![](pictures/bayes_factor.jpg)\n",
    "\n",
    "- Bayes factor ignores the prior and only takes into account the sample data\n",
    "- Bayes factor compares two hypotheses.  Because of this, Bayes factor can be used in null hypothesis testing using Bayesian methods.\n",
    "- The order we write the two hypotheses matter. A Bayes factor above one indicates that the data supports the hypothesis in the numerator.  A Bayes factor below one indicates that the data supports the hypothesis in the denominator."
   ]
  },
  {
   "cell_type": "markdown",
   "id": "3c7ca99e-766b-4965-a9ea-1a46793184df",
   "metadata": {},
   "source": [
    "---"
   ]
  },
  {
   "cell_type": "markdown",
   "id": "9c33a96d-141b-4f55-92a5-42bdc15fc7c6",
   "metadata": {},
   "source": [
    "## Continuous Prior\n",
    "- A continuous prior is almost like imagining each point on the number line is a hypothesis (infinitely many hypotheses).  The x-axis shows the population parameter defined by the hypotheses, while the y-axis shows the probability density of the hypotheses being true.  In the following example we can see how having a bunch of discrete hypotheses starts to look like a continuous prior.\n",
    "\n",
    "![](pictures/bayesian_discrete_to_continuous.jpg)\n",
    "\n",
    "- A continuous prior probability distribution leads to a continuous posterior probability distribution\n",
    "- The following graphs shows how the posterior is a combination of our prior and likelihood, just like it is for discrete hypotheses:\n",
    "\n",
    "![](pictures/bayesian_example.png)\n",
    "\n",
    "![](pictures/prior_likelihood_posterior_graph.jpg)\n",
    "\n",
    "- We won't go through any example problems for continuous prior, but instead introduce some big picture ideas"
   ]
  },
  {
   "cell_type": "markdown",
   "id": "7332a45b-5b98-492e-94b2-5f9b16ac6311",
   "metadata": {},
   "source": [
    "---"
   ]
  },
  {
   "cell_type": "markdown",
   "id": "13958b1a-608c-43f0-824f-69bca6b73ab0",
   "metadata": {
    "tags": []
   },
   "source": [
    "### Beta and Gamma\n",
    "- Beta and gamma distributions are commonly used in Bayesian statistics"
   ]
  },
  {
   "cell_type": "markdown",
   "id": "65488312-372d-46e5-bd37-f1ac7a2984b5",
   "metadata": {},
   "source": [
    "**Beta Distribution**\n",
    "\n",
    "![](pictures/beta_distribution.jpg)\n",
    "\n",
    "- Note that when alpha = beta = 1 it forms a uniform distribution.  The uniform distribution is a special case of the beta distribution.\n",
    "- Mean = $\\frac{\\alpha}{\\alpha + \\beta}$"
   ]
  },
  {
   "cell_type": "markdown",
   "id": "663045f6-5e04-4ac6-964d-8f62b311cd46",
   "metadata": {},
   "source": [
    "**Gamma Distribution**\n",
    "\n",
    "- Note that the gamma distribution uses continuous non-negative numbers\n",
    "- Note that sometimes people use different parameters.  $\\alpha$ and $\\beta$ are often used instead of k and $\\theta$.\n",
    "\n",
    "![](pictures/gamm_distribution.jpg)\n",
    "\n",
    "- Mean = $k\\theta$\n",
    "- SD = $\\theta\\sqrt{k}$"
   ]
  },
  {
   "cell_type": "markdown",
   "id": "5c0b0b1a-fd7a-4c6c-958f-1886de9727a6",
   "metadata": {},
   "source": [
    "---"
   ]
  },
  {
   "cell_type": "markdown",
   "id": "2a39f357-f2bc-4c24-8831-786b9097fa44",
   "metadata": {},
   "source": [
    "### Elicitation\n",
    "- **Elicitation**---choosing a prior for hypotheses.  \n",
    "- Note that if we set a \"weak\" or \"uninformative\" prior, our prior has a weaker influence on the posterior.   Our observed data (represented by the likelihood) has a larger impact on the posterior.  It is perfectly fine to have a \"weak\" prior.  In many cases it is actually preferred as our data has a greater impact on the posterior.\n",
    "- Note that if we set a \"strong\" or \"informative\" prior, our prior has a stronger influence on the posterior.  Our observed data (represented by the likelihood) has a lesser impact.\n",
    "\n",
    "![](pictures/prior_weak_strong.jpg)\n",
    "\n",
    "- **Reference Prior**---pre-defined prior we can use when we do not have information to base our prior on.  They are priors created by others that work well for certain circumstances."
   ]
  },
  {
   "cell_type": "markdown",
   "id": "9fdfe003-ed50-48d0-9b99-161b8987ce44",
   "metadata": {},
   "source": [
    "---"
   ]
  },
  {
   "cell_type": "markdown",
   "id": "f8abe95c-7dbc-4b86-a3cb-f788fffae69b",
   "metadata": {
    "tags": []
   },
   "source": [
    "### Conjugate Prior\n",
    "- **Conjugacy**---when the posterior distribution has the same distribution type (normal, binomial, etc.) as our prior distribution, but with new parameters.  \n",
    "- When the prior and posterior are conjugate, we can compute the denominator in Bayes's rule *without* calculus.  This was super important before fast computers.\n",
    "- **Conjugate Family**---conjugacy only occurs when the population data (and thus the likelihood) belongs to certain distribution types and the prior distribution belongs to certain distribution types. A combination of population and prior distribution types that lead to conjugacy is called a conjugate family.  We'll explore four conjugate families, but there are many more.\n",
    "    1. **Beta-binomial**.  When the population (and thus the likelihood) is a binomial distribution and the prior is a beta distribution. This allows us to calculate the posterior probability distribution without calculus.  It is simply $α + x$ and $β + n - x$, where x is the number of successes and n is the sample size of our observed data.  $\\alpha$ and $\\beta$ are the parameters of the beta function.\n",
    "        - E.g. We have a prior expressed as beta distribution with parameters $\\alpha$ = 3 and $\\beta$ = 2.  We play 5 games of poker and win 4 of them.  $\\alpha$ = 3 + 4 = 7.  $\\beta$ = 2 + 5 - 4 = 3.  Our posterior distribution is still a beta distribution but with the new parameters $\\alpha$ = 7 and $\\beta$ = 3.\n",
    "    1. **gamma-Poisson**.  When the population (and thus the likelihood) is a Poisson distribution and the prior is a gamma distribution.  This allows us to calculate the posterior distribution without calculus.  The posterior gamma parameters are $k^* = k + \\sum x_i$ and $\\theta^* = \\frac{\\theta}{n\\theta + 1}$.  $x_i$ represents all the observed sample values in the Poisson distribution.  $n$ represents the the number of time intervals that have elapsed while collecting the sample values.\n",
    "        - E.g. We have a prior expressed as a gamma distribution with parameters k = 9/16 and $\\theta$ = 4/3.  Our observed data sample size is 300 and the sum of all our observed values is 200.  K* = (9/16) + 200 $\\approx$ 200. $\\theta$* = (4/3) / (300 x (4/3) + 1) = 0.0033.\n",
    "    1. **Normal-Normal**.  When the population (and thus the likelihood) is a normal distribution and the prior is also a normal distribution.  We do not need to know the population mean, but do need to know the population standard deviation.  For this reason, the normal-normal family is not as useful as it initially seems. However, if we know $\\sigma$, then we can calculate the posterior distribution without calculus.  We use $\\mu$ and $\\sigma$ for the parameters of the population distribution.  We use $\\nu$     (nu) for the self-elicited (subjectively chosen) mean of the prior distribution and $\\tau$ (tau) for the self-elicited standard deviation of the prior distribution. The posterior normal parameters are then $\\nu^* = \\frac{\\nu\\sigma^2 + n\\bar{x}\\tau^2}{\\sigma^2 + n\\tau^2}$ and $\\tau^* = \\sqrt{\\frac{\\sigma^2\\tau^2}{\\sigma^2 + n\\tau^2}}$\n",
    "        - E.g. a population has an unknown $\\mu$ and $\\sigma$ = 0.2  Prior has $\\nu$ = 10 and $\\tau$ = 2.  Observed sample data is a sample size of 5 and an average of 10.5.  We'll calculate the nu and tau of the posterior normal distribution.\n",
    "      - $\\nu^* = \\frac{(10)(0.2)^2 + (5)(10.5)(2)^2}{0.2^2 + (5)(2)^2} = 10.499$\n",
    "      - $\\tau^* = \\sqrt{\\frac{(0.2)^22^2}{0.2^2 + (5)(2)^2}} =0.089$\n",
    "    1. **Normal-gamma**.  When the population (and thus the likelihood) is a normal distribution and the prior is a gamma distribution.  This is used when we do NOT know the population mean and do NOT know the population standard deviation.  This allows us to calculate the posterior distribution without calculus.  Formulas get more complex with lots of hyperparameters.\n",
    "- **Hyperparameters**---term used to describe the parameters of the prior and posterior distributions in conjugate pairs.  Term invented to reduce confusion when talking about the population parameters."
   ]
  },
  {
   "cell_type": "markdown",
   "id": "110c2df2-ac9f-40bb-830c-1bf0b64299f0",
   "metadata": {},
   "source": [
    "---"
   ]
  },
  {
   "cell_type": "markdown",
   "id": "9552c60b-4af9-473a-be9d-e74d38449500",
   "metadata": {},
   "source": [
    "### Non-Conjugate Prior\n",
    "- Conjugacy allows us to calculate posterior probabilities without using calculus for certain situations.  Unfortunately, not every computation of Bayes's rule is possible with conjugate pairs.  Before computers we were SOL.  Now there are more advanced computer assisted methods.\n",
    "- **JAGS**---stands for Just Another Gibbs Sampler.  Computer assisted method to calculate posterior probabilities.  Written with BUGS (Bayesian Using Gibbs Sampling) language syntax.  Uses Markov chain Monte Carlo (MCMC) methods.  It  It can be run in R with packages like `R2jags`.\n",
    "- **Stan**---computer assisted method to calculate posterior probabilities. Written with Stan language syntax.  Uses Markov chain Monte Carlo (MCMC) methods and well as a few others.  It can be run in R with packages like `Rstan`.  Newer program that may do better than JAGS for complex methods.\n",
    "- **Monte Carlo Markov chain (MCMC)**---computational algorithm that relies on repeated random sampling to calculate results and their probabilities"
   ]
  },
  {
   "cell_type": "markdown",
   "id": "8cd1aa93-0ff2-4065-a971-4fed8065d07c",
   "metadata": {},
   "source": [
    "---"
   ]
  },
  {
   "cell_type": "markdown",
   "id": "01dfb362-f825-453b-a03c-90c3bc1e6536",
   "metadata": {
    "tags": []
   },
   "source": [
    "### Credible Intervals\n",
    "- Analogous to frequentist confidence intervals\n",
    "- Allows us to say, \"There is a `<CREDIBLE_LEVEL>`% probability that the true population parameter is in the credible interval.\"\n",
    "- Credible intervals can be created when we use a continuous hypothesis.  We find the posterior distribution using a conjugate prior or a non-conjugate prior.  Next we shade an interval under the curve that captures `<CREDIBLE_LEVEL>`% of the data.  This is similar to creating a bootstrap confidence interval.\n",
    "- There are two types of credible intervals:\n",
    "    1. **Equal Tails**---method of finding credible interval where we we require equal probability in both tails.  For a 95% credible interval there would be 2.5% probability in the lower tail and 2.5% probability in the upper tail.\n",
    "    1. **HPD**---highest posterior density. We position the credible interval more directly over the area of the probability distribution with the highest probability density.  This returns the narrowest credible interval possible.  HPD is preferred over equal tails for this reason.\n",
    "\n",
    "![](pictures/credible_interval_hdp.jpg)"
   ]
  },
  {
   "cell_type": "markdown",
   "id": "8555efdf-4a82-4272-bc83-c846822e5472",
   "metadata": {},
   "source": [
    "---"
   ]
  },
  {
   "cell_type": "markdown",
   "id": "f5826c7e-d479-45d8-8553-40e3e47aeedd",
   "metadata": {},
   "source": [
    "# More to Explore\n",
    "- We have provided a broad background in many subfields of statistics, yet there is always more to learn.  A few primary areas we could explore in the future include:\n",
    "    1. Study design and data interpretation for complex random sampling methods\n",
    "    1. Simulation based frequentist inference\n",
    "    1. Multiple linear, polynomial, and logistic regression\n",
    "    1. Bayesian inference"
   ]
  },
  {
   "cell_type": "markdown",
   "id": "ff16cb1a-a890-475f-9ff5-428781c5056f",
   "metadata": {},
   "source": [
    "---"
   ]
  }
 ],
 "metadata": {
  "kernelspec": {
   "display_name": "Python 3 (ipykernel)",
   "language": "python",
   "name": "python3"
  },
  "language_info": {
   "codemirror_mode": {
    "name": "ipython",
    "version": 3
   },
   "file_extension": ".py",
   "mimetype": "text/x-python",
   "name": "python",
   "nbconvert_exporter": "python",
   "pygments_lexer": "ipython3",
   "version": "3.9.9"
  }
 },
 "nbformat": 4,
 "nbformat_minor": 5
}
